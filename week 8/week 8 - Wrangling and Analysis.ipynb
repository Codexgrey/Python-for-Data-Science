{
 "cells": [
  {
   "cell_type": "code",
   "execution_count": 14,
   "id": "c0e07423",
   "metadata": {},
   "outputs": [],
   "source": [
    "import numpy as np\n",
    "import pandas as pd"
   ]
  },
  {
   "cell_type": "code",
   "execution_count": 10,
   "id": "ff28d45d",
   "metadata": {},
   "outputs": [
    {
     "data": {
      "text/plain": [
       "20"
      ]
     },
     "execution_count": 10,
     "metadata": {},
     "output_type": "execute_result"
    }
   ],
   "source": [
    "num = 10 + 10\n",
    "num"
   ]
  },
  {
   "cell_type": "code",
   "execution_count": 11,
   "id": "fbfbfd97",
   "metadata": {},
   "outputs": [
    {
     "data": {
      "text/plain": [
       "array([ 29,  54, 478, 232,  12,  45,  90])"
      ]
     },
     "execution_count": 11,
     "metadata": {},
     "output_type": "execute_result"
    }
   ],
   "source": [
    "first_nump = np.array([29, 54, 478, 232, 12, 45, 90])\n",
    "first_nump"
   ]
  },
  {
   "cell_type": "markdown",
   "id": "44af9f77",
   "metadata": {},
   "source": [
    "##### creating dataframes"
   ]
  },
  {
   "cell_type": "code",
   "execution_count": 12,
   "id": "02fcc4f4",
   "metadata": {},
   "outputs": [
    {
     "data": {
      "text/html": [
       "<div>\n",
       "<style scoped>\n",
       "    .dataframe tbody tr th:only-of-type {\n",
       "        vertical-align: middle;\n",
       "    }\n",
       "\n",
       "    .dataframe tbody tr th {\n",
       "        vertical-align: top;\n",
       "    }\n",
       "\n",
       "    .dataframe thead th {\n",
       "        text-align: right;\n",
       "    }\n",
       "</style>\n",
       "<table border=\"1\" class=\"dataframe\">\n",
       "  <thead>\n",
       "    <tr style=\"text-align: right;\">\n",
       "      <th></th>\n",
       "      <th>name</th>\n",
       "      <th>nationality</th>\n",
       "      <th>gender</th>\n",
       "      <th>age</th>\n",
       "    </tr>\n",
       "  </thead>\n",
       "  <tbody>\n",
       "    <tr>\n",
       "      <th>0</th>\n",
       "      <td>Stan Lee</td>\n",
       "      <td>American</td>\n",
       "      <td>Male</td>\n",
       "      <td>83</td>\n",
       "    </tr>\n",
       "    <tr>\n",
       "      <th>1</th>\n",
       "      <td>Cosmin Pollar</td>\n",
       "      <td>Czech</td>\n",
       "      <td>Male</td>\n",
       "      <td>25</td>\n",
       "    </tr>\n",
       "    <tr>\n",
       "      <th>2</th>\n",
       "      <td>Marek Gibzic</td>\n",
       "      <td>Slovak</td>\n",
       "      <td>Male</td>\n",
       "      <td>30</td>\n",
       "    </tr>\n",
       "    <tr>\n",
       "      <th>3</th>\n",
       "      <td>Anton Zebi</td>\n",
       "      <td>American</td>\n",
       "      <td>Male</td>\n",
       "      <td>21</td>\n",
       "    </tr>\n",
       "    <tr>\n",
       "      <th>4</th>\n",
       "      <td>Inkara Merila</td>\n",
       "      <td>Honduran</td>\n",
       "      <td>Female</td>\n",
       "      <td>33</td>\n",
       "    </tr>\n",
       "  </tbody>\n",
       "</table>\n",
       "</div>"
      ],
      "text/plain": [
       "            name nationality  gender  age\n",
       "0       Stan Lee    American    Male   83\n",
       "1  Cosmin Pollar       Czech    Male   25\n",
       "2   Marek Gibzic      Slovak    Male   30\n",
       "3     Anton Zebi    American    Male   21\n",
       "4  Inkara Merila    Honduran  Female   33"
      ]
     },
     "execution_count": 12,
     "metadata": {},
     "output_type": "execute_result"
    }
   ],
   "source": [
    "first_df = pd.DataFrame({\n",
    "    \"name\" : [\"Stan Lee\", \"Cosmin Pollar\", \"Marek Gibzic\", \"Anton Zebi\", \"Inkara Merila\"],\n",
    "    \"nationality\" : [\"American\", \"Czech\", \"Slovak\", \"American\", \"Honduran\"],\n",
    "    \"gender\" : [\"Male\", \"Male\", \"Male\", \"Male\", \"Female\"],\n",
    "    \"age\" : [83, 25, 30, 21, 33]\n",
    "})\n",
    "first_df"
   ]
  },
  {
   "cell_type": "code",
   "execution_count": 15,
   "id": "f02d8fb5",
   "metadata": {},
   "outputs": [
    {
     "name": "stdout",
     "output_type": "stream",
     "text": [
      "<class 'pandas.core.frame.DataFrame'>\n",
      "RangeIndex: 5 entries, 0 to 4\n",
      "Data columns (total 4 columns):\n",
      " #   Column       Non-Null Count  Dtype \n",
      "---  ------       --------------  ----- \n",
      " 0   name         5 non-null      object\n",
      " 1   nationality  5 non-null      object\n",
      " 2   gender       5 non-null      object\n",
      " 3   age          5 non-null      int64 \n",
      "dtypes: int64(1), object(3)\n",
      "memory usage: 288.0+ bytes\n",
      "(5, 4) None\n"
     ]
    },
    {
     "data": {
      "text/html": [
       "<div>\n",
       "<style scoped>\n",
       "    .dataframe tbody tr th:only-of-type {\n",
       "        vertical-align: middle;\n",
       "    }\n",
       "\n",
       "    .dataframe tbody tr th {\n",
       "        vertical-align: top;\n",
       "    }\n",
       "\n",
       "    .dataframe thead th {\n",
       "        text-align: right;\n",
       "    }\n",
       "</style>\n",
       "<table border=\"1\" class=\"dataframe\">\n",
       "  <thead>\n",
       "    <tr style=\"text-align: right;\">\n",
       "      <th></th>\n",
       "      <th>age</th>\n",
       "    </tr>\n",
       "  </thead>\n",
       "  <tbody>\n",
       "    <tr>\n",
       "      <th>count</th>\n",
       "      <td>5.000000</td>\n",
       "    </tr>\n",
       "    <tr>\n",
       "      <th>mean</th>\n",
       "      <td>38.400000</td>\n",
       "    </tr>\n",
       "    <tr>\n",
       "      <th>std</th>\n",
       "      <td>25.353501</td>\n",
       "    </tr>\n",
       "    <tr>\n",
       "      <th>min</th>\n",
       "      <td>21.000000</td>\n",
       "    </tr>\n",
       "    <tr>\n",
       "      <th>25%</th>\n",
       "      <td>25.000000</td>\n",
       "    </tr>\n",
       "    <tr>\n",
       "      <th>50%</th>\n",
       "      <td>30.000000</td>\n",
       "    </tr>\n",
       "    <tr>\n",
       "      <th>75%</th>\n",
       "      <td>33.000000</td>\n",
       "    </tr>\n",
       "    <tr>\n",
       "      <th>max</th>\n",
       "      <td>83.000000</td>\n",
       "    </tr>\n",
       "  </tbody>\n",
       "</table>\n",
       "</div>"
      ],
      "text/plain": [
       "             age\n",
       "count   5.000000\n",
       "mean   38.400000\n",
       "std    25.353501\n",
       "min    21.000000\n",
       "25%    25.000000\n",
       "50%    30.000000\n",
       "75%    33.000000\n",
       "max    83.000000"
      ]
     },
     "execution_count": 15,
     "metadata": {},
     "output_type": "execute_result"
    }
   ],
   "source": [
    "print(\n",
    "    first_df.shape, \n",
    "    first_df.info()\n",
    ")\n",
    "first_df.describe()"
   ]
  },
  {
   "cell_type": "markdown",
   "id": "e323c173",
   "metadata": {},
   "source": [
    "##### reading from an exixsting file"
   ]
  },
  {
   "cell_type": "code",
   "execution_count": 21,
   "id": "cdbba684",
   "metadata": {},
   "outputs": [
    {
     "name": "stdout",
     "output_type": "stream",
     "text": [
      "(10050, 3)\n"
     ]
    },
    {
     "data": {
      "text/html": [
       "<div>\n",
       "<style scoped>\n",
       "    .dataframe tbody tr th:only-of-type {\n",
       "        vertical-align: middle;\n",
       "    }\n",
       "\n",
       "    .dataframe tbody tr th {\n",
       "        vertical-align: top;\n",
       "    }\n",
       "\n",
       "    .dataframe thead th {\n",
       "        text-align: right;\n",
       "    }\n",
       "</style>\n",
       "<table border=\"1\" class=\"dataframe\">\n",
       "  <thead>\n",
       "    <tr style=\"text-align: right;\">\n",
       "      <th></th>\n",
       "      <th>name</th>\n",
       "      <th>sales</th>\n",
       "      <th>date</th>\n",
       "    </tr>\n",
       "  </thead>\n",
       "  <tbody>\n",
       "    <tr>\n",
       "      <th>0</th>\n",
       "      <td>Sebastian Waite</td>\n",
       "      <td>607193</td>\n",
       "      <td>1/1/2020</td>\n",
       "    </tr>\n",
       "    <tr>\n",
       "      <th>1</th>\n",
       "      <td>Lizzie Haggins</td>\n",
       "      <td>1171366</td>\n",
       "      <td>1/1/2020</td>\n",
       "    </tr>\n",
       "    <tr>\n",
       "      <th>2</th>\n",
       "      <td>Ima Gaudreau</td>\n",
       "      <td>941504</td>\n",
       "      <td>1/1/2020</td>\n",
       "    </tr>\n",
       "    <tr>\n",
       "      <th>3</th>\n",
       "      <td>Leticia Michelsen</td>\n",
       "      <td>721826</td>\n",
       "      <td>1/1/2020</td>\n",
       "    </tr>\n",
       "    <tr>\n",
       "      <th>4</th>\n",
       "      <td>Stanley Margolin</td>\n",
       "      <td>904494</td>\n",
       "      <td>1/1/2020</td>\n",
       "    </tr>\n",
       "  </tbody>\n",
       "</table>\n",
       "</div>"
      ],
      "text/plain": [
       "                 name    sales      date\n",
       "0    Sebastian Waite    607193  1/1/2020\n",
       "1     Lizzie Haggins   1171366  1/1/2020\n",
       "2       Ima Gaudreau    941504  1/1/2020\n",
       "3  Leticia Michelsen    721826  1/1/2020\n",
       "4   Stanley Margolin    904494  1/1/2020"
      ]
     },
     "execution_count": 21,
     "metadata": {},
     "output_type": "execute_result"
    }
   ],
   "source": [
    "new_file = pd.read_csv(\"fileInpOut/ecorp data.csv\")\n",
    "print(new_file.shape)\n",
    "new_file.head()"
   ]
  },
  {
   "cell_type": "markdown",
   "id": "861fa8ac",
   "metadata": {},
   "source": [
    "##### Accessing Series"
   ]
  },
  {
   "cell_type": "code",
   "execution_count": 33,
   "id": "6edf5d3e",
   "metadata": {},
   "outputs": [
    {
     "name": "stdout",
     "output_type": "stream",
     "text": [
      "\n",
      "    0         Stan Lee\n",
      "1    Cosmin Pollar\n",
      "2     Marek Gibzic\n",
      "3       Anton Zebi\n",
      "4    Inkara Merila\n",
      "Name: name, dtype: object,\n",
      "    \n",
      "\n",
      "    0    83\n",
      "1    25\n",
      "2    30\n",
      "3    21\n",
      "4    33\n",
      "Name: age, dtype: int64,\n",
      "    \n",
      "\n",
      "    38.4,\n",
      "    \n",
      "\n",
      "    25.353500744473138,\n",
      "    \n",
      "\n",
      "    ['American' 'Czech' 'Slovak' 'Honduran'],\n",
      "    \n",
      "\n",
      "    American    2\n",
      "Czech       1\n",
      "Slovak      1\n",
      "Honduran    1\n",
      "Name: nationality, dtype: int64,\n",
      "    \n",
      "\n",
      "    0    American\n",
      "dtype: object \n",
      "\n"
     ]
    },
    {
     "data": {
      "text/html": [
       "<div>\n",
       "<style scoped>\n",
       "    .dataframe tbody tr th:only-of-type {\n",
       "        vertical-align: middle;\n",
       "    }\n",
       "\n",
       "    .dataframe tbody tr th {\n",
       "        vertical-align: top;\n",
       "    }\n",
       "\n",
       "    .dataframe thead th {\n",
       "        text-align: right;\n",
       "    }\n",
       "</style>\n",
       "<table border=\"1\" class=\"dataframe\">\n",
       "  <thead>\n",
       "    <tr style=\"text-align: right;\">\n",
       "      <th></th>\n",
       "      <th>name</th>\n",
       "      <th>nationality</th>\n",
       "      <th>gender</th>\n",
       "      <th>age</th>\n",
       "    </tr>\n",
       "  </thead>\n",
       "  <tbody>\n",
       "    <tr>\n",
       "      <th>0</th>\n",
       "      <td>Stan Lee</td>\n",
       "      <td>American</td>\n",
       "      <td>Male</td>\n",
       "      <td>83</td>\n",
       "    </tr>\n",
       "    <tr>\n",
       "      <th>1</th>\n",
       "      <td>Cosmin Pollar</td>\n",
       "      <td>Czech</td>\n",
       "      <td>Male</td>\n",
       "      <td>25</td>\n",
       "    </tr>\n",
       "    <tr>\n",
       "      <th>2</th>\n",
       "      <td>Marek Gibzic</td>\n",
       "      <td>Slovak</td>\n",
       "      <td>Male</td>\n",
       "      <td>30</td>\n",
       "    </tr>\n",
       "    <tr>\n",
       "      <th>3</th>\n",
       "      <td>Anton Zebi</td>\n",
       "      <td>American</td>\n",
       "      <td>Male</td>\n",
       "      <td>21</td>\n",
       "    </tr>\n",
       "    <tr>\n",
       "      <th>4</th>\n",
       "      <td>Inkara Merila</td>\n",
       "      <td>Honduran</td>\n",
       "      <td>Female</td>\n",
       "      <td>33</td>\n",
       "    </tr>\n",
       "  </tbody>\n",
       "</table>\n",
       "</div>"
      ],
      "text/plain": [
       "            name nationality  gender  age\n",
       "0       Stan Lee    American    Male   83\n",
       "1  Cosmin Pollar       Czech    Male   25\n",
       "2   Marek Gibzic      Slovak    Male   30\n",
       "3     Anton Zebi    American    Male   21\n",
       "4  Inkara Merila    Honduran  Female   33"
      ]
     },
     "execution_count": 33,
     "metadata": {},
     "output_type": "execute_result"
    }
   ],
   "source": [
    "print(f\"\"\"\n",
    "    {first_df[\"name\"]},\n",
    "    \\n\n",
    "    {first_df[\"age\"]},\n",
    "    \\n\n",
    "    {first_df[\"age\"].mean()},\n",
    "    \\n\n",
    "    {first_df[\"age\"].std()},\n",
    "    \\n\n",
    "    {first_df[\"nationality\"].unique()},\n",
    "    \\n\n",
    "    {first_df[\"nationality\"].value_counts()},\n",
    "    \\n\n",
    "    {first_df[\"nationality\"].mode()} \n",
    "\"\"\")\n",
    "first_df"
   ]
  },
  {
   "cell_type": "markdown",
   "id": "17a73e40",
   "metadata": {},
   "source": [
    "##### accessing multiple column lists"
   ]
  },
  {
   "cell_type": "code",
   "execution_count": 34,
   "id": "6ccd8b38",
   "metadata": {},
   "outputs": [
    {
     "data": {
      "text/html": [
       "<div>\n",
       "<style scoped>\n",
       "    .dataframe tbody tr th:only-of-type {\n",
       "        vertical-align: middle;\n",
       "    }\n",
       "\n",
       "    .dataframe tbody tr th {\n",
       "        vertical-align: top;\n",
       "    }\n",
       "\n",
       "    .dataframe thead th {\n",
       "        text-align: right;\n",
       "    }\n",
       "</style>\n",
       "<table border=\"1\" class=\"dataframe\">\n",
       "  <thead>\n",
       "    <tr style=\"text-align: right;\">\n",
       "      <th></th>\n",
       "      <th>name</th>\n",
       "      <th>nationality</th>\n",
       "    </tr>\n",
       "  </thead>\n",
       "  <tbody>\n",
       "    <tr>\n",
       "      <th>0</th>\n",
       "      <td>Stan Lee</td>\n",
       "      <td>American</td>\n",
       "    </tr>\n",
       "    <tr>\n",
       "      <th>1</th>\n",
       "      <td>Cosmin Pollar</td>\n",
       "      <td>Czech</td>\n",
       "    </tr>\n",
       "    <tr>\n",
       "      <th>2</th>\n",
       "      <td>Marek Gibzic</td>\n",
       "      <td>Slovak</td>\n",
       "    </tr>\n",
       "    <tr>\n",
       "      <th>3</th>\n",
       "      <td>Anton Zebi</td>\n",
       "      <td>American</td>\n",
       "    </tr>\n",
       "    <tr>\n",
       "      <th>4</th>\n",
       "      <td>Inkara Merila</td>\n",
       "      <td>Honduran</td>\n",
       "    </tr>\n",
       "  </tbody>\n",
       "</table>\n",
       "</div>"
      ],
      "text/plain": [
       "            name nationality\n",
       "0       Stan Lee    American\n",
       "1  Cosmin Pollar       Czech\n",
       "2   Marek Gibzic      Slovak\n",
       "3     Anton Zebi    American\n",
       "4  Inkara Merila    Honduran"
      ]
     },
     "execution_count": 34,
     "metadata": {},
     "output_type": "execute_result"
    }
   ],
   "source": [
    "first_df[[\"name\", \"nationality\"]]"
   ]
  },
  {
   "cell_type": "code",
   "execution_count": 35,
   "id": "c601b02c",
   "metadata": {},
   "outputs": [
    {
     "data": {
      "text/html": [
       "<div>\n",
       "<style scoped>\n",
       "    .dataframe tbody tr th:only-of-type {\n",
       "        vertical-align: middle;\n",
       "    }\n",
       "\n",
       "    .dataframe tbody tr th {\n",
       "        vertical-align: top;\n",
       "    }\n",
       "\n",
       "    .dataframe thead th {\n",
       "        text-align: right;\n",
       "    }\n",
       "</style>\n",
       "<table border=\"1\" class=\"dataframe\">\n",
       "  <thead>\n",
       "    <tr style=\"text-align: right;\">\n",
       "      <th></th>\n",
       "      <th>name</th>\n",
       "      <th>nationality</th>\n",
       "      <th>gender</th>\n",
       "      <th>age</th>\n",
       "    </tr>\n",
       "  </thead>\n",
       "  <tbody>\n",
       "    <tr>\n",
       "      <th>4</th>\n",
       "      <td>Inkara Merila</td>\n",
       "      <td>Honduran</td>\n",
       "      <td>Female</td>\n",
       "      <td>33</td>\n",
       "    </tr>\n",
       "  </tbody>\n",
       "</table>\n",
       "</div>"
      ],
      "text/plain": [
       "            name nationality  gender  age\n",
       "4  Inkara Merila    Honduran  Female   33"
      ]
     },
     "execution_count": 35,
     "metadata": {},
     "output_type": "execute_result"
    }
   ],
   "source": [
    "first_df[first_df[\"age\"] == 33]"
   ]
  },
  {
   "cell_type": "code",
   "execution_count": 39,
   "id": "816765a6",
   "metadata": {},
   "outputs": [
    {
     "data": {
      "text/html": [
       "<div>\n",
       "<style scoped>\n",
       "    .dataframe tbody tr th:only-of-type {\n",
       "        vertical-align: middle;\n",
       "    }\n",
       "\n",
       "    .dataframe tbody tr th {\n",
       "        vertical-align: top;\n",
       "    }\n",
       "\n",
       "    .dataframe thead th {\n",
       "        text-align: right;\n",
       "    }\n",
       "</style>\n",
       "<table border=\"1\" class=\"dataframe\">\n",
       "  <thead>\n",
       "    <tr style=\"text-align: right;\">\n",
       "      <th></th>\n",
       "      <th>name</th>\n",
       "      <th>nationality</th>\n",
       "      <th>gender</th>\n",
       "      <th>age</th>\n",
       "    </tr>\n",
       "  </thead>\n",
       "  <tbody>\n",
       "    <tr>\n",
       "      <th>4</th>\n",
       "      <td>Inkara Merila</td>\n",
       "      <td>Honduran</td>\n",
       "      <td>Female</td>\n",
       "      <td>33</td>\n",
       "    </tr>\n",
       "  </tbody>\n",
       "</table>\n",
       "</div>"
      ],
      "text/plain": [
       "            name nationality  gender  age\n",
       "4  Inkara Merila    Honduran  Female   33"
      ]
     },
     "execution_count": 39,
     "metadata": {},
     "output_type": "execute_result"
    }
   ],
   "source": [
    "first_df[(first_df[\"age\"] == 33) & (first_df[\"gender\"] == \"Female\")]"
   ]
  },
  {
   "cell_type": "code",
   "execution_count": 38,
   "id": "faa871a5",
   "metadata": {},
   "outputs": [
    {
     "data": {
      "text/html": [
       "<div>\n",
       "<style scoped>\n",
       "    .dataframe tbody tr th:only-of-type {\n",
       "        vertical-align: middle;\n",
       "    }\n",
       "\n",
       "    .dataframe tbody tr th {\n",
       "        vertical-align: top;\n",
       "    }\n",
       "\n",
       "    .dataframe thead th {\n",
       "        text-align: right;\n",
       "    }\n",
       "</style>\n",
       "<table border=\"1\" class=\"dataframe\">\n",
       "  <thead>\n",
       "    <tr style=\"text-align: right;\">\n",
       "      <th></th>\n",
       "      <th>name</th>\n",
       "      <th>nationality</th>\n",
       "      <th>gender</th>\n",
       "      <th>age</th>\n",
       "    </tr>\n",
       "  </thead>\n",
       "  <tbody>\n",
       "    <tr>\n",
       "      <th>0</th>\n",
       "      <td>Stan Lee</td>\n",
       "      <td>American</td>\n",
       "      <td>Male</td>\n",
       "      <td>83</td>\n",
       "    </tr>\n",
       "    <tr>\n",
       "      <th>1</th>\n",
       "      <td>Cosmin Pollar</td>\n",
       "      <td>Czech</td>\n",
       "      <td>Male</td>\n",
       "      <td>25</td>\n",
       "    </tr>\n",
       "    <tr>\n",
       "      <th>2</th>\n",
       "      <td>Marek Gibzic</td>\n",
       "      <td>Slovak</td>\n",
       "      <td>Male</td>\n",
       "      <td>30</td>\n",
       "    </tr>\n",
       "    <tr>\n",
       "      <th>3</th>\n",
       "      <td>Anton Zebi</td>\n",
       "      <td>American</td>\n",
       "      <td>Male</td>\n",
       "      <td>21</td>\n",
       "    </tr>\n",
       "  </tbody>\n",
       "</table>\n",
       "</div>"
      ],
      "text/plain": [
       "            name nationality gender  age\n",
       "0       Stan Lee    American   Male   83\n",
       "1  Cosmin Pollar       Czech   Male   25\n",
       "2   Marek Gibzic      Slovak   Male   30\n",
       "3     Anton Zebi    American   Male   21"
      ]
     },
     "execution_count": 38,
     "metadata": {},
     "output_type": "execute_result"
    }
   ],
   "source": [
    "first_df[(first_df[\"age\"] == 83) | (first_df[\"gender\"] == \"Male\")]"
   ]
  },
  {
   "cell_type": "code",
   "execution_count": 45,
   "id": "3ab404b7",
   "metadata": {},
   "outputs": [
    {
     "data": {
      "text/html": [
       "<div>\n",
       "<style scoped>\n",
       "    .dataframe tbody tr th:only-of-type {\n",
       "        vertical-align: middle;\n",
       "    }\n",
       "\n",
       "    .dataframe tbody tr th {\n",
       "        vertical-align: top;\n",
       "    }\n",
       "\n",
       "    .dataframe thead th {\n",
       "        text-align: right;\n",
       "    }\n",
       "</style>\n",
       "<table border=\"1\" class=\"dataframe\">\n",
       "  <thead>\n",
       "    <tr style=\"text-align: right;\">\n",
       "      <th></th>\n",
       "      <th>name</th>\n",
       "      <th>nationality</th>\n",
       "      <th>gender</th>\n",
       "      <th>age</th>\n",
       "    </tr>\n",
       "  </thead>\n",
       "  <tbody>\n",
       "    <tr>\n",
       "      <th>2</th>\n",
       "      <td>Marek Gibzic</td>\n",
       "      <td>Slovak</td>\n",
       "      <td>Male</td>\n",
       "      <td>30</td>\n",
       "    </tr>\n",
       "  </tbody>\n",
       "</table>\n",
       "</div>"
      ],
      "text/plain": [
       "           name nationality gender  age\n",
       "2  Marek Gibzic      Slovak   Male   30"
      ]
     },
     "execution_count": 45,
     "metadata": {},
     "output_type": "execute_result"
    }
   ],
   "source": [
    "first_df[(first_df[\"age\"] % 2 == 0)]"
   ]
  },
  {
   "cell_type": "code",
   "execution_count": null,
   "id": "6dcba29b",
   "metadata": {},
   "outputs": [],
   "source": []
  },
  {
   "cell_type": "code",
   "execution_count": null,
   "id": "1655e80d",
   "metadata": {},
   "outputs": [],
   "source": []
  }
 ],
 "metadata": {
  "kernelspec": {
   "display_name": "Python 3 (ipykernel)",
   "language": "python",
   "name": "python3"
  },
  "language_info": {
   "codemirror_mode": {
    "name": "ipython",
    "version": 3
   },
   "file_extension": ".py",
   "mimetype": "text/x-python",
   "name": "python",
   "nbconvert_exporter": "python",
   "pygments_lexer": "ipython3",
   "version": "3.9.5"
  }
 },
 "nbformat": 4,
 "nbformat_minor": 5
}
