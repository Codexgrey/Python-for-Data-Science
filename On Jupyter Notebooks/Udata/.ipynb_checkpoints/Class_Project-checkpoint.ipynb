{
 "cells": [
  {
   "cell_type": "code",
   "execution_count": 1,
   "id": "ebe46634",
   "metadata": {},
   "outputs": [],
   "source": [
    "import numpy as np\n",
    "import pandas as pd\n",
    "from datetime import datetime as dt\n",
    "import matplotlib.pyplot as plt"
   ]
  },
  {
   "cell_type": "code",
   "execution_count": 81,
   "id": "a299a486",
   "metadata": {},
   "outputs": [],
   "source": [
    "all_styles = list(plt.style.available)\n",
    "plt.style.use(\"ggplot\")"
   ]
  },
  {
   "cell_type": "code",
   "execution_count": 2,
   "id": "2a9c6065",
   "metadata": {},
   "outputs": [],
   "source": [
    "new_data = pd.read_csv(\"Data.csv\")"
   ]
  },
  {
   "cell_type": "code",
   "execution_count": 3,
   "id": "5f3a1b44",
   "metadata": {},
   "outputs": [
    {
     "data": {
      "text/html": [
       "<div>\n",
       "<style scoped>\n",
       "    .dataframe tbody tr th:only-of-type {\n",
       "        vertical-align: middle;\n",
       "    }\n",
       "\n",
       "    .dataframe tbody tr th {\n",
       "        vertical-align: top;\n",
       "    }\n",
       "\n",
       "    .dataframe thead th {\n",
       "        text-align: right;\n",
       "    }\n",
       "</style>\n",
       "<table border=\"1\" class=\"dataframe\">\n",
       "  <thead>\n",
       "    <tr style=\"text-align: right;\">\n",
       "      <th></th>\n",
       "      <th>Unnamed: 0</th>\n",
       "      <th>acct_no</th>\n",
       "      <th>txnYear</th>\n",
       "      <th>txnMonth</th>\n",
       "      <th>txnDay</th>\n",
       "      <th>status</th>\n",
       "      <th>no of txns</th>\n",
       "    </tr>\n",
       "  </thead>\n",
       "  <tbody>\n",
       "    <tr>\n",
       "      <th>0</th>\n",
       "      <td>0</td>\n",
       "      <td>1001192k</td>\n",
       "      <td>2019</td>\n",
       "      <td>10</td>\n",
       "      <td>29</td>\n",
       "      <td>successful</td>\n",
       "      <td>1</td>\n",
       "    </tr>\n",
       "    <tr>\n",
       "      <th>1</th>\n",
       "      <td>1</td>\n",
       "      <td>1001192k</td>\n",
       "      <td>2019</td>\n",
       "      <td>11</td>\n",
       "      <td>12</td>\n",
       "      <td>failed</td>\n",
       "      <td>2</td>\n",
       "    </tr>\n",
       "    <tr>\n",
       "      <th>2</th>\n",
       "      <td>2</td>\n",
       "      <td>1001192k</td>\n",
       "      <td>2019</td>\n",
       "      <td>11</td>\n",
       "      <td>18</td>\n",
       "      <td>failed</td>\n",
       "      <td>1</td>\n",
       "    </tr>\n",
       "    <tr>\n",
       "      <th>3</th>\n",
       "      <td>3</td>\n",
       "      <td>1001192k</td>\n",
       "      <td>2019</td>\n",
       "      <td>11</td>\n",
       "      <td>27</td>\n",
       "      <td>successful</td>\n",
       "      <td>1</td>\n",
       "    </tr>\n",
       "    <tr>\n",
       "      <th>4</th>\n",
       "      <td>4</td>\n",
       "      <td>1001192k</td>\n",
       "      <td>2019</td>\n",
       "      <td>12</td>\n",
       "      <td>8</td>\n",
       "      <td>failed</td>\n",
       "      <td>1</td>\n",
       "    </tr>\n",
       "  </tbody>\n",
       "</table>\n",
       "</div>"
      ],
      "text/plain": [
       "   Unnamed: 0   acct_no  txnYear  txnMonth  txnDay      status  no of txns\n",
       "0           0  1001192k     2019        10      29  successful           1\n",
       "1           1  1001192k     2019        11      12      failed           2\n",
       "2           2  1001192k     2019        11      18      failed           1\n",
       "3           3  1001192k     2019        11      27  successful           1\n",
       "4           4  1001192k     2019        12       8      failed           1"
      ]
     },
     "execution_count": 3,
     "metadata": {},
     "output_type": "execute_result"
    }
   ],
   "source": [
    "new_data.head()"
   ]
  },
  {
   "cell_type": "code",
   "execution_count": 4,
   "id": "95568c4d",
   "metadata": {},
   "outputs": [
    {
     "data": {
      "text/plain": [
       "8040"
      ]
     },
     "execution_count": 4,
     "metadata": {},
     "output_type": "execute_result"
    }
   ],
   "source": [
    "new_data [\"acct_no\"].nunique()"
   ]
  },
  {
   "cell_type": "code",
   "execution_count": 5,
   "id": "0fdbb636",
   "metadata": {},
   "outputs": [
    {
     "data": {
      "text/plain": [
       "array(['successful', 'failed', 'initialized', 'declined', 'pending',\n",
       "       'debited'], dtype=object)"
      ]
     },
     "execution_count": 5,
     "metadata": {},
     "output_type": "execute_result"
    }
   ],
   "source": [
    "new_data [\"status\"].unique()"
   ]
  },
  {
   "cell_type": "code",
   "execution_count": 6,
   "id": "7a5e6cbd",
   "metadata": {},
   "outputs": [],
   "source": [
    "##Merging and creating a new column for date\n",
    "new_data[\"Date\"] = new_data[\"txnYear\"].astype(str) + new_data[\"txnMonth\"].astype(str) + new_data[\"txnDay\"].astype(str)\n",
    "new_data[\"Date\"] = pd.to_datetime(new_data[\"Date\"], format='%Y%m%d')"
   ]
  },
  {
   "cell_type": "code",
   "execution_count": 7,
   "id": "93c190c0",
   "metadata": {},
   "outputs": [
    {
     "data": {
      "text/html": [
       "<div>\n",
       "<style scoped>\n",
       "    .dataframe tbody tr th:only-of-type {\n",
       "        vertical-align: middle;\n",
       "    }\n",
       "\n",
       "    .dataframe tbody tr th {\n",
       "        vertical-align: top;\n",
       "    }\n",
       "\n",
       "    .dataframe thead th {\n",
       "        text-align: right;\n",
       "    }\n",
       "</style>\n",
       "<table border=\"1\" class=\"dataframe\">\n",
       "  <thead>\n",
       "    <tr style=\"text-align: right;\">\n",
       "      <th></th>\n",
       "      <th>Unnamed: 0</th>\n",
       "      <th>acct_no</th>\n",
       "      <th>txnYear</th>\n",
       "      <th>txnMonth</th>\n",
       "      <th>txnDay</th>\n",
       "      <th>status</th>\n",
       "      <th>no of txns</th>\n",
       "      <th>Date</th>\n",
       "    </tr>\n",
       "  </thead>\n",
       "  <tbody>\n",
       "    <tr>\n",
       "      <th>0</th>\n",
       "      <td>0</td>\n",
       "      <td>1001192k</td>\n",
       "      <td>2019</td>\n",
       "      <td>10</td>\n",
       "      <td>29</td>\n",
       "      <td>successful</td>\n",
       "      <td>1</td>\n",
       "      <td>2019-10-29</td>\n",
       "    </tr>\n",
       "    <tr>\n",
       "      <th>1</th>\n",
       "      <td>1</td>\n",
       "      <td>1001192k</td>\n",
       "      <td>2019</td>\n",
       "      <td>11</td>\n",
       "      <td>12</td>\n",
       "      <td>failed</td>\n",
       "      <td>2</td>\n",
       "      <td>2019-11-12</td>\n",
       "    </tr>\n",
       "    <tr>\n",
       "      <th>2</th>\n",
       "      <td>2</td>\n",
       "      <td>1001192k</td>\n",
       "      <td>2019</td>\n",
       "      <td>11</td>\n",
       "      <td>18</td>\n",
       "      <td>failed</td>\n",
       "      <td>1</td>\n",
       "      <td>2019-11-18</td>\n",
       "    </tr>\n",
       "    <tr>\n",
       "      <th>3</th>\n",
       "      <td>3</td>\n",
       "      <td>1001192k</td>\n",
       "      <td>2019</td>\n",
       "      <td>11</td>\n",
       "      <td>27</td>\n",
       "      <td>successful</td>\n",
       "      <td>1</td>\n",
       "      <td>2019-11-27</td>\n",
       "    </tr>\n",
       "    <tr>\n",
       "      <th>4</th>\n",
       "      <td>4</td>\n",
       "      <td>1001192k</td>\n",
       "      <td>2019</td>\n",
       "      <td>12</td>\n",
       "      <td>8</td>\n",
       "      <td>failed</td>\n",
       "      <td>1</td>\n",
       "      <td>2019-12-08</td>\n",
       "    </tr>\n",
       "  </tbody>\n",
       "</table>\n",
       "</div>"
      ],
      "text/plain": [
       "   Unnamed: 0   acct_no  txnYear  txnMonth  txnDay      status  no of txns  \\\n",
       "0           0  1001192k     2019        10      29  successful           1   \n",
       "1           1  1001192k     2019        11      12      failed           2   \n",
       "2           2  1001192k     2019        11      18      failed           1   \n",
       "3           3  1001192k     2019        11      27  successful           1   \n",
       "4           4  1001192k     2019        12       8      failed           1   \n",
       "\n",
       "        Date  \n",
       "0 2019-10-29  \n",
       "1 2019-11-12  \n",
       "2 2019-11-18  \n",
       "3 2019-11-27  \n",
       "4 2019-12-08  "
      ]
     },
     "execution_count": 7,
     "metadata": {},
     "output_type": "execute_result"
    }
   ],
   "source": [
    "new_data.head()"
   ]
  },
  {
   "cell_type": "code",
   "execution_count": 8,
   "id": "6692ca59",
   "metadata": {},
   "outputs": [
    {
     "name": "stdout",
     "output_type": "stream",
     "text": [
      "<class 'pandas.core.frame.DataFrame'>\n",
      "RangeIndex: 513247 entries, 0 to 513246\n",
      "Data columns (total 8 columns):\n",
      " #   Column      Non-Null Count   Dtype         \n",
      "---  ------      --------------   -----         \n",
      " 0   Unnamed: 0  513247 non-null  int64         \n",
      " 1   acct_no     513247 non-null  object        \n",
      " 2   txnYear     513247 non-null  int64         \n",
      " 3   txnMonth    513247 non-null  int64         \n",
      " 4   txnDay      513247 non-null  int64         \n",
      " 5   status      513247 non-null  object        \n",
      " 6   no of txns  513247 non-null  int64         \n",
      " 7   Date        513247 non-null  datetime64[ns]\n",
      "dtypes: datetime64[ns](1), int64(5), object(2)\n",
      "memory usage: 31.3+ MB\n"
     ]
    }
   ],
   "source": [
    "new_data.info()"
   ]
  },
  {
   "cell_type": "code",
   "execution_count": 9,
   "id": "ab1c582e",
   "metadata": {},
   "outputs": [
    {
     "data": {
      "text/plain": [
       "successful     473051\n",
       "failed          28636\n",
       "declined        10243\n",
       "initialized      1216\n",
       "pending            64\n",
       "debited            37\n",
       "Name: status, dtype: int64"
      ]
     },
     "execution_count": 9,
     "metadata": {},
     "output_type": "execute_result"
    }
   ],
   "source": [
    "new_status = new_data[\"status\"].value_counts()\n",
    "new_status"
   ]
  },
  {
   "cell_type": "code",
   "execution_count": 56,
   "id": "56bb815f",
   "metadata": {},
   "outputs": [
    {
     "data": {
      "text/html": [
       "<div>\n",
       "<style scoped>\n",
       "    .dataframe tbody tr th:only-of-type {\n",
       "        vertical-align: middle;\n",
       "    }\n",
       "\n",
       "    .dataframe tbody tr th {\n",
       "        vertical-align: top;\n",
       "    }\n",
       "\n",
       "    .dataframe thead th {\n",
       "        text-align: right;\n",
       "    }\n",
       "</style>\n",
       "<table border=\"1\" class=\"dataframe\">\n",
       "  <thead>\n",
       "    <tr style=\"text-align: right;\">\n",
       "      <th></th>\n",
       "      <th></th>\n",
       "      <th></th>\n",
       "      <th>status</th>\n",
       "    </tr>\n",
       "    <tr>\n",
       "      <th>txnYear</th>\n",
       "      <th>acct_no</th>\n",
       "      <th>status</th>\n",
       "      <th></th>\n",
       "    </tr>\n",
       "  </thead>\n",
       "  <tbody>\n",
       "    <tr>\n",
       "      <th rowspan=\"5\" valign=\"top\">2019</th>\n",
       "      <th rowspan=\"2\" valign=\"top\">1001192k</th>\n",
       "      <th>successful</th>\n",
       "      <td>4</td>\n",
       "    </tr>\n",
       "    <tr>\n",
       "      <th>failed</th>\n",
       "      <td>3</td>\n",
       "    </tr>\n",
       "    <tr>\n",
       "      <th>1001219p</th>\n",
       "      <th>successful</th>\n",
       "      <td>1</td>\n",
       "    </tr>\n",
       "    <tr>\n",
       "      <th rowspan=\"2\" valign=\"top\">1002067n</th>\n",
       "      <th>successful</th>\n",
       "      <td>31</td>\n",
       "    </tr>\n",
       "    <tr>\n",
       "      <th>failed</th>\n",
       "      <td>2</td>\n",
       "    </tr>\n",
       "    <tr>\n",
       "      <th>...</th>\n",
       "      <th>...</th>\n",
       "      <th>...</th>\n",
       "      <td>...</td>\n",
       "    </tr>\n",
       "    <tr>\n",
       "      <th rowspan=\"5\" valign=\"top\">2020</th>\n",
       "      <th>9996144s</th>\n",
       "      <th>initialized</th>\n",
       "      <td>1</td>\n",
       "    </tr>\n",
       "    <tr>\n",
       "      <th>9998681s</th>\n",
       "      <th>successful</th>\n",
       "      <td>2</td>\n",
       "    </tr>\n",
       "    <tr>\n",
       "      <th rowspan=\"3\" valign=\"top\">9999437n</th>\n",
       "      <th>successful</th>\n",
       "      <td>62</td>\n",
       "    </tr>\n",
       "    <tr>\n",
       "      <th>declined</th>\n",
       "      <td>4</td>\n",
       "    </tr>\n",
       "    <tr>\n",
       "      <th>failed</th>\n",
       "      <td>1</td>\n",
       "    </tr>\n",
       "  </tbody>\n",
       "</table>\n",
       "<p>21749 rows × 1 columns</p>\n",
       "</div>"
      ],
      "text/plain": [
       "                              status\n",
       "txnYear acct_no  status             \n",
       "2019    1001192k successful        4\n",
       "                 failed            3\n",
       "        1001219p successful        1\n",
       "        1002067n successful       31\n",
       "                 failed            2\n",
       "...                              ...\n",
       "2020    9996144s initialized       1\n",
       "        9998681s successful        2\n",
       "        9999437n successful       62\n",
       "                 declined          4\n",
       "                 failed            1\n",
       "\n",
       "[21749 rows x 1 columns]"
      ]
     },
     "execution_count": 56,
     "metadata": {},
     "output_type": "execute_result"
    }
   ],
   "source": [
    "grouped_year = pd.DataFrame(new_data.groupby([new_data[\"txnYear\"],new_data[\"acct_no\"]])[\"status\"].value_counts())\n",
    "\n",
    "grouped_year"
   ]
  },
  {
   "cell_type": "code",
   "execution_count": 36,
   "id": "744701af",
   "metadata": {},
   "outputs": [],
   "source": [
    "new_data[\"txnMonth\"] = new_data[\"txnMonth\"].astype(\"str\")\n",
    "new_data[\"txnYear\"] = new_data[\"txnYear\"].astype(\"str\")"
   ]
  },
  {
   "cell_type": "code",
   "execution_count": 42,
   "id": "ae46f7ff",
   "metadata": {},
   "outputs": [],
   "source": [
    "grouped_by_month = pd.DataFrame(new_data.groupby(new_data[\"txnMonth\"])[\"no of txns\"].sum()).reset_index()\n",
    "grouped_by_month[\"txnMonth\"] = grouped_by_month[\"txnMonth\"].apply(lambda a : dt.strptime(a, \"%m\"))\n",
    "grouped_by_month.sort_values( by = \"txnMonth\", inplace = True)\n",
    "grouped_by_month[\"txnMonth\"] = grouped_by_month[\"txnMonth\"].apply(lambda a : a.strftime(\"%b\"))"
   ]
  },
  {
   "cell_type": "code",
   "execution_count": 43,
   "id": "77a12aeb",
   "metadata": {},
   "outputs": [
    {
     "data": {
      "text/html": [
       "<div>\n",
       "<style scoped>\n",
       "    .dataframe tbody tr th:only-of-type {\n",
       "        vertical-align: middle;\n",
       "    }\n",
       "\n",
       "    .dataframe tbody tr th {\n",
       "        vertical-align: top;\n",
       "    }\n",
       "\n",
       "    .dataframe thead th {\n",
       "        text-align: right;\n",
       "    }\n",
       "</style>\n",
       "<table border=\"1\" class=\"dataframe\">\n",
       "  <thead>\n",
       "    <tr style=\"text-align: right;\">\n",
       "      <th></th>\n",
       "      <th>txnMonth</th>\n",
       "      <th>no of txns</th>\n",
       "    </tr>\n",
       "  </thead>\n",
       "  <tbody>\n",
       "    <tr>\n",
       "      <th>0</th>\n",
       "      <td>Jan</td>\n",
       "      <td>34879</td>\n",
       "    </tr>\n",
       "    <tr>\n",
       "      <th>4</th>\n",
       "      <td>Feb</td>\n",
       "      <td>46043</td>\n",
       "    </tr>\n",
       "    <tr>\n",
       "      <th>5</th>\n",
       "      <td>Mar</td>\n",
       "      <td>51950</td>\n",
       "    </tr>\n",
       "    <tr>\n",
       "      <th>6</th>\n",
       "      <td>Apr</td>\n",
       "      <td>47632</td>\n",
       "    </tr>\n",
       "    <tr>\n",
       "      <th>7</th>\n",
       "      <td>May</td>\n",
       "      <td>78161</td>\n",
       "    </tr>\n",
       "    <tr>\n",
       "      <th>8</th>\n",
       "      <td>Jun</td>\n",
       "      <td>96859</td>\n",
       "    </tr>\n",
       "    <tr>\n",
       "      <th>9</th>\n",
       "      <td>Jul</td>\n",
       "      <td>123932</td>\n",
       "    </tr>\n",
       "    <tr>\n",
       "      <th>10</th>\n",
       "      <td>Aug</td>\n",
       "      <td>105587</td>\n",
       "    </tr>\n",
       "    <tr>\n",
       "      <th>11</th>\n",
       "      <td>Sep</td>\n",
       "      <td>239848</td>\n",
       "    </tr>\n",
       "    <tr>\n",
       "      <th>1</th>\n",
       "      <td>Oct</td>\n",
       "      <td>289324</td>\n",
       "    </tr>\n",
       "    <tr>\n",
       "      <th>2</th>\n",
       "      <td>Nov</td>\n",
       "      <td>85934</td>\n",
       "    </tr>\n",
       "    <tr>\n",
       "      <th>3</th>\n",
       "      <td>Dec</td>\n",
       "      <td>37280</td>\n",
       "    </tr>\n",
       "  </tbody>\n",
       "</table>\n",
       "</div>"
      ],
      "text/plain": [
       "   txnMonth  no of txns\n",
       "0       Jan       34879\n",
       "4       Feb       46043\n",
       "5       Mar       51950\n",
       "6       Apr       47632\n",
       "7       May       78161\n",
       "8       Jun       96859\n",
       "9       Jul      123932\n",
       "10      Aug      105587\n",
       "11      Sep      239848\n",
       "1       Oct      289324\n",
       "2       Nov       85934\n",
       "3       Dec       37280"
      ]
     },
     "execution_count": 43,
     "metadata": {},
     "output_type": "execute_result"
    }
   ],
   "source": [
    "grouped_by_month"
   ]
  },
  {
   "cell_type": "code",
   "execution_count": 86,
   "id": "65fcb37c",
   "metadata": {},
   "outputs": [
    {
     "data": {
      "image/png": "[encoded data removed]",
      "text/plain": [
       "<Figure size 720x288 with 1 Axes>"
      ]
     },
     "metadata": {},
     "output_type": "display_data"
    }
   ],
   "source": [
    "plt.figure(figsize = (10, 4))\n",
    "plt.plot(grouped_by_month[\"txnMonth\"], grouped_by_month[\"no of txns\"], linewidth = 3, alpha = 0.9, color = \"purple\")\n",
    "\n",
    "plt.title(\"Month Sales Trend\", fontsize = 20, pad = 15)\n",
    "plt.xlabel(\"Month\", size = 15)\n",
    "plt.ylabel(\"Sales\", size = 15)\n",
    "\n",
    "plt.show()"
   ]
  },
  {
   "cell_type": "code",
   "execution_count": 57,
   "id": "9b966b1f",
   "metadata": {},
   "outputs": [
    {
     "data": {
      "text/html": [
       "<div>\n",
       "<style scoped>\n",
       "    .dataframe tbody tr th:only-of-type {\n",
       "        vertical-align: middle;\n",
       "    }\n",
       "\n",
       "    .dataframe tbody tr th {\n",
       "        vertical-align: top;\n",
       "    }\n",
       "\n",
       "    .dataframe thead th {\n",
       "        text-align: right;\n",
       "    }\n",
       "</style>\n",
       "<table border=\"1\" class=\"dataframe\">\n",
       "  <thead>\n",
       "    <tr style=\"text-align: right;\">\n",
       "      <th></th>\n",
       "      <th>txnYear</th>\n",
       "      <th>no of txns</th>\n",
       "    </tr>\n",
       "  </thead>\n",
       "  <tbody>\n",
       "    <tr>\n",
       "      <th>0</th>\n",
       "      <td>2019</td>\n",
       "      <td>301745</td>\n",
       "    </tr>\n",
       "    <tr>\n",
       "      <th>1</th>\n",
       "      <td>2020</td>\n",
       "      <td>935684</td>\n",
       "    </tr>\n",
       "  </tbody>\n",
       "</table>\n",
       "</div>"
      ],
      "text/plain": [
       "  txnYear  no of txns\n",
       "0    2019      301745\n",
       "1    2020      935684"
      ]
     },
     "execution_count": 57,
     "metadata": {},
     "output_type": "execute_result"
    }
   ],
   "source": [
    "##Grouping by year to get the transactions for each year\n",
    "grouped_year = pd.DataFrame(new_data.groupby(new_data[\"txnYear\"])[\"no of txns\"].sum()).reset_index()\n",
    "\n",
    "grouped_year"
   ]
  },
  {
   "cell_type": "code",
   "execution_count": 84,
   "id": "0a97dcd5",
   "metadata": {},
   "outputs": [
    {
     "data": {
      "image/png": "[encoded data removed]",
      "text/plain": [
       "<Figure size 720x288 with 1 Axes>"
      ]
     },
     "metadata": {},
     "output_type": "display_data"
    }
   ],
   "source": [
    "plt.figure(figsize = (10, 4))\n",
    "plt.plot(grouped_by_year[\"txnYear\"], grouped_by_year[\"no of txns\"], linewidth = 3, alpha = 0.9, color = \"purple\")\n",
    "\n",
    "plt.title(\"Transaction Trends\", fontsize = 20, pad = 15)\n",
    "plt.xlabel(\"Year\", size = 15)\n",
    "plt.ylabel(\"Transactions\", size = 15)\n",
    "\n",
    "plt.show()"
   ]
  },
  {
   "cell_type": "code",
   "execution_count": 61,
   "id": "e32e0885",
   "metadata": {},
   "outputs": [
    {
     "data": {
      "text/html": [
       "<div>\n",
       "<style scoped>\n",
       "    .dataframe tbody tr th:only-of-type {\n",
       "        vertical-align: middle;\n",
       "    }\n",
       "\n",
       "    .dataframe tbody tr th {\n",
       "        vertical-align: top;\n",
       "    }\n",
       "\n",
       "    .dataframe thead th {\n",
       "        text-align: right;\n",
       "    }\n",
       "</style>\n",
       "<table border=\"1\" class=\"dataframe\">\n",
       "  <thead>\n",
       "    <tr style=\"text-align: right;\">\n",
       "      <th></th>\n",
       "      <th></th>\n",
       "      <th>status</th>\n",
       "    </tr>\n",
       "    <tr>\n",
       "      <th>txnYear</th>\n",
       "      <th>status</th>\n",
       "      <th></th>\n",
       "    </tr>\n",
       "  </thead>\n",
       "  <tbody>\n",
       "    <tr>\n",
       "      <th rowspan=\"6\" valign=\"top\">2019</th>\n",
       "      <th>successful</th>\n",
       "      <td>131974</td>\n",
       "    </tr>\n",
       "    <tr>\n",
       "      <th>failed</th>\n",
       "      <td>15621</td>\n",
       "    </tr>\n",
       "    <tr>\n",
       "      <th>declined</th>\n",
       "      <td>3451</td>\n",
       "    </tr>\n",
       "    <tr>\n",
       "      <th>initialized</th>\n",
       "      <td>465</td>\n",
       "    </tr>\n",
       "    <tr>\n",
       "      <th>pending</th>\n",
       "      <td>42</td>\n",
       "    </tr>\n",
       "    <tr>\n",
       "      <th>debited</th>\n",
       "      <td>30</td>\n",
       "    </tr>\n",
       "    <tr>\n",
       "      <th rowspan=\"6\" valign=\"top\">2020</th>\n",
       "      <th>successful</th>\n",
       "      <td>341077</td>\n",
       "    </tr>\n",
       "    <tr>\n",
       "      <th>failed</th>\n",
       "      <td>13015</td>\n",
       "    </tr>\n",
       "    <tr>\n",
       "      <th>declined</th>\n",
       "      <td>6792</td>\n",
       "    </tr>\n",
       "    <tr>\n",
       "      <th>initialized</th>\n",
       "      <td>751</td>\n",
       "    </tr>\n",
       "    <tr>\n",
       "      <th>pending</th>\n",
       "      <td>22</td>\n",
       "    </tr>\n",
       "    <tr>\n",
       "      <th>debited</th>\n",
       "      <td>7</td>\n",
       "    </tr>\n",
       "  </tbody>\n",
       "</table>\n",
       "</div>"
      ],
      "text/plain": [
       "                     status\n",
       "txnYear status             \n",
       "2019    successful   131974\n",
       "        failed        15621\n",
       "        declined       3451\n",
       "        initialized     465\n",
       "        pending          42\n",
       "        debited          30\n",
       "2020    successful   341077\n",
       "        failed        13015\n",
       "        declined       6792\n",
       "        initialized     751\n",
       "        pending          22\n",
       "        debited           7"
      ]
     },
     "execution_count": 61,
     "metadata": {},
     "output_type": "execute_result"
    }
   ],
   "source": [
    "##To obtain the value count of transaction status per year\n",
    "grouped_data = pd.DataFrame(new_data.groupby(new_data[\"txnYear\"])[\"status\"].value_counts())\n",
    "\n",
    "grouped_data"
   ]
  },
  {
   "cell_type": "code",
   "execution_count": 62,
   "id": "f34e0441",
   "metadata": {},
   "outputs": [],
   "source": [
    "first_year = grouped_data[\"status\"][:6]\n",
    "Second_year = grouped_data[\"status\"][6:]"
   ]
  },
  {
   "cell_type": "code",
   "execution_count": 92,
   "id": "7ecbe75b",
   "metadata": {},
   "outputs": [
    {
     "data": {
      "image/png": "[encoded data removed]",
      "text/plain": [
       "<Figure size 720x720 with 1 Axes>"
      ]
     },
     "metadata": {},
     "output_type": "display_data"
    }
   ],
   "source": [
    "##Bar Chart showing count of transaction per year\n",
    "plt.figure(figsize = (10, 10))\n",
    "\n",
    "ind = np.arange(6)\n",
    "w = 0.3\n",
    "\n",
    "plt.bar(ind, first_year, width = w, color = \"palegreen\", label = 2019 )\n",
    "plt.bar(ind + w, Second_year, width = w, color = \"green\", label = 2020)\n",
    "\n",
    "plt.title(\"Transaction Status Per Year\", fontsize = 20, pad = 20)\n",
    "plt.xlabel(\"status\", size = 15)\n",
    "plt.ylabel(\"Count of transactions\", size = 15)\n",
    "plt.xticks(ind + w/2, [\"successful\", \"failed\", \"declined\", \"initialized\", \"pending\", \"debited\"])\n",
    "\n",
    "plt.legend(loc = \"best\", shadow = True)\n",
    "\n",
    "for index, value in enumerate(first_year):\n",
    "    plt.text(x = index, y = value + 7, s = f\"{value}\")\n",
    "    \n",
    "\n",
    "for index, value in enumerate(Second_year):\n",
    "    plt.text(x = index + 0.10, y = value + 3, s = f\"{value}\")\n",
    "     \n",
    "\n",
    "\n",
    "plt.show()"
   ]
  },
  {
   "cell_type": "code",
   "execution_count": null,
   "id": "daf61812",
   "metadata": {},
   "outputs": [],
   "source": []
  },
  {
   "cell_type": "code",
   "execution_count": null,
   "id": "ca96f1dc",
   "metadata": {},
   "outputs": [],
   "source": []
  },
  {
   "cell_type": "code",
   "execution_count": null,
   "id": "dbb2c4dd",
   "metadata": {},
   "outputs": [],
   "source": []
  },
  {
   "cell_type": "code",
   "execution_count": null,
   "id": "a579def9",
   "metadata": {},
   "outputs": [],
   "source": []
  }
 ],
 "metadata": {
  "kernelspec": {
   "display_name": "Python 3 (ipykernel)",
   "language": "python",
   "name": "python3"
  },
  "language_info": {
   "codemirror_mode": {
    "name": "ipython",
    "version": 3
   },
   "file_extension": ".py",
   "mimetype": "text/x-python",
   "name": "python",
   "nbconvert_exporter": "python",
   "pygments_lexer": "ipython3",
   "version": "3.8.12"
  }
 },
 "nbformat": 4,
 "nbformat_minor": 5
}
