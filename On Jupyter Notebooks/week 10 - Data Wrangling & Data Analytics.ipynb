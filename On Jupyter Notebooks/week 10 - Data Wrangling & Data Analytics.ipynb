{
 "cells": [
  {
   "cell_type": "code",
   "execution_count": 1,
   "id": "5acbb13d",
   "metadata": {},
   "outputs": [],
   "source": [
    "import pandas as pd\n",
    "import numpy as np\n",
    "from numpy import corrcoef as cce\n",
    "import scipy.stats as st\n",
    "from scipy.stats import ttest_ind as tt, f_oneway as f1, chi2_contingency as chi\n",
    "from datetime import datetime as dt\n"
   ]
  },
  {
   "cell_type": "code",
   "execution_count": 3,
   "id": "19951145",
   "metadata": {},
   "outputs": [
    {
     "data": {
      "text/html": [
       "<div>\n",
       "<style scoped>\n",
       "    .dataframe tbody tr th:only-of-type {\n",
       "        vertical-align: middle;\n",
       "    }\n",
       "\n",
       "    .dataframe tbody tr th {\n",
       "        vertical-align: top;\n",
       "    }\n",
       "\n",
       "    .dataframe thead th {\n",
       "        text-align: right;\n",
       "    }\n",
       "</style>\n",
       "<table border=\"1\" class=\"dataframe\">\n",
       "  <thead>\n",
       "    <tr style=\"text-align: right;\">\n",
       "      <th></th>\n",
       "      <th>EST</th>\n",
       "      <th>Temperature</th>\n",
       "      <th>DewPoint</th>\n",
       "      <th>Humidity</th>\n",
       "      <th>Sea Level PressureIn</th>\n",
       "      <th>VisibilityMiles</th>\n",
       "      <th>WindSpeedMPH</th>\n",
       "      <th>PrecipitationIn</th>\n",
       "      <th>CloudCover</th>\n",
       "      <th>Events</th>\n",
       "      <th>WindDirDegrees</th>\n",
       "    </tr>\n",
       "  </thead>\n",
       "  <tbody>\n",
       "    <tr>\n",
       "      <th>0</th>\n",
       "      <td>2016-01-01</td>\n",
       "      <td>38</td>\n",
       "      <td>23</td>\n",
       "      <td>52</td>\n",
       "      <td>30.03</td>\n",
       "      <td>10</td>\n",
       "      <td>8.0</td>\n",
       "      <td>0</td>\n",
       "      <td>5</td>\n",
       "      <td>NaN</td>\n",
       "      <td>281</td>\n",
       "    </tr>\n",
       "    <tr>\n",
       "      <th>1</th>\n",
       "      <td>2016-01-02</td>\n",
       "      <td>36</td>\n",
       "      <td>18</td>\n",
       "      <td>46</td>\n",
       "      <td>30.02</td>\n",
       "      <td>10</td>\n",
       "      <td>7.0</td>\n",
       "      <td>0</td>\n",
       "      <td>3</td>\n",
       "      <td>NaN</td>\n",
       "      <td>275</td>\n",
       "    </tr>\n",
       "    <tr>\n",
       "      <th>2</th>\n",
       "      <td>2016-01-03</td>\n",
       "      <td>40</td>\n",
       "      <td>21</td>\n",
       "      <td>47</td>\n",
       "      <td>29.86</td>\n",
       "      <td>10</td>\n",
       "      <td>8.0</td>\n",
       "      <td>0</td>\n",
       "      <td>1</td>\n",
       "      <td>NaN</td>\n",
       "      <td>277</td>\n",
       "    </tr>\n",
       "    <tr>\n",
       "      <th>3</th>\n",
       "      <td>2016-01-04</td>\n",
       "      <td>25</td>\n",
       "      <td>9</td>\n",
       "      <td>44</td>\n",
       "      <td>30.05</td>\n",
       "      <td>10</td>\n",
       "      <td>9.0</td>\n",
       "      <td>0</td>\n",
       "      <td>3</td>\n",
       "      <td>NaN</td>\n",
       "      <td>345</td>\n",
       "    </tr>\n",
       "    <tr>\n",
       "      <th>4</th>\n",
       "      <td>2016-01-05</td>\n",
       "      <td>20</td>\n",
       "      <td>-3</td>\n",
       "      <td>41</td>\n",
       "      <td>30.57</td>\n",
       "      <td>10</td>\n",
       "      <td>5.0</td>\n",
       "      <td>0</td>\n",
       "      <td>0</td>\n",
       "      <td>NaN</td>\n",
       "      <td>333</td>\n",
       "    </tr>\n",
       "  </tbody>\n",
       "</table>\n",
       "</div>"
      ],
      "text/plain": [
       "         EST  Temperature  DewPoint  Humidity  Sea Level PressureIn  \\\n",
       "0 2016-01-01           38        23        52                 30.03   \n",
       "1 2016-01-02           36        18        46                 30.02   \n",
       "2 2016-01-03           40        21        47                 29.86   \n",
       "3 2016-01-04           25         9        44                 30.05   \n",
       "4 2016-01-05           20        -3        41                 30.57   \n",
       "\n",
       "   VisibilityMiles  WindSpeedMPH PrecipitationIn  CloudCover Events  \\\n",
       "0               10           8.0               0           5    NaN   \n",
       "1               10           7.0               0           3    NaN   \n",
       "2               10           8.0               0           1    NaN   \n",
       "3               10           9.0               0           3    NaN   \n",
       "4               10           5.0               0           0    NaN   \n",
       "\n",
       "   WindDirDegrees  \n",
       "0             281  \n",
       "1             275  \n",
       "2             277  \n",
       "3             345  \n",
       "4             333  "
      ]
     },
     "execution_count": 3,
     "metadata": {},
     "output_type": "execute_result"
    }
   ],
   "source": [
    "nycdata = pd.read_csv(\"Files/nyc_weather.csv\", parse_dates = [\"EST\"])\n",
    "nycdata.head()"
   ]
  },
  {
   "cell_type": "code",
   "execution_count": 4,
   "id": "b80649b8",
   "metadata": {},
   "outputs": [
    {
     "name": "stdout",
     "output_type": "stream",
     "text": [
      "<class 'pandas.core.frame.DataFrame'>\n",
      "RangeIndex: 31 entries, 0 to 30\n",
      "Data columns (total 11 columns):\n",
      " #   Column                Non-Null Count  Dtype         \n",
      "---  ------                --------------  -----         \n",
      " 0   EST                   31 non-null     datetime64[ns]\n",
      " 1   Temperature           31 non-null     int64         \n",
      " 2   DewPoint              31 non-null     int64         \n",
      " 3   Humidity              31 non-null     int64         \n",
      " 4   Sea Level PressureIn  31 non-null     float64       \n",
      " 5   VisibilityMiles       31 non-null     int64         \n",
      " 6   WindSpeedMPH          28 non-null     float64       \n",
      " 7   PrecipitationIn       31 non-null     object        \n",
      " 8   CloudCover            31 non-null     int64         \n",
      " 9   Events                9 non-null      object        \n",
      " 10  WindDirDegrees        31 non-null     int64         \n",
      "dtypes: datetime64[ns](1), float64(2), int64(6), object(2)\n",
      "memory usage: 2.8+ KB\n"
     ]
    }
   ],
   "source": [
    "nycdata.info()"
   ]
  },
  {
   "cell_type": "code",
   "execution_count": 5,
   "id": "dc5f01d3",
   "metadata": {},
   "outputs": [
    {
     "data": {
      "text/plain": [
       "EST                      0\n",
       "Temperature              0\n",
       "DewPoint                 0\n",
       "Humidity                 0\n",
       "Sea Level PressureIn     0\n",
       "VisibilityMiles          0\n",
       "WindSpeedMPH             3\n",
       "PrecipitationIn          0\n",
       "CloudCover               0\n",
       "Events                  22\n",
       "WindDirDegrees           0\n",
       "dtype: int64"
      ]
     },
     "execution_count": 5,
     "metadata": {},
     "output_type": "execute_result"
    }
   ],
   "source": [
    "nycdata.isnull().sum()"
   ]
  },
  {
   "cell_type": "code",
   "execution_count": 6,
   "id": "d50ea8e6",
   "metadata": {},
   "outputs": [
    {
     "data": {
      "text/plain": [
       "6.892857142857143"
      ]
     },
     "execution_count": 6,
     "metadata": {},
     "output_type": "execute_result"
    }
   ],
   "source": [
    "nycdata[\"WindSpeedMPH\"].mean()"
   ]
  },
  {
   "cell_type": "code",
   "execution_count": 7,
   "id": "fbd56296",
   "metadata": {},
   "outputs": [
    {
     "data": {
      "text/plain": [
       "EST                      0\n",
       "Temperature              0\n",
       "DewPoint                 0\n",
       "Humidity                 0\n",
       "Sea Level PressureIn     0\n",
       "VisibilityMiles          0\n",
       "WindSpeedMPH             0\n",
       "PrecipitationIn          0\n",
       "CloudCover               0\n",
       "Events                  22\n",
       "WindDirDegrees           0\n",
       "dtype: int64"
      ]
     },
     "execution_count": 7,
     "metadata": {},
     "output_type": "execute_result"
    }
   ],
   "source": [
    "# filling null() fields using mean of column\n",
    "nycdata['WindSpeedMPH'].fillna(nycdata[\"WindSpeedMPH\"].mean(), inplace=True)\n",
    "nycdata.isnull().sum()"
   ]
  },
  {
   "cell_type": "code",
   "execution_count": 8,
   "id": "bbb2877a",
   "metadata": {},
   "outputs": [],
   "source": [
    "# filling null() fields using ffill\n",
    "nycdata[\"WindSpeedMPH\"].fillna(method = \"ffill\", inplace=True)"
   ]
  },
  {
   "cell_type": "code",
   "execution_count": 9,
   "id": "17448f11",
   "metadata": {},
   "outputs": [
    {
     "data": {
      "text/plain": [
       "Rain        4\n",
       "Snow        3\n",
       "Fog-Snow    2\n",
       "Name: Events, dtype: int64"
      ]
     },
     "execution_count": 9,
     "metadata": {},
     "output_type": "execute_result"
    }
   ],
   "source": [
    "# getting the mode\n",
    "nycdata[\"Events\"].value_counts()"
   ]
  },
  {
   "cell_type": "code",
   "execution_count": 10,
   "id": "5249a30d",
   "metadata": {},
   "outputs": [
    {
     "data": {
      "text/plain": [
       "0    Rain\n",
       "dtype: object"
      ]
     },
     "execution_count": 10,
     "metadata": {},
     "output_type": "execute_result"
    }
   ],
   "source": [
    "# another way to getting the mode\n",
    "nycdata[\"Events\"].mode()"
   ]
  },
  {
   "cell_type": "code",
   "execution_count": 11,
   "id": "76578f84",
   "metadata": {},
   "outputs": [
    {
     "data": {
      "text/plain": [
       "'Rain'"
      ]
     },
     "execution_count": 11,
     "metadata": {},
     "output_type": "execute_result"
    }
   ],
   "source": [
    "# narrowing down mode when you have multiple entries with same value_count\n",
    "nycdata[\"Events\"].mode()[0]"
   ]
  },
  {
   "cell_type": "code",
   "execution_count": 12,
   "id": "0e436b7a",
   "metadata": {},
   "outputs": [],
   "source": [
    "# dropping null entries\n",
    "nycdata.dropna(axis=0, how=\"all\", inplace=True)"
   ]
  },
  {
   "cell_type": "markdown",
   "id": "45ff4721",
   "metadata": {},
   "source": [
    "> Merging"
   ]
  },
  {
   "cell_type": "code",
   "execution_count": 13,
   "id": "14ba76fa",
   "metadata": {},
   "outputs": [],
   "source": [
    "df1 = pd.DataFrame({\n",
    "    \"name\" : [\"Samuel\", \"Rodgers\", \"Vivian\", \"Miedema\"],\n",
    "    \"gender\" : [\"Male\", \"Male\", \"Female\", \"Female\"]\n",
    "})\n",
    "\n",
    "df2 = pd.DataFrame({\n",
    "    \"customer name\" : [\"Vivian\", \"Miedema\", \"Tom\", \"Samuel\", \"Fred\"],\n",
    "    \"age\" : [21, 25, 23, 20, 27]\n",
    "})"
   ]
  },
  {
   "cell_type": "code",
   "execution_count": 14,
   "id": "5676ea09",
   "metadata": {},
   "outputs": [
    {
     "data": {
      "text/html": [
       "<div>\n",
       "<style scoped>\n",
       "    .dataframe tbody tr th:only-of-type {\n",
       "        vertical-align: middle;\n",
       "    }\n",
       "\n",
       "    .dataframe tbody tr th {\n",
       "        vertical-align: top;\n",
       "    }\n",
       "\n",
       "    .dataframe thead th {\n",
       "        text-align: right;\n",
       "    }\n",
       "</style>\n",
       "<table border=\"1\" class=\"dataframe\">\n",
       "  <thead>\n",
       "    <tr style=\"text-align: right;\">\n",
       "      <th></th>\n",
       "      <th>name</th>\n",
       "      <th>gender</th>\n",
       "    </tr>\n",
       "  </thead>\n",
       "  <tbody>\n",
       "    <tr>\n",
       "      <th>0</th>\n",
       "      <td>Samuel</td>\n",
       "      <td>Male</td>\n",
       "    </tr>\n",
       "    <tr>\n",
       "      <th>1</th>\n",
       "      <td>Rodgers</td>\n",
       "      <td>Male</td>\n",
       "    </tr>\n",
       "    <tr>\n",
       "      <th>2</th>\n",
       "      <td>Vivian</td>\n",
       "      <td>Female</td>\n",
       "    </tr>\n",
       "    <tr>\n",
       "      <th>3</th>\n",
       "      <td>Miedema</td>\n",
       "      <td>Female</td>\n",
       "    </tr>\n",
       "  </tbody>\n",
       "</table>\n",
       "</div>"
      ],
      "text/plain": [
       "      name  gender\n",
       "0   Samuel    Male\n",
       "1  Rodgers    Male\n",
       "2   Vivian  Female\n",
       "3  Miedema  Female"
      ]
     },
     "execution_count": 14,
     "metadata": {},
     "output_type": "execute_result"
    }
   ],
   "source": [
    "df1"
   ]
  },
  {
   "cell_type": "code",
   "execution_count": 15,
   "id": "633ac00a",
   "metadata": {},
   "outputs": [
    {
     "data": {
      "text/html": [
       "<div>\n",
       "<style scoped>\n",
       "    .dataframe tbody tr th:only-of-type {\n",
       "        vertical-align: middle;\n",
       "    }\n",
       "\n",
       "    .dataframe tbody tr th {\n",
       "        vertical-align: top;\n",
       "    }\n",
       "\n",
       "    .dataframe thead th {\n",
       "        text-align: right;\n",
       "    }\n",
       "</style>\n",
       "<table border=\"1\" class=\"dataframe\">\n",
       "  <thead>\n",
       "    <tr style=\"text-align: right;\">\n",
       "      <th></th>\n",
       "      <th>customer name</th>\n",
       "      <th>age</th>\n",
       "    </tr>\n",
       "  </thead>\n",
       "  <tbody>\n",
       "    <tr>\n",
       "      <th>0</th>\n",
       "      <td>Vivian</td>\n",
       "      <td>21</td>\n",
       "    </tr>\n",
       "    <tr>\n",
       "      <th>1</th>\n",
       "      <td>Miedema</td>\n",
       "      <td>25</td>\n",
       "    </tr>\n",
       "    <tr>\n",
       "      <th>2</th>\n",
       "      <td>Tom</td>\n",
       "      <td>23</td>\n",
       "    </tr>\n",
       "    <tr>\n",
       "      <th>3</th>\n",
       "      <td>Samuel</td>\n",
       "      <td>20</td>\n",
       "    </tr>\n",
       "    <tr>\n",
       "      <th>4</th>\n",
       "      <td>Fred</td>\n",
       "      <td>27</td>\n",
       "    </tr>\n",
       "  </tbody>\n",
       "</table>\n",
       "</div>"
      ],
      "text/plain": [
       "  customer name  age\n",
       "0        Vivian   21\n",
       "1       Miedema   25\n",
       "2           Tom   23\n",
       "3        Samuel   20\n",
       "4          Fred   27"
      ]
     },
     "execution_count": 15,
     "metadata": {},
     "output_type": "execute_result"
    }
   ],
   "source": [
    "df2"
   ]
  },
  {
   "cell_type": "code",
   "execution_count": 16,
   "id": "d3fb161e",
   "metadata": {},
   "outputs": [
    {
     "data": {
      "text/html": [
       "<div>\n",
       "<style scoped>\n",
       "    .dataframe tbody tr th:only-of-type {\n",
       "        vertical-align: middle;\n",
       "    }\n",
       "\n",
       "    .dataframe tbody tr th {\n",
       "        vertical-align: top;\n",
       "    }\n",
       "\n",
       "    .dataframe thead th {\n",
       "        text-align: right;\n",
       "    }\n",
       "</style>\n",
       "<table border=\"1\" class=\"dataframe\">\n",
       "  <thead>\n",
       "    <tr style=\"text-align: right;\">\n",
       "      <th></th>\n",
       "      <th>name</th>\n",
       "      <th>gender</th>\n",
       "      <th>customer name</th>\n",
       "      <th>age</th>\n",
       "    </tr>\n",
       "  </thead>\n",
       "  <tbody>\n",
       "    <tr>\n",
       "      <th>0</th>\n",
       "      <td>Samuel</td>\n",
       "      <td>Male</td>\n",
       "      <td>Samuel</td>\n",
       "      <td>20</td>\n",
       "    </tr>\n",
       "    <tr>\n",
       "      <th>1</th>\n",
       "      <td>Vivian</td>\n",
       "      <td>Female</td>\n",
       "      <td>Vivian</td>\n",
       "      <td>21</td>\n",
       "    </tr>\n",
       "    <tr>\n",
       "      <th>2</th>\n",
       "      <td>Miedema</td>\n",
       "      <td>Female</td>\n",
       "      <td>Miedema</td>\n",
       "      <td>25</td>\n",
       "    </tr>\n",
       "  </tbody>\n",
       "</table>\n",
       "</div>"
      ],
      "text/plain": [
       "      name  gender customer name  age\n",
       "0   Samuel    Male        Samuel   20\n",
       "1   Vivian  Female        Vivian   21\n",
       "2  Miedema  Female       Miedema   25"
      ]
     },
     "execution_count": 16,
     "metadata": {},
     "output_type": "execute_result"
    }
   ],
   "source": [
    "# merging dataframes : use on - if column names are thesame; left_on, right_on if !same\n",
    "full_data = pd.merge(left=df1, right=df2, left_on=\"name\", right_on=\"customer name\", how = \"inner\")\n",
    "full_data"
   ]
  },
  {
   "cell_type": "markdown",
   "id": "ed0aa147",
   "metadata": {},
   "source": [
    "> Dropping duplicates"
   ]
  },
  {
   "cell_type": "code",
   "execution_count": 17,
   "id": "bc6e152d",
   "metadata": {},
   "outputs": [
    {
     "data": {
      "text/html": [
       "<div>\n",
       "<style scoped>\n",
       "    .dataframe tbody tr th:only-of-type {\n",
       "        vertical-align: middle;\n",
       "    }\n",
       "\n",
       "    .dataframe tbody tr th {\n",
       "        vertical-align: top;\n",
       "    }\n",
       "\n",
       "    .dataframe thead th {\n",
       "        text-align: right;\n",
       "    }\n",
       "</style>\n",
       "<table border=\"1\" class=\"dataframe\">\n",
       "  <thead>\n",
       "    <tr style=\"text-align: right;\">\n",
       "      <th></th>\n",
       "      <th>name</th>\n",
       "      <th>sales</th>\n",
       "      <th>date</th>\n",
       "    </tr>\n",
       "  </thead>\n",
       "  <tbody>\n",
       "    <tr>\n",
       "      <th>0</th>\n",
       "      <td>Sebastian Waite</td>\n",
       "      <td>607193</td>\n",
       "      <td>1/1/2020</td>\n",
       "    </tr>\n",
       "    <tr>\n",
       "      <th>1</th>\n",
       "      <td>Lizzie Haggins</td>\n",
       "      <td>1171366</td>\n",
       "      <td>1/1/2020</td>\n",
       "    </tr>\n",
       "    <tr>\n",
       "      <th>2</th>\n",
       "      <td>Ima Gaudreau</td>\n",
       "      <td>941504</td>\n",
       "      <td>1/1/2020</td>\n",
       "    </tr>\n",
       "    <tr>\n",
       "      <th>3</th>\n",
       "      <td>Leticia Michelsen</td>\n",
       "      <td>721826</td>\n",
       "      <td>1/1/2020</td>\n",
       "    </tr>\n",
       "    <tr>\n",
       "      <th>4</th>\n",
       "      <td>Stanley Margolin</td>\n",
       "      <td>904494</td>\n",
       "      <td>1/1/2020</td>\n",
       "    </tr>\n",
       "  </tbody>\n",
       "</table>\n",
       "</div>"
      ],
      "text/plain": [
       "                 name    sales      date\n",
       "0    Sebastian Waite    607193  1/1/2020\n",
       "1     Lizzie Haggins   1171366  1/1/2020\n",
       "2       Ima Gaudreau    941504  1/1/2020\n",
       "3  Leticia Michelsen    721826  1/1/2020\n",
       "4   Stanley Margolin    904494  1/1/2020"
      ]
     },
     "execution_count": 17,
     "metadata": {},
     "output_type": "execute_result"
    }
   ],
   "source": [
    "ecorp = pd.read_csv(\"../fileInpOut/ecorp data.csv\")\n",
    "ecorp.head()"
   ]
  },
  {
   "cell_type": "code",
   "execution_count": 18,
   "id": "7dbc8990",
   "metadata": {},
   "outputs": [],
   "source": [
    "# dropping duplicates in row \"name\"\n",
    "ecorp.drop_duplicates(subset=\"name\", keep=\"first\", inplace=True)"
   ]
  },
  {
   "cell_type": "code",
   "execution_count": 19,
   "id": "39358821",
   "metadata": {},
   "outputs": [
    {
     "data": {
      "text/plain": [
       "(549, 3)"
      ]
     },
     "execution_count": 19,
     "metadata": {},
     "output_type": "execute_result"
    }
   ],
   "source": [
    "ecorp.shape"
   ]
  },
  {
   "cell_type": "code",
   "execution_count": 20,
   "id": "20e4e3fb",
   "metadata": {},
   "outputs": [
    {
     "data": {
      "text/plain": [
       "(106, 3)"
      ]
     },
     "execution_count": 20,
     "metadata": {},
     "output_type": "execute_result"
    }
   ],
   "source": [
    "# dropping duplicates in row \"name\"\n",
    "ecorp.drop_duplicates(subset=\"date\", keep=\"first\", inplace=True)\n",
    "ecorp.shape"
   ]
  },
  {
   "cell_type": "markdown",
   "id": "d7db1827",
   "metadata": {},
   "source": [
    "> ### Diagnostic Analysis"
   ]
  },
  {
   "cell_type": "code",
   "execution_count": 21,
   "id": "459023ae",
   "metadata": {},
   "outputs": [
    {
     "data": {
      "text/html": [
       "<div>\n",
       "<style scoped>\n",
       "    .dataframe tbody tr th:only-of-type {\n",
       "        vertical-align: middle;\n",
       "    }\n",
       "\n",
       "    .dataframe tbody tr th {\n",
       "        vertical-align: top;\n",
       "    }\n",
       "\n",
       "    .dataframe thead th {\n",
       "        text-align: right;\n",
       "    }\n",
       "</style>\n",
       "<table border=\"1\" class=\"dataframe\">\n",
       "  <thead>\n",
       "    <tr style=\"text-align: right;\">\n",
       "      <th></th>\n",
       "      <th>Transaction ID</th>\n",
       "      <th>Age</th>\n",
       "      <th>Items</th>\n",
       "      <th>Monthly Income</th>\n",
       "      <th>Transaction Time</th>\n",
       "      <th>Record</th>\n",
       "      <th>Gender</th>\n",
       "      <th>City Tier</th>\n",
       "      <th>Total Spend</th>\n",
       "    </tr>\n",
       "  </thead>\n",
       "  <tbody>\n",
       "    <tr>\n",
       "      <th>0</th>\n",
       "      <td>TXN001</td>\n",
       "      <td>42</td>\n",
       "      <td>10</td>\n",
       "      <td>7313</td>\n",
       "      <td>627.668127</td>\n",
       "      <td>5</td>\n",
       "      <td>Female</td>\n",
       "      <td>Tier 1</td>\n",
       "      <td>4198.385084</td>\n",
       "    </tr>\n",
       "    <tr>\n",
       "      <th>1</th>\n",
       "      <td>TXN002</td>\n",
       "      <td>24</td>\n",
       "      <td>8</td>\n",
       "      <td>17747</td>\n",
       "      <td>126.904567</td>\n",
       "      <td>3</td>\n",
       "      <td>Female</td>\n",
       "      <td>Tier 2</td>\n",
       "      <td>4134.976648</td>\n",
       "    </tr>\n",
       "    <tr>\n",
       "      <th>2</th>\n",
       "      <td>TXN003</td>\n",
       "      <td>47</td>\n",
       "      <td>11</td>\n",
       "      <td>22845</td>\n",
       "      <td>873.469701</td>\n",
       "      <td>2</td>\n",
       "      <td>Male</td>\n",
       "      <td>Tier 2</td>\n",
       "      <td>5166.614455</td>\n",
       "    </tr>\n",
       "    <tr>\n",
       "      <th>3</th>\n",
       "      <td>TXN004</td>\n",
       "      <td>50</td>\n",
       "      <td>11</td>\n",
       "      <td>18552</td>\n",
       "      <td>380.219428</td>\n",
       "      <td>7</td>\n",
       "      <td>Female</td>\n",
       "      <td>Tier 1</td>\n",
       "      <td>7784.447676</td>\n",
       "    </tr>\n",
       "    <tr>\n",
       "      <th>4</th>\n",
       "      <td>TXN005</td>\n",
       "      <td>60</td>\n",
       "      <td>2</td>\n",
       "      <td>14439</td>\n",
       "      <td>403.374223</td>\n",
       "      <td>2</td>\n",
       "      <td>Female</td>\n",
       "      <td>Tier 2</td>\n",
       "      <td>3254.160485</td>\n",
       "    </tr>\n",
       "  </tbody>\n",
       "</table>\n",
       "</div>"
      ],
      "text/plain": [
       "  Transaction ID  Age    Items   Monthly Income  Transaction Time  Record  \\\n",
       "0         TXN001    42       10            7313        627.668127       5   \n",
       "1         TXN002    24        8           17747        126.904567       3   \n",
       "2         TXN003    47       11           22845        873.469701       2   \n",
       "3         TXN004    50       11           18552        380.219428       7   \n",
       "4         TXN005    60        2           14439        403.374223       2   \n",
       "\n",
       "   Gender City Tier  Total Spend  \n",
       "0  Female    Tier 1  4198.385084  \n",
       "1  Female    Tier 2  4134.976648  \n",
       "2    Male    Tier 2  5166.614455  \n",
       "3  Female    Tier 1  7784.447676  \n",
       "4  Female    Tier 2  3254.160485  "
      ]
     },
     "execution_count": 21,
     "metadata": {},
     "output_type": "execute_result"
    }
   ],
   "source": [
    "ecomdata = pd.read_csv(\"Files/Ecom Expense.csv\")\n",
    "ecomdata.head()"
   ]
  },
  {
   "cell_type": "code",
   "execution_count": 22,
   "id": "968bd9b8",
   "metadata": {},
   "outputs": [
    {
     "data": {
      "text/html": [
       "<div>\n",
       "<style scoped>\n",
       "    .dataframe tbody tr th:only-of-type {\n",
       "        vertical-align: middle;\n",
       "    }\n",
       "\n",
       "    .dataframe tbody tr th {\n",
       "        vertical-align: top;\n",
       "    }\n",
       "\n",
       "    .dataframe thead th {\n",
       "        text-align: right;\n",
       "    }\n",
       "</style>\n",
       "<table border=\"1\" class=\"dataframe\">\n",
       "  <thead>\n",
       "    <tr style=\"text-align: right;\">\n",
       "      <th></th>\n",
       "      <th>Total Spend</th>\n",
       "    </tr>\n",
       "    <tr>\n",
       "      <th>City Tier</th>\n",
       "      <th></th>\n",
       "    </tr>\n",
       "  </thead>\n",
       "  <tbody>\n",
       "    <tr>\n",
       "      <th>Tier 1</th>\n",
       "      <td>5.096583e+06</td>\n",
       "    </tr>\n",
       "    <tr>\n",
       "      <th>Tier 2</th>\n",
       "      <td>4.798944e+06</td>\n",
       "    </tr>\n",
       "    <tr>\n",
       "      <th>Tier 3</th>\n",
       "      <td>4.661896e+06</td>\n",
       "    </tr>\n",
       "  </tbody>\n",
       "</table>\n",
       "</div>"
      ],
      "text/plain": [
       "            Total Spend\n",
       "City Tier              \n",
       "Tier 1     5.096583e+06\n",
       "Tier 2     4.798944e+06\n",
       "Tier 3     4.661896e+06"
      ]
     },
     "execution_count": 22,
     "metadata": {},
     "output_type": "execute_result"
    }
   ],
   "source": [
    "tots = pd.DataFrame(ecomdata.groupby('City Tier')[\"Total Spend\"].sum())\n",
    "tots"
   ]
  },
  {
   "cell_type": "code",
   "execution_count": 23,
   "id": "5693b423",
   "metadata": {},
   "outputs": [
    {
     "data": {
      "text/html": [
       "<div>\n",
       "<style scoped>\n",
       "    .dataframe tbody tr th:only-of-type {\n",
       "        vertical-align: middle;\n",
       "    }\n",
       "\n",
       "    .dataframe tbody tr th {\n",
       "        vertical-align: top;\n",
       "    }\n",
       "\n",
       "    .dataframe thead th {\n",
       "        text-align: right;\n",
       "    }\n",
       "</style>\n",
       "<table border=\"1\" class=\"dataframe\">\n",
       "  <thead>\n",
       "    <tr style=\"text-align: right;\">\n",
       "      <th></th>\n",
       "      <th>Total Spend</th>\n",
       "    </tr>\n",
       "    <tr>\n",
       "      <th>City Tier</th>\n",
       "      <th></th>\n",
       "    </tr>\n",
       "  </thead>\n",
       "  <tbody>\n",
       "    <tr>\n",
       "      <th>Tier 1</th>\n",
       "      <td>6253.475599</td>\n",
       "    </tr>\n",
       "    <tr>\n",
       "      <th>Tier 2</th>\n",
       "      <td>6136.757309</td>\n",
       "    </tr>\n",
       "    <tr>\n",
       "      <th>Tier 3</th>\n",
       "      <td>6093.981524</td>\n",
       "    </tr>\n",
       "  </tbody>\n",
       "</table>\n",
       "</div>"
      ],
      "text/plain": [
       "           Total Spend\n",
       "City Tier             \n",
       "Tier 1     6253.475599\n",
       "Tier 2     6136.757309\n",
       "Tier 3     6093.981524"
      ]
     },
     "execution_count": 23,
     "metadata": {},
     "output_type": "execute_result"
    }
   ],
   "source": [
    "avgdata = pd.DataFrame(ecomdata.groupby('City Tier')[\"Total Spend\"].mean())\n",
    "avgdata"
   ]
  },
  {
   "cell_type": "code",
   "execution_count": 24,
   "id": "4dfa4881",
   "metadata": {},
   "outputs": [
    {
     "data": {
      "text/plain": [
       "6163.176415976714"
      ]
     },
     "execution_count": 24,
     "metadata": {},
     "output_type": "execute_result"
    }
   ],
   "source": [
    "meantots = ecomdata[\"Total Spend\"].mean()\n",
    "meantots"
   ]
  },
  {
   "cell_type": "code",
   "execution_count": 25,
   "id": "ae0c8d95",
   "metadata": {},
   "outputs": [
    {
     "data": {
      "text/plain": [
       "2799.7720603578377"
      ]
     },
     "execution_count": 25,
     "metadata": {},
     "output_type": "execute_result"
    }
   ],
   "source": [
    "sdtots = ecomdata[\"Total Spend\"].std()\n",
    "sdtots"
   ]
  },
  {
   "cell_type": "code",
   "execution_count": 26,
   "id": "45c18cf3",
   "metadata": {},
   "outputs": [
    {
     "data": {
      "text/plain": [
       "-0.34401958274189337"
      ]
     },
     "execution_count": 26,
     "metadata": {},
     "output_type": "execute_result"
    }
   ],
   "source": [
    "x = 5200\n",
    "zscore = (x - meantots)/sdtots\n",
    "zscore"
   ]
  },
  {
   "cell_type": "markdown",
   "id": "30f94bf9",
   "metadata": {},
   "source": [
    "#### Without Z-table"
   ]
  },
  {
   "cell_type": "code",
   "execution_count": 27,
   "id": "a8337eff",
   "metadata": {},
   "outputs": [
    {
     "data": {
      "text/plain": [
       "-0.34401958274189337"
      ]
     },
     "execution_count": 27,
     "metadata": {},
     "output_type": "execute_result"
    }
   ],
   "source": [
    "# getting zscore\n",
    "zscore = (5200 - meantots) / sdtots\n",
    "zscore"
   ]
  },
  {
   "cell_type": "code",
   "execution_count": 28,
   "id": "27c66a7c",
   "metadata": {},
   "outputs": [
    {
     "data": {
      "text/plain": [
       "0.36692826396397193"
      ]
     },
     "execution_count": 28,
     "metadata": {},
     "output_type": "execute_result"
    }
   ],
   "source": [
    "# calculating probability using zscore\n",
    "pr = st.norm.cdf(-0.34)\n",
    "pr"
   ]
  },
  {
   "cell_type": "code",
   "execution_count": 29,
   "id": "de2920d9",
   "metadata": {},
   "outputs": [
    {
     "data": {
      "text/plain": [
       "(0.1203039307350743, 0.8346477976227169)"
      ]
     },
     "execution_count": 29,
     "metadata": {},
     "output_type": "execute_result"
    }
   ],
   "source": [
    "# probability that a customer spends between 6500 and 8500\n",
    "zs6 = (6500 - meantots)/sdtots # zscore for 6500\n",
    "zs8 = (8500 - meantots)/sdtots # zscore for 8500\n",
    "zs6, zs8"
   ]
  },
  {
   "cell_type": "code",
   "execution_count": 30,
   "id": "57fa1a6b",
   "metadata": {},
   "outputs": [
    {
     "data": {
      "text/plain": [
       "(0.5477584260205839, 0.7967306081719316)"
      ]
     },
     "execution_count": 30,
     "metadata": {},
     "output_type": "execute_result"
    }
   ],
   "source": [
    "# calculating both probabilities using zscore\n",
    "zpr6 = st.norm.cdf(0.12)\n",
    "zpr8 = st.norm.cdf(0.83)\n",
    "zpr6, zpr8"
   ]
  },
  {
   "cell_type": "code",
   "execution_count": 31,
   "id": "365c50f0",
   "metadata": {},
   "outputs": [
    {
     "data": {
      "text/plain": [
       "0.24897218215134775"
      ]
     },
     "execution_count": 31,
     "metadata": {},
     "output_type": "execute_result"
    }
   ],
   "source": [
    "# calculating zcore probablility for customer spend between 6500 and 8500\n",
    "prbtw = zpr8 - zpr6\n",
    "prbtw"
   ]
  },
  {
   "cell_type": "code",
   "execution_count": 32,
   "id": "ff05fbb1",
   "metadata": {},
   "outputs": [
    {
     "data": {
      "text/plain": [
       "0.7510278178486522"
      ]
     },
     "execution_count": 32,
     "metadata": {},
     "output_type": "execute_result"
    }
   ],
   "source": [
    "# calculating probability that customer spends not between 6500 and 8500\n",
    "prnotbtw = 1 - prbtw\n",
    "prnotbtw"
   ]
  },
  {
   "cell_type": "markdown",
   "id": "4aada4e0",
   "metadata": {},
   "source": [
    "> Hypothesis Testing"
   ]
  },
  {
   "cell_type": "markdown",
   "id": "5b10790a",
   "metadata": {},
   "source": [
    "* T-test"
   ]
  },
  {
   "cell_type": "code",
   "execution_count": 33,
   "id": "62694753",
   "metadata": {},
   "outputs": [],
   "source": [
    "men = ecomdata[ecomdata[\"Gender\"] == \"Male\"]\n",
    "women = ecomdata[ecomdata[\"Gender\"] == \"Female\"]"
   ]
  },
  {
   "cell_type": "code",
   "execution_count": 34,
   "id": "0d98d811",
   "metadata": {},
   "outputs": [
    {
     "data": {
      "text/plain": [
       "Ttest_indResult(statistic=-1.7734206545691216, pvalue=0.0762879678239681)"
      ]
     },
     "execution_count": 34,
     "metadata": {},
     "output_type": "execute_result"
    }
   ],
   "source": [
    "# using T-test\n",
    "tt(women['Total Spend'], men['Total Spend'])"
   ]
  },
  {
   "cell_type": "markdown",
   "id": "0e347ec7",
   "metadata": {},
   "source": [
    "* Oneway-ANOVA"
   ]
  },
  {
   "cell_type": "code",
   "execution_count": 35,
   "id": "ea6be520",
   "metadata": {},
   "outputs": [],
   "source": [
    "# Splitting a category with 3 categories\n",
    "tier1 = ecomdata[ecomdata[\"City Tier\"] == \"Tier 1\"]\n",
    "tier2 = ecomdata[ecomdata[\"City Tier\"] == \"Tier 2\"]\n",
    "tier3 = ecomdata[ecomdata[\"City Tier\"] == \"Tier 3\"]"
   ]
  },
  {
   "cell_type": "code",
   "execution_count": 36,
   "id": "955b5172",
   "metadata": {},
   "outputs": [
    {
     "data": {
      "text/plain": [
       "F_onewayResult(statistic=0.6921543550249314, pvalue=0.5005982732354749)"
      ]
     },
     "execution_count": 36,
     "metadata": {},
     "output_type": "execute_result"
    }
   ],
   "source": [
    "f1(tier1['Total Spend'], tier2['Total Spend'], tier3['Total Spend'])"
   ]
  },
  {
   "cell_type": "markdown",
   "id": "c95fbcb4",
   "metadata": {},
   "source": [
    "* Chi Square"
   ]
  },
  {
   "cell_type": "code",
   "execution_count": 37,
   "id": "c0a673e6",
   "metadata": {},
   "outputs": [
    {
     "data": {
      "text/html": [
       "<div>\n",
       "<style scoped>\n",
       "    .dataframe tbody tr th:only-of-type {\n",
       "        vertical-align: middle;\n",
       "    }\n",
       "\n",
       "    .dataframe tbody tr th {\n",
       "        vertical-align: top;\n",
       "    }\n",
       "\n",
       "    .dataframe thead th {\n",
       "        text-align: right;\n",
       "    }\n",
       "</style>\n",
       "<table border=\"1\" class=\"dataframe\">\n",
       "  <thead>\n",
       "    <tr style=\"text-align: right;\">\n",
       "      <th>City Tier</th>\n",
       "      <th>Tier 1</th>\n",
       "      <th>Tier 2</th>\n",
       "      <th>Tier 3</th>\n",
       "    </tr>\n",
       "    <tr>\n",
       "      <th>Gender</th>\n",
       "      <th></th>\n",
       "      <th></th>\n",
       "      <th></th>\n",
       "    </tr>\n",
       "  </thead>\n",
       "  <tbody>\n",
       "    <tr>\n",
       "      <th>Female</th>\n",
       "      <td>403</td>\n",
       "      <td>384</td>\n",
       "      <td>375</td>\n",
       "    </tr>\n",
       "    <tr>\n",
       "      <th>Male</th>\n",
       "      <td>412</td>\n",
       "      <td>398</td>\n",
       "      <td>390</td>\n",
       "    </tr>\n",
       "  </tbody>\n",
       "</table>\n",
       "</div>"
      ],
      "text/plain": [
       "City Tier  Tier 1  Tier 2  Tier 3\n",
       "Gender                           \n",
       "Female        403     384     375\n",
       "Male          412     398     390"
      ]
     },
     "execution_count": 37,
     "metadata": {},
     "output_type": "execute_result"
    }
   ],
   "source": [
    "pd.crosstab(ecomdata[\"Gender\"], ecomdata[\"City Tier\"])"
   ]
  },
  {
   "cell_type": "code",
   "execution_count": 38,
   "id": "7bedf4eb",
   "metadata": {},
   "outputs": [
    {
     "data": {
      "text/plain": [
       "(0.03280571059598164,\n",
       " 0.9837309389979686,\n",
       " 2,\n",
       " array([[400.94411516, 384.70956816, 376.34631668],\n",
       "        [414.05588484, 397.29043184, 388.65368332]]))"
      ]
     },
     "execution_count": 38,
     "metadata": {},
     "output_type": "execute_result"
    }
   ],
   "source": [
    "chi(pd.crosstab(ecomdata[\"Gender\"], ecomdata[\"City Tier\"]))"
   ]
  },
  {
   "cell_type": "markdown",
   "id": "5e131df8",
   "metadata": {},
   "source": [
    "### Correlation Co-efficient\n"
   ]
  },
  {
   "cell_type": "code",
   "execution_count": 39,
   "id": "6347d1db",
   "metadata": {},
   "outputs": [
    {
     "data": {
      "text/plain": [
       "array([[1.       , 0.4386231],\n",
       "       [0.4386231, 1.       ]])"
      ]
     },
     "execution_count": 39,
     "metadata": {},
     "output_type": "execute_result"
    }
   ],
   "source": [
    "# checking correlation co-efficient between \"monthly income\" and \"total spend\"\n",
    "cce(ecomdata[\"Monthly Income\"], ecomdata[\"Total Spend\"])"
   ]
  },
  {
   "cell_type": "code",
   "execution_count": null,
   "id": "94ba2467",
   "metadata": {},
   "outputs": [],
   "source": []
  },
  {
   "cell_type": "code",
   "execution_count": null,
   "id": "c0bf0f48",
   "metadata": {},
   "outputs": [],
   "source": []
  },
  {
   "cell_type": "code",
   "execution_count": null,
   "id": "8349aef4",
   "metadata": {},
   "outputs": [],
   "source": []
  },
  {
   "cell_type": "code",
   "execution_count": null,
   "id": "a249c74c",
   "metadata": {},
   "outputs": [],
   "source": []
  }
 ],
 "metadata": {
  "kernelspec": {
   "display_name": "Python 3 (ipykernel)",
   "language": "python",
   "name": "python3"
  },
  "language_info": {
   "codemirror_mode": {
    "name": "ipython",
    "version": 3
   },
   "file_extension": ".py",
   "mimetype": "text/x-python",
   "name": "python",
   "nbconvert_exporter": "python",
   "pygments_lexer": "ipython3",
   "version": "3.8.12"
  },
  "varInspector": {
   "cols": {
    "lenName": 16,
    "lenType": 16,
    "lenVar": 40
   },
   "kernels_config": {
    "python": {
     "delete_cmd_postfix": "",
     "delete_cmd_prefix": "del ",
     "library": "var_list.py",
     "varRefreshCmd": "print(var_dic_list())"
    },
    "r": {
     "delete_cmd_postfix": ") ",
     "delete_cmd_prefix": "rm(",
     "library": "var_list.r",
     "varRefreshCmd": "cat(var_dic_list()) "
    }
   },
   "types_to_exclude": [
    "module",
    "function",
    "builtin_function_or_method",
    "instance",
    "_Feature"
   ],
   "window_display": false
  }
 },
 "nbformat": 4,
 "nbformat_minor": 5
}
