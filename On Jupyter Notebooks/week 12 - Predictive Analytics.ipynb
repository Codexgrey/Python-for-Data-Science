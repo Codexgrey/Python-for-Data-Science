{
 "cells": [
  {
   "cell_type": "code",
   "execution_count": 68,
   "id": "8cc2423c",
   "metadata": {},
   "outputs": [],
   "source": [
    "import numpy as np\n",
    "import pandas as pd\n",
    "import sklearn\n",
    "import matplotlib.pyplot as plt\n",
    "plt.style.use(\"ggplot\")\n",
    "from sklearn.linear_model import LinearRegression as LR\n",
    "from sklearn.model_selection import train_test_split"
   ]
  },
  {
   "cell_type": "code",
   "execution_count": 3,
   "id": "b2b8201e",
   "metadata": {},
   "outputs": [
    {
     "data": {
      "text/html": [
       "<div>\n",
       "<style scoped>\n",
       "    .dataframe tbody tr th:only-of-type {\n",
       "        vertical-align: middle;\n",
       "    }\n",
       "\n",
       "    .dataframe tbody tr th {\n",
       "        vertical-align: top;\n",
       "    }\n",
       "\n",
       "    .dataframe thead th {\n",
       "        text-align: right;\n",
       "    }\n",
       "</style>\n",
       "<table border=\"1\" class=\"dataframe\">\n",
       "  <thead>\n",
       "    <tr style=\"text-align: right;\">\n",
       "      <th></th>\n",
       "      <th>TV</th>\n",
       "      <th>Radio</th>\n",
       "      <th>Newspaper</th>\n",
       "      <th>Sales</th>\n",
       "    </tr>\n",
       "  </thead>\n",
       "  <tbody>\n",
       "    <tr>\n",
       "      <th>0</th>\n",
       "      <td>230.1</td>\n",
       "      <td>37.8</td>\n",
       "      <td>69.2</td>\n",
       "      <td>22.1</td>\n",
       "    </tr>\n",
       "    <tr>\n",
       "      <th>1</th>\n",
       "      <td>44.5</td>\n",
       "      <td>39.3</td>\n",
       "      <td>45.1</td>\n",
       "      <td>10.4</td>\n",
       "    </tr>\n",
       "    <tr>\n",
       "      <th>2</th>\n",
       "      <td>17.2</td>\n",
       "      <td>45.9</td>\n",
       "      <td>69.3</td>\n",
       "      <td>9.3</td>\n",
       "    </tr>\n",
       "    <tr>\n",
       "      <th>3</th>\n",
       "      <td>151.5</td>\n",
       "      <td>41.3</td>\n",
       "      <td>58.5</td>\n",
       "      <td>18.5</td>\n",
       "    </tr>\n",
       "    <tr>\n",
       "      <th>4</th>\n",
       "      <td>180.8</td>\n",
       "      <td>10.8</td>\n",
       "      <td>58.4</td>\n",
       "      <td>12.9</td>\n",
       "    </tr>\n",
       "  </tbody>\n",
       "</table>\n",
       "</div>"
      ],
      "text/plain": [
       "      TV  Radio  Newspaper  Sales\n",
       "0  230.1   37.8       69.2   22.1\n",
       "1   44.5   39.3       45.1   10.4\n",
       "2   17.2   45.9       69.3    9.3\n",
       "3  151.5   41.3       58.5   18.5\n",
       "4  180.8   10.8       58.4   12.9"
      ]
     },
     "execution_count": 3,
     "metadata": {},
     "output_type": "execute_result"
    }
   ],
   "source": [
    "df1 = pd.read_csv(\"Udata/Advertising.csv\")\n",
    "df1.head()"
   ]
  },
  {
   "cell_type": "markdown",
   "id": "b31267e4",
   "metadata": {},
   "source": [
    "### CHecking Relationship between each media and sales\n",
    "##### Using Correlation Co-Efficient"
   ]
  },
  {
   "cell_type": "code",
   "execution_count": 4,
   "id": "6c9996f9",
   "metadata": {},
   "outputs": [],
   "source": [
    "from numpy import corrcoef as cce"
   ]
  },
  {
   "cell_type": "code",
   "execution_count": 5,
   "id": "3579af9b",
   "metadata": {},
   "outputs": [
    {
     "data": {
      "text/plain": [
       "array([[1.        , 0.78222442],\n",
       "       [0.78222442, 1.        ]])"
      ]
     },
     "execution_count": 5,
     "metadata": {},
     "output_type": "execute_result"
    }
   ],
   "source": [
    "cce(df1[\"TV\"], df1[\"Sales\"])"
   ]
  },
  {
   "cell_type": "code",
   "execution_count": 6,
   "id": "bf7d115c",
   "metadata": {},
   "outputs": [
    {
     "data": {
      "text/plain": [
       "array([[1.        , 0.57622257],\n",
       "       [0.57622257, 1.        ]])"
      ]
     },
     "execution_count": 6,
     "metadata": {},
     "output_type": "execute_result"
    }
   ],
   "source": [
    "cce(df1[\"Radio\"], df1[\"Sales\"])"
   ]
  },
  {
   "cell_type": "code",
   "execution_count": 7,
   "id": "7c8046f4",
   "metadata": {},
   "outputs": [
    {
     "data": {
      "text/plain": [
       "array([[1.        , 0.22829903],\n",
       "       [0.22829903, 1.        ]])"
      ]
     },
     "execution_count": 7,
     "metadata": {},
     "output_type": "execute_result"
    }
   ],
   "source": [
    "cce(df1[\"Newspaper\"], df1[\"Sales\"])"
   ]
  },
  {
   "cell_type": "markdown",
   "id": "f98bfab1",
   "metadata": {},
   "source": [
    "##### Seperating Predictor and Target Variables"
   ]
  },
  {
   "cell_type": "code",
   "execution_count": 32,
   "id": "7b925819",
   "metadata": {},
   "outputs": [],
   "source": [
    "# Predictor\n",
    "p = df1[[\"TV\"]]\n",
    "\n",
    "# Predictor with \"Radio\" included\n",
    "pr = df1[[\"TV\", \"Radio\"]]\n",
    "\n",
    "# Predictor with \"Newspaper\" included\n",
    "pn = df1[[\"TV\", \"Radio\", \"Newspaper\"]]\n",
    "\n",
    "# Target\n",
    "x = df1[\"Sales\"]"
   ]
  },
  {
   "cell_type": "markdown",
   "id": "7b46f4fa",
   "metadata": {},
   "source": [
    "##### Searching for Outliers using Scatter Plot"
   ]
  },
  {
   "cell_type": "code",
   "execution_count": 9,
   "id": "f34fce4d",
   "metadata": {},
   "outputs": [
    {
     "data": {
      "image/png": "[encoded data removed]",
      "text/plain": [
       "<Figure size 720x720 with 1 Axes>"
      ]
     },
     "metadata": {},
     "output_type": "display_data"
    }
   ],
   "source": [
    "plt.figure(figsize=(10, 10))\n",
    "plt.scatter(x, p, linewidth = 3, alpha = 0.9, color = \"seagreen\")\n",
    "\n",
    "# customizing plot\n",
    "plt.title(\"Searching for Outliers in TV\", fontsize = 20, pad = 15)\n",
    "plt.xlabel(\"Sales\", size = 15)\n",
    "plt.ylabel(\"TV\", size = 15)\n",
    "\n",
    "plt.show()"
   ]
  },
  {
   "cell_type": "markdown",
   "id": "63300c1e",
   "metadata": {},
   "source": [
    "In conclusion, there're no `Outliers` in `TV` series.\n",
    "The reason we treat `Outliers` before `Predictive Analysis` is because they affect the Model's accuracy.\n",
    "The abnormality of `Outliers` distorts the `Model`."
   ]
  },
  {
   "cell_type": "markdown",
   "id": "1adcfe15",
   "metadata": {},
   "source": [
    "##### Splitting Predictor and Target Variables"
   ]
  },
  {
   "cell_type": "code",
   "execution_count": 10,
   "id": "1f45fd65",
   "metadata": {},
   "outputs": [],
   "source": [
    "# set shuffle=False if series is Categorical and already shuffled, otherwise shuffle=True by default\n",
    "p_train, p_test, x_train, x_test = train_test_split(p, x, train_size=0.8, random_state=99)"
   ]
  },
  {
   "cell_type": "code",
   "execution_count": 11,
   "id": "2dc51c5c",
   "metadata": {},
   "outputs": [
    {
     "data": {
      "text/html": [
       "<div>\n",
       "<style scoped>\n",
       "    .dataframe tbody tr th:only-of-type {\n",
       "        vertical-align: middle;\n",
       "    }\n",
       "\n",
       "    .dataframe tbody tr th {\n",
       "        vertical-align: top;\n",
       "    }\n",
       "\n",
       "    .dataframe thead th {\n",
       "        text-align: right;\n",
       "    }\n",
       "</style>\n",
       "<table border=\"1\" class=\"dataframe\">\n",
       "  <thead>\n",
       "    <tr style=\"text-align: right;\">\n",
       "      <th></th>\n",
       "      <th>TV</th>\n",
       "    </tr>\n",
       "  </thead>\n",
       "  <tbody>\n",
       "    <tr>\n",
       "      <th>16</th>\n",
       "      <td>67.8</td>\n",
       "    </tr>\n",
       "    <tr>\n",
       "      <th>51</th>\n",
       "      <td>100.4</td>\n",
       "    </tr>\n",
       "    <tr>\n",
       "      <th>97</th>\n",
       "      <td>184.9</td>\n",
       "    </tr>\n",
       "    <tr>\n",
       "      <th>164</th>\n",
       "      <td>117.2</td>\n",
       "    </tr>\n",
       "    <tr>\n",
       "      <th>71</th>\n",
       "      <td>109.8</td>\n",
       "    </tr>\n",
       "    <tr>\n",
       "      <th>...</th>\n",
       "      <td>...</td>\n",
       "    </tr>\n",
       "    <tr>\n",
       "      <th>68</th>\n",
       "      <td>237.4</td>\n",
       "    </tr>\n",
       "    <tr>\n",
       "      <th>168</th>\n",
       "      <td>215.4</td>\n",
       "    </tr>\n",
       "    <tr>\n",
       "      <th>185</th>\n",
       "      <td>205.0</td>\n",
       "    </tr>\n",
       "    <tr>\n",
       "      <th>35</th>\n",
       "      <td>290.7</td>\n",
       "    </tr>\n",
       "    <tr>\n",
       "      <th>129</th>\n",
       "      <td>59.6</td>\n",
       "    </tr>\n",
       "  </tbody>\n",
       "</table>\n",
       "<p>160 rows × 1 columns</p>\n",
       "</div>"
      ],
      "text/plain": [
       "        TV\n",
       "16    67.8\n",
       "51   100.4\n",
       "97   184.9\n",
       "164  117.2\n",
       "71   109.8\n",
       "..     ...\n",
       "68   237.4\n",
       "168  215.4\n",
       "185  205.0\n",
       "35   290.7\n",
       "129   59.6\n",
       "\n",
       "[160 rows x 1 columns]"
      ]
     },
     "execution_count": 11,
     "metadata": {},
     "output_type": "execute_result"
    }
   ],
   "source": [
    "p_train"
   ]
  },
  {
   "cell_type": "markdown",
   "id": "045efd7b",
   "metadata": {},
   "source": [
    "##### Initializing and Training the Model"
   ]
  },
  {
   "cell_type": "code",
   "execution_count": 12,
   "id": "d113b5ce",
   "metadata": {},
   "outputs": [
    {
     "data": {
      "text/plain": [
       "LinearRegression()"
      ]
     },
     "execution_count": 12,
     "metadata": {},
     "output_type": "execute_result"
    }
   ],
   "source": [
    "# creating an object of linear regression, initializing\n",
    "lr = LR()\n",
    "\n",
    "# using fit to train model\n",
    "lr.fit(p_train, x_train)\n",
    "\n",
    "# Only the *train goes into the model"
   ]
  },
  {
   "cell_type": "code",
   "execution_count": 13,
   "id": "a6a814e6",
   "metadata": {},
   "outputs": [
    {
     "data": {
      "text/plain": [
       "7.204771031621269"
      ]
     },
     "execution_count": 13,
     "metadata": {},
     "output_type": "execute_result"
    }
   ],
   "source": [
    "# intercept\n",
    "lr.intercept_"
   ]
  },
  {
   "cell_type": "code",
   "execution_count": 14,
   "id": "ae89ac84",
   "metadata": {},
   "outputs": [
    {
     "data": {
      "text/plain": [
       "array([0.04666821])"
      ]
     },
     "execution_count": 14,
     "metadata": {},
     "output_type": "execute_result"
    }
   ],
   "source": [
    "# variable coefficient\n",
    "lr.coef_"
   ]
  },
  {
   "cell_type": "code",
   "execution_count": 15,
   "id": "29dda27d",
   "metadata": {},
   "outputs": [
    {
     "data": {
      "text/plain": [
       "array([ 9.45884551, 10.94756137, 10.72822078,  8.6748196 ,  8.11013428,\n",
       "       18.48447706, 18.39580747, 19.66051592,  7.56878306, 16.1230657 ,\n",
       "       16.22106894, 10.32687419,  7.39611069,  8.08213335, 16.52907912,\n",
       "        8.9874966 , 10.11220043, 16.8604234 , 16.52907912, 15.19903517,\n",
       "        8.37614307, 11.39090935, 15.97372744, 15.72638593, 13.35097411,\n",
       "       10.42487743, 14.93302638, 16.65508328, 17.36444005, 12.32894034,\n",
       "       11.6942527 , 20.72455108, 16.72975242, 10.76555535, 13.7523207 ,\n",
       "       14.88169135, 11.99759606, 14.19100187, 17.58378063,  8.45547902])"
      ]
     },
     "execution_count": 15,
     "metadata": {},
     "output_type": "execute_result"
    }
   ],
   "source": [
    "# running predictive analysis\n",
    "predicted = (lr.predict(p_test))\n",
    "predicted"
   ]
  },
  {
   "cell_type": "code",
   "execution_count": 16,
   "id": "6460b988",
   "metadata": {},
   "outputs": [
    {
     "data": {
      "text/html": [
       "<div>\n",
       "<style scoped>\n",
       "    .dataframe tbody tr th:only-of-type {\n",
       "        vertical-align: middle;\n",
       "    }\n",
       "\n",
       "    .dataframe tbody tr th {\n",
       "        vertical-align: top;\n",
       "    }\n",
       "\n",
       "    .dataframe thead th {\n",
       "        text-align: right;\n",
       "    }\n",
       "</style>\n",
       "<table border=\"1\" class=\"dataframe\">\n",
       "  <thead>\n",
       "    <tr style=\"text-align: right;\">\n",
       "      <th></th>\n",
       "      <th>p_test for TV</th>\n",
       "      <th>predicted_sales</th>\n",
       "      <th>actual_sales</th>\n",
       "    </tr>\n",
       "  </thead>\n",
       "  <tbody>\n",
       "    <tr>\n",
       "      <th>135</th>\n",
       "      <td>48.3</td>\n",
       "      <td>9.458846</td>\n",
       "      <td>11.6</td>\n",
       "    </tr>\n",
       "    <tr>\n",
       "      <th>127</th>\n",
       "      <td>80.2</td>\n",
       "      <td>10.947561</td>\n",
       "      <td>8.8</td>\n",
       "    </tr>\n",
       "    <tr>\n",
       "      <th>191</th>\n",
       "      <td>75.5</td>\n",
       "      <td>10.728221</td>\n",
       "      <td>9.9</td>\n",
       "    </tr>\n",
       "    <tr>\n",
       "      <th>66</th>\n",
       "      <td>31.5</td>\n",
       "      <td>8.674820</td>\n",
       "      <td>9.5</td>\n",
       "    </tr>\n",
       "    <tr>\n",
       "      <th>119</th>\n",
       "      <td>19.4</td>\n",
       "      <td>8.110134</td>\n",
       "      <td>6.6</td>\n",
       "    </tr>\n",
       "    <tr>\n",
       "      <th>111</th>\n",
       "      <td>241.7</td>\n",
       "      <td>18.484477</td>\n",
       "      <td>21.8</td>\n",
       "    </tr>\n",
       "    <tr>\n",
       "      <th>81</th>\n",
       "      <td>239.8</td>\n",
       "      <td>18.395807</td>\n",
       "      <td>12.3</td>\n",
       "    </tr>\n",
       "    <tr>\n",
       "      <th>36</th>\n",
       "      <td>266.9</td>\n",
       "      <td>19.660516</td>\n",
       "      <td>25.4</td>\n",
       "    </tr>\n",
       "    <tr>\n",
       "      <th>126</th>\n",
       "      <td>7.8</td>\n",
       "      <td>7.568783</td>\n",
       "      <td>6.6</td>\n",
       "    </tr>\n",
       "    <tr>\n",
       "      <th>187</th>\n",
       "      <td>191.1</td>\n",
       "      <td>16.123066</td>\n",
       "      <td>17.3</td>\n",
       "    </tr>\n",
       "    <tr>\n",
       "      <th>85</th>\n",
       "      <td>193.2</td>\n",
       "      <td>16.221069</td>\n",
       "      <td>15.2</td>\n",
       "    </tr>\n",
       "    <tr>\n",
       "      <th>49</th>\n",
       "      <td>66.9</td>\n",
       "      <td>10.326874</td>\n",
       "      <td>9.7</td>\n",
       "    </tr>\n",
       "    <tr>\n",
       "      <th>155</th>\n",
       "      <td>4.1</td>\n",
       "      <td>7.396111</td>\n",
       "      <td>3.2</td>\n",
       "    </tr>\n",
       "    <tr>\n",
       "      <th>121</th>\n",
       "      <td>18.8</td>\n",
       "      <td>8.082133</td>\n",
       "      <td>7.0</td>\n",
       "    </tr>\n",
       "    <tr>\n",
       "      <th>50</th>\n",
       "      <td>199.8</td>\n",
       "      <td>16.529079</td>\n",
       "      <td>11.4</td>\n",
       "    </tr>\n",
       "    <tr>\n",
       "      <th>195</th>\n",
       "      <td>38.2</td>\n",
       "      <td>8.987497</td>\n",
       "      <td>7.6</td>\n",
       "    </tr>\n",
       "    <tr>\n",
       "      <th>24</th>\n",
       "      <td>62.3</td>\n",
       "      <td>10.112200</td>\n",
       "      <td>9.7</td>\n",
       "    </tr>\n",
       "    <tr>\n",
       "      <th>43</th>\n",
       "      <td>206.9</td>\n",
       "      <td>16.860423</td>\n",
       "      <td>12.9</td>\n",
       "    </tr>\n",
       "    <tr>\n",
       "      <th>9</th>\n",
       "      <td>199.8</td>\n",
       "      <td>16.529079</td>\n",
       "      <td>10.6</td>\n",
       "    </tr>\n",
       "    <tr>\n",
       "      <th>153</th>\n",
       "      <td>171.3</td>\n",
       "      <td>15.199035</td>\n",
       "      <td>19.0</td>\n",
       "    </tr>\n",
       "    <tr>\n",
       "      <th>44</th>\n",
       "      <td>25.1</td>\n",
       "      <td>8.376143</td>\n",
       "      <td>8.5</td>\n",
       "    </tr>\n",
       "    <tr>\n",
       "      <th>46</th>\n",
       "      <td>89.7</td>\n",
       "      <td>11.390909</td>\n",
       "      <td>10.6</td>\n",
       "    </tr>\n",
       "    <tr>\n",
       "      <th>103</th>\n",
       "      <td>187.9</td>\n",
       "      <td>15.973727</td>\n",
       "      <td>14.7</td>\n",
       "    </tr>\n",
       "    <tr>\n",
       "      <th>53</th>\n",
       "      <td>182.6</td>\n",
       "      <td>15.726386</td>\n",
       "      <td>21.2</td>\n",
       "    </tr>\n",
       "    <tr>\n",
       "      <th>159</th>\n",
       "      <td>131.7</td>\n",
       "      <td>13.350974</td>\n",
       "      <td>12.9</td>\n",
       "    </tr>\n",
       "    <tr>\n",
       "      <th>65</th>\n",
       "      <td>69.0</td>\n",
       "      <td>10.424877</td>\n",
       "      <td>9.3</td>\n",
       "    </tr>\n",
       "    <tr>\n",
       "      <th>179</th>\n",
       "      <td>165.6</td>\n",
       "      <td>14.933026</td>\n",
       "      <td>12.6</td>\n",
       "    </tr>\n",
       "    <tr>\n",
       "      <th>40</th>\n",
       "      <td>202.5</td>\n",
       "      <td>16.655083</td>\n",
       "      <td>16.6</td>\n",
       "    </tr>\n",
       "    <tr>\n",
       "      <th>92</th>\n",
       "      <td>217.7</td>\n",
       "      <td>17.364440</td>\n",
       "      <td>19.4</td>\n",
       "    </tr>\n",
       "    <tr>\n",
       "      <th>89</th>\n",
       "      <td>109.8</td>\n",
       "      <td>12.328940</td>\n",
       "      <td>16.7</td>\n",
       "    </tr>\n",
       "    <tr>\n",
       "      <th>144</th>\n",
       "      <td>96.2</td>\n",
       "      <td>11.694253</td>\n",
       "      <td>11.4</td>\n",
       "    </tr>\n",
       "    <tr>\n",
       "      <th>98</th>\n",
       "      <td>289.7</td>\n",
       "      <td>20.724551</td>\n",
       "      <td>25.4</td>\n",
       "    </tr>\n",
       "    <tr>\n",
       "      <th>14</th>\n",
       "      <td>204.1</td>\n",
       "      <td>16.729752</td>\n",
       "      <td>19.0</td>\n",
       "    </tr>\n",
       "    <tr>\n",
       "      <th>86</th>\n",
       "      <td>76.3</td>\n",
       "      <td>10.765555</td>\n",
       "      <td>12.0</td>\n",
       "    </tr>\n",
       "    <tr>\n",
       "      <th>145</th>\n",
       "      <td>140.3</td>\n",
       "      <td>13.752321</td>\n",
       "      <td>10.3</td>\n",
       "    </tr>\n",
       "    <tr>\n",
       "      <th>171</th>\n",
       "      <td>164.5</td>\n",
       "      <td>14.881691</td>\n",
       "      <td>14.5</td>\n",
       "    </tr>\n",
       "    <tr>\n",
       "      <th>63</th>\n",
       "      <td>102.7</td>\n",
       "      <td>11.997596</td>\n",
       "      <td>14.0</td>\n",
       "    </tr>\n",
       "    <tr>\n",
       "      <th>194</th>\n",
       "      <td>149.7</td>\n",
       "      <td>14.191002</td>\n",
       "      <td>17.3</td>\n",
       "    </tr>\n",
       "    <tr>\n",
       "      <th>174</th>\n",
       "      <td>222.4</td>\n",
       "      <td>17.583781</td>\n",
       "      <td>11.5</td>\n",
       "    </tr>\n",
       "    <tr>\n",
       "      <th>72</th>\n",
       "      <td>26.8</td>\n",
       "      <td>8.455479</td>\n",
       "      <td>8.8</td>\n",
       "    </tr>\n",
       "  </tbody>\n",
       "</table>\n",
       "</div>"
      ],
      "text/plain": [
       "     p_test for TV  predicted_sales  actual_sales\n",
       "135           48.3         9.458846          11.6\n",
       "127           80.2        10.947561           8.8\n",
       "191           75.5        10.728221           9.9\n",
       "66            31.5         8.674820           9.5\n",
       "119           19.4         8.110134           6.6\n",
       "111          241.7        18.484477          21.8\n",
       "81           239.8        18.395807          12.3\n",
       "36           266.9        19.660516          25.4\n",
       "126            7.8         7.568783           6.6\n",
       "187          191.1        16.123066          17.3\n",
       "85           193.2        16.221069          15.2\n",
       "49            66.9        10.326874           9.7\n",
       "155            4.1         7.396111           3.2\n",
       "121           18.8         8.082133           7.0\n",
       "50           199.8        16.529079          11.4\n",
       "195           38.2         8.987497           7.6\n",
       "24            62.3        10.112200           9.7\n",
       "43           206.9        16.860423          12.9\n",
       "9            199.8        16.529079          10.6\n",
       "153          171.3        15.199035          19.0\n",
       "44            25.1         8.376143           8.5\n",
       "46            89.7        11.390909          10.6\n",
       "103          187.9        15.973727          14.7\n",
       "53           182.6        15.726386          21.2\n",
       "159          131.7        13.350974          12.9\n",
       "65            69.0        10.424877           9.3\n",
       "179          165.6        14.933026          12.6\n",
       "40           202.5        16.655083          16.6\n",
       "92           217.7        17.364440          19.4\n",
       "89           109.8        12.328940          16.7\n",
       "144           96.2        11.694253          11.4\n",
       "98           289.7        20.724551          25.4\n",
       "14           204.1        16.729752          19.0\n",
       "86            76.3        10.765555          12.0\n",
       "145          140.3        13.752321          10.3\n",
       "171          164.5        14.881691          14.5\n",
       "63           102.7        11.997596          14.0\n",
       "194          149.7        14.191002          17.3\n",
       "174          222.4        17.583781          11.5\n",
       "72            26.8         8.455479           8.8"
      ]
     },
     "execution_count": 16,
     "metadata": {},
     "output_type": "execute_result"
    }
   ],
   "source": [
    "# comparison of predicted sales vs actual sales\n",
    "for_comparison = pd.DataFrame({\n",
    "    \"p_test for TV\" : p_test[\"TV\"],\n",
    "    \"predicted_sales\": predicted,\n",
    "    \"actual_sales\": x_test\n",
    "})\n",
    "\n",
    "for_comparison"
   ]
  },
  {
   "cell_type": "code",
   "execution_count": 17,
   "id": "b480691a",
   "metadata": {},
   "outputs": [
    {
     "data": {
      "text/plain": [
       "0.6449584792622444"
      ]
     },
     "execution_count": 17,
     "metadata": {},
     "output_type": "execute_result"
    }
   ],
   "source": [
    "# running performance test of the model based on test(out of the model data)\n",
    "lr.score(p_test, x_test)"
   ]
  },
  {
   "cell_type": "code",
   "execution_count": 18,
   "id": "5663f0f2",
   "metadata": {},
   "outputs": [
    {
     "data": {
      "text/plain": [
       "0.599673992908583"
      ]
     },
     "execution_count": 18,
     "metadata": {},
     "output_type": "execute_result"
    }
   ],
   "source": [
    "# running performance test of the model\n",
    "lr.score(p_train, x_train)"
   ]
  },
  {
   "cell_type": "markdown",
   "id": "68f35c2e",
   "metadata": {},
   "source": [
    "> with \"Radio\" added to Predictor"
   ]
  },
  {
   "cell_type": "markdown",
   "id": "27037db8",
   "metadata": {},
   "source": [
    "##### Splitting Predictor and Target Variable"
   ]
  },
  {
   "cell_type": "code",
   "execution_count": 20,
   "id": "2e80391c",
   "metadata": {},
   "outputs": [],
   "source": [
    "# set shuffle=False if series is Categorical and already shuffled, otherwise shuffle=True by default\n",
    "pr_train, pr_test, x_train, x_test = train_test_split(pr, x, train_size=0.8, random_state=99)"
   ]
  },
  {
   "cell_type": "code",
   "execution_count": 21,
   "id": "c56ab64b",
   "metadata": {},
   "outputs": [
    {
     "data": {
      "text/html": [
       "<div>\n",
       "<style scoped>\n",
       "    .dataframe tbody tr th:only-of-type {\n",
       "        vertical-align: middle;\n",
       "    }\n",
       "\n",
       "    .dataframe tbody tr th {\n",
       "        vertical-align: top;\n",
       "    }\n",
       "\n",
       "    .dataframe thead th {\n",
       "        text-align: right;\n",
       "    }\n",
       "</style>\n",
       "<table border=\"1\" class=\"dataframe\">\n",
       "  <thead>\n",
       "    <tr style=\"text-align: right;\">\n",
       "      <th></th>\n",
       "      <th>TV</th>\n",
       "      <th>Radio</th>\n",
       "    </tr>\n",
       "  </thead>\n",
       "  <tbody>\n",
       "    <tr>\n",
       "      <th>16</th>\n",
       "      <td>67.8</td>\n",
       "      <td>36.6</td>\n",
       "    </tr>\n",
       "    <tr>\n",
       "      <th>51</th>\n",
       "      <td>100.4</td>\n",
       "      <td>9.6</td>\n",
       "    </tr>\n",
       "    <tr>\n",
       "      <th>97</th>\n",
       "      <td>184.9</td>\n",
       "      <td>21.0</td>\n",
       "    </tr>\n",
       "    <tr>\n",
       "      <th>164</th>\n",
       "      <td>117.2</td>\n",
       "      <td>14.7</td>\n",
       "    </tr>\n",
       "    <tr>\n",
       "      <th>71</th>\n",
       "      <td>109.8</td>\n",
       "      <td>14.3</td>\n",
       "    </tr>\n",
       "    <tr>\n",
       "      <th>...</th>\n",
       "      <td>...</td>\n",
       "      <td>...</td>\n",
       "    </tr>\n",
       "    <tr>\n",
       "      <th>68</th>\n",
       "      <td>237.4</td>\n",
       "      <td>27.5</td>\n",
       "    </tr>\n",
       "    <tr>\n",
       "      <th>168</th>\n",
       "      <td>215.4</td>\n",
       "      <td>23.6</td>\n",
       "    </tr>\n",
       "    <tr>\n",
       "      <th>185</th>\n",
       "      <td>205.0</td>\n",
       "      <td>45.1</td>\n",
       "    </tr>\n",
       "    <tr>\n",
       "      <th>35</th>\n",
       "      <td>290.7</td>\n",
       "      <td>4.1</td>\n",
       "    </tr>\n",
       "    <tr>\n",
       "      <th>129</th>\n",
       "      <td>59.6</td>\n",
       "      <td>12.0</td>\n",
       "    </tr>\n",
       "  </tbody>\n",
       "</table>\n",
       "<p>160 rows × 2 columns</p>\n",
       "</div>"
      ],
      "text/plain": [
       "        TV  Radio\n",
       "16    67.8   36.6\n",
       "51   100.4    9.6\n",
       "97   184.9   21.0\n",
       "164  117.2   14.7\n",
       "71   109.8   14.3\n",
       "..     ...    ...\n",
       "68   237.4   27.5\n",
       "168  215.4   23.6\n",
       "185  205.0   45.1\n",
       "35   290.7    4.1\n",
       "129   59.6   12.0\n",
       "\n",
       "[160 rows x 2 columns]"
      ]
     },
     "execution_count": 21,
     "metadata": {},
     "output_type": "execute_result"
    }
   ],
   "source": [
    "pr_train"
   ]
  },
  {
   "cell_type": "markdown",
   "id": "dcf23799",
   "metadata": {},
   "source": [
    "##### Initializing and Training the Model"
   ]
  },
  {
   "cell_type": "code",
   "execution_count": 22,
   "id": "da1ad4cb",
   "metadata": {},
   "outputs": [
    {
     "data": {
      "text/plain": [
       "LinearRegression()"
      ]
     },
     "execution_count": 22,
     "metadata": {},
     "output_type": "execute_result"
    }
   ],
   "source": [
    "# creating an object of linear regression, initializing\n",
    "lr = LR()\n",
    "\n",
    "# using fit to train model\n",
    "lr.fit(pr_train, x_train)\n",
    "\n",
    "# Only the *train goes into the model, test is for comaparison"
   ]
  },
  {
   "cell_type": "code",
   "execution_count": 23,
   "id": "e8f45a30",
   "metadata": {},
   "outputs": [
    {
     "data": {
      "text/plain": [
       "2.9182159794452662"
      ]
     },
     "execution_count": 23,
     "metadata": {},
     "output_type": "execute_result"
    }
   ],
   "source": [
    "# intercept\n",
    "lr.intercept_"
   ]
  },
  {
   "cell_type": "code",
   "execution_count": 24,
   "id": "9c0a4000",
   "metadata": {},
   "outputs": [
    {
     "data": {
      "text/plain": [
       "array([0.04550633, 0.18861764])"
      ]
     },
     "execution_count": 24,
     "metadata": {},
     "output_type": "execute_result"
    }
   ],
   "source": [
    "# variable coefficient\n",
    "lr.coef_"
   ]
  },
  {
   "cell_type": "code",
   "execution_count": 26,
   "id": "006aff7c",
   "metadata": {},
   "outputs": [
    {
     "data": {
      "text/plain": [
       "array([13.98120086,  6.56782353,  8.39101433,  8.99165934,  6.81892104,\n",
       "       21.08456601, 14.6039659 , 23.32530782, 10.61039165, 17.02780171,\n",
       "       15.18060328,  8.16941578,  5.29275658,  7.8667378 , 12.59509511,\n",
       "        5.35444301,  8.12984255, 13.91786355, 12.50078629, 18.20157048,\n",
       "        8.90789825,  8.86744831, 14.71307857, 19.94180667, 12.38196408,\n",
       "        7.81229673, 12.34024041, 16.33942094, 19.14363474, 16.93073418,\n",
       "       10.0874659 , 24.07992565, 18.41157808, 11.57733402,  9.6611274 ,\n",
       "       14.34611576, 13.17479815, 16.44530144, 13.68012343, 10.3621678 ])"
      ]
     },
     "execution_count": 26,
     "metadata": {},
     "output_type": "execute_result"
    }
   ],
   "source": [
    "# running predictive analysis\n",
    "predicted = (lr.predict(pr_test))\n",
    "predicted"
   ]
  },
  {
   "cell_type": "code",
   "execution_count": 29,
   "id": "ba6d7010",
   "metadata": {},
   "outputs": [
    {
     "data": {
      "text/html": [
       "<div>\n",
       "<style scoped>\n",
       "    .dataframe tbody tr th:only-of-type {\n",
       "        vertical-align: middle;\n",
       "    }\n",
       "\n",
       "    .dataframe tbody tr th {\n",
       "        vertical-align: top;\n",
       "    }\n",
       "\n",
       "    .dataframe thead th {\n",
       "        text-align: right;\n",
       "    }\n",
       "</style>\n",
       "<table border=\"1\" class=\"dataframe\">\n",
       "  <thead>\n",
       "    <tr style=\"text-align: right;\">\n",
       "      <th></th>\n",
       "      <th>pr_test for TV</th>\n",
       "      <th>pr_test for Radio</th>\n",
       "      <th>predicted_sales</th>\n",
       "      <th>actual_sales</th>\n",
       "    </tr>\n",
       "  </thead>\n",
       "  <tbody>\n",
       "    <tr>\n",
       "      <th>135</th>\n",
       "      <td>48.3</td>\n",
       "      <td>47.0</td>\n",
       "      <td>13.981201</td>\n",
       "      <td>11.6</td>\n",
       "    </tr>\n",
       "    <tr>\n",
       "      <th>127</th>\n",
       "      <td>80.2</td>\n",
       "      <td>0.0</td>\n",
       "      <td>6.567824</td>\n",
       "      <td>8.8</td>\n",
       "    </tr>\n",
       "    <tr>\n",
       "      <th>191</th>\n",
       "      <td>75.5</td>\n",
       "      <td>10.8</td>\n",
       "      <td>8.391014</td>\n",
       "      <td>9.9</td>\n",
       "    </tr>\n",
       "    <tr>\n",
       "      <th>66</th>\n",
       "      <td>31.5</td>\n",
       "      <td>24.6</td>\n",
       "      <td>8.991659</td>\n",
       "      <td>9.5</td>\n",
       "    </tr>\n",
       "    <tr>\n",
       "      <th>119</th>\n",
       "      <td>19.4</td>\n",
       "      <td>16.0</td>\n",
       "      <td>6.818921</td>\n",
       "      <td>6.6</td>\n",
       "    </tr>\n",
       "    <tr>\n",
       "      <th>111</th>\n",
       "      <td>241.7</td>\n",
       "      <td>38.0</td>\n",
       "      <td>21.084566</td>\n",
       "      <td>21.8</td>\n",
       "    </tr>\n",
       "    <tr>\n",
       "      <th>81</th>\n",
       "      <td>239.8</td>\n",
       "      <td>4.1</td>\n",
       "      <td>14.603966</td>\n",
       "      <td>12.3</td>\n",
       "    </tr>\n",
       "    <tr>\n",
       "      <th>36</th>\n",
       "      <td>266.9</td>\n",
       "      <td>43.8</td>\n",
       "      <td>23.325308</td>\n",
       "      <td>25.4</td>\n",
       "    </tr>\n",
       "    <tr>\n",
       "      <th>126</th>\n",
       "      <td>7.8</td>\n",
       "      <td>38.9</td>\n",
       "      <td>10.610392</td>\n",
       "      <td>6.6</td>\n",
       "    </tr>\n",
       "    <tr>\n",
       "      <th>187</th>\n",
       "      <td>191.1</td>\n",
       "      <td>28.7</td>\n",
       "      <td>17.027802</td>\n",
       "      <td>17.3</td>\n",
       "    </tr>\n",
       "    <tr>\n",
       "      <th>85</th>\n",
       "      <td>193.2</td>\n",
       "      <td>18.4</td>\n",
       "      <td>15.180603</td>\n",
       "      <td>15.2</td>\n",
       "    </tr>\n",
       "    <tr>\n",
       "      <th>49</th>\n",
       "      <td>66.9</td>\n",
       "      <td>11.7</td>\n",
       "      <td>8.169416</td>\n",
       "      <td>9.7</td>\n",
       "    </tr>\n",
       "    <tr>\n",
       "      <th>155</th>\n",
       "      <td>4.1</td>\n",
       "      <td>11.6</td>\n",
       "      <td>5.292757</td>\n",
       "      <td>3.2</td>\n",
       "    </tr>\n",
       "    <tr>\n",
       "      <th>121</th>\n",
       "      <td>18.8</td>\n",
       "      <td>21.7</td>\n",
       "      <td>7.866738</td>\n",
       "      <td>7.0</td>\n",
       "    </tr>\n",
       "    <tr>\n",
       "      <th>50</th>\n",
       "      <td>199.8</td>\n",
       "      <td>3.1</td>\n",
       "      <td>12.595095</td>\n",
       "      <td>11.4</td>\n",
       "    </tr>\n",
       "    <tr>\n",
       "      <th>195</th>\n",
       "      <td>38.2</td>\n",
       "      <td>3.7</td>\n",
       "      <td>5.354443</td>\n",
       "      <td>7.6</td>\n",
       "    </tr>\n",
       "    <tr>\n",
       "      <th>24</th>\n",
       "      <td>62.3</td>\n",
       "      <td>12.6</td>\n",
       "      <td>8.129843</td>\n",
       "      <td>9.7</td>\n",
       "    </tr>\n",
       "    <tr>\n",
       "      <th>43</th>\n",
       "      <td>206.9</td>\n",
       "      <td>8.4</td>\n",
       "      <td>13.917864</td>\n",
       "      <td>12.9</td>\n",
       "    </tr>\n",
       "    <tr>\n",
       "      <th>9</th>\n",
       "      <td>199.8</td>\n",
       "      <td>2.6</td>\n",
       "      <td>12.500786</td>\n",
       "      <td>10.6</td>\n",
       "    </tr>\n",
       "    <tr>\n",
       "      <th>153</th>\n",
       "      <td>171.3</td>\n",
       "      <td>39.7</td>\n",
       "      <td>18.201570</td>\n",
       "      <td>19.0</td>\n",
       "    </tr>\n",
       "    <tr>\n",
       "      <th>44</th>\n",
       "      <td>25.1</td>\n",
       "      <td>25.7</td>\n",
       "      <td>8.907898</td>\n",
       "      <td>8.5</td>\n",
       "    </tr>\n",
       "    <tr>\n",
       "      <th>46</th>\n",
       "      <td>89.7</td>\n",
       "      <td>9.9</td>\n",
       "      <td>8.867448</td>\n",
       "      <td>10.6</td>\n",
       "    </tr>\n",
       "    <tr>\n",
       "      <th>103</th>\n",
       "      <td>187.9</td>\n",
       "      <td>17.2</td>\n",
       "      <td>14.713079</td>\n",
       "      <td>14.7</td>\n",
       "    </tr>\n",
       "    <tr>\n",
       "      <th>53</th>\n",
       "      <td>182.6</td>\n",
       "      <td>46.2</td>\n",
       "      <td>19.941807</td>\n",
       "      <td>21.2</td>\n",
       "    </tr>\n",
       "    <tr>\n",
       "      <th>159</th>\n",
       "      <td>131.7</td>\n",
       "      <td>18.4</td>\n",
       "      <td>12.381964</td>\n",
       "      <td>12.9</td>\n",
       "    </tr>\n",
       "    <tr>\n",
       "      <th>65</th>\n",
       "      <td>69.0</td>\n",
       "      <td>9.3</td>\n",
       "      <td>7.812297</td>\n",
       "      <td>9.3</td>\n",
       "    </tr>\n",
       "    <tr>\n",
       "      <th>179</th>\n",
       "      <td>165.6</td>\n",
       "      <td>10.0</td>\n",
       "      <td>12.340240</td>\n",
       "      <td>12.6</td>\n",
       "    </tr>\n",
       "    <tr>\n",
       "      <th>40</th>\n",
       "      <td>202.5</td>\n",
       "      <td>22.3</td>\n",
       "      <td>16.339421</td>\n",
       "      <td>16.6</td>\n",
       "    </tr>\n",
       "    <tr>\n",
       "      <th>92</th>\n",
       "      <td>217.7</td>\n",
       "      <td>33.5</td>\n",
       "      <td>19.143635</td>\n",
       "      <td>19.4</td>\n",
       "    </tr>\n",
       "    <tr>\n",
       "      <th>89</th>\n",
       "      <td>109.8</td>\n",
       "      <td>47.8</td>\n",
       "      <td>16.930734</td>\n",
       "      <td>16.7</td>\n",
       "    </tr>\n",
       "    <tr>\n",
       "      <th>144</th>\n",
       "      <td>96.2</td>\n",
       "      <td>14.8</td>\n",
       "      <td>10.087466</td>\n",
       "      <td>11.4</td>\n",
       "    </tr>\n",
       "    <tr>\n",
       "      <th>98</th>\n",
       "      <td>289.7</td>\n",
       "      <td>42.3</td>\n",
       "      <td>24.079926</td>\n",
       "      <td>25.4</td>\n",
       "    </tr>\n",
       "    <tr>\n",
       "      <th>14</th>\n",
       "      <td>204.1</td>\n",
       "      <td>32.9</td>\n",
       "      <td>18.411578</td>\n",
       "      <td>19.0</td>\n",
       "    </tr>\n",
       "    <tr>\n",
       "      <th>86</th>\n",
       "      <td>76.3</td>\n",
       "      <td>27.5</td>\n",
       "      <td>11.577334</td>\n",
       "      <td>12.0</td>\n",
       "    </tr>\n",
       "    <tr>\n",
       "      <th>145</th>\n",
       "      <td>140.3</td>\n",
       "      <td>1.9</td>\n",
       "      <td>9.661127</td>\n",
       "      <td>10.3</td>\n",
       "    </tr>\n",
       "    <tr>\n",
       "      <th>171</th>\n",
       "      <td>164.5</td>\n",
       "      <td>20.9</td>\n",
       "      <td>14.346116</td>\n",
       "      <td>14.5</td>\n",
       "    </tr>\n",
       "    <tr>\n",
       "      <th>63</th>\n",
       "      <td>102.7</td>\n",
       "      <td>29.6</td>\n",
       "      <td>13.174798</td>\n",
       "      <td>14.0</td>\n",
       "    </tr>\n",
       "    <tr>\n",
       "      <th>194</th>\n",
       "      <td>149.7</td>\n",
       "      <td>35.6</td>\n",
       "      <td>16.445301</td>\n",
       "      <td>17.3</td>\n",
       "    </tr>\n",
       "    <tr>\n",
       "      <th>174</th>\n",
       "      <td>222.4</td>\n",
       "      <td>3.4</td>\n",
       "      <td>13.680123</td>\n",
       "      <td>11.5</td>\n",
       "    </tr>\n",
       "    <tr>\n",
       "      <th>72</th>\n",
       "      <td>26.8</td>\n",
       "      <td>33.0</td>\n",
       "      <td>10.362168</td>\n",
       "      <td>8.8</td>\n",
       "    </tr>\n",
       "  </tbody>\n",
       "</table>\n",
       "</div>"
      ],
      "text/plain": [
       "     pr_test for TV  pr_test for Radio  predicted_sales  actual_sales\n",
       "135            48.3               47.0        13.981201          11.6\n",
       "127            80.2                0.0         6.567824           8.8\n",
       "191            75.5               10.8         8.391014           9.9\n",
       "66             31.5               24.6         8.991659           9.5\n",
       "119            19.4               16.0         6.818921           6.6\n",
       "111           241.7               38.0        21.084566          21.8\n",
       "81            239.8                4.1        14.603966          12.3\n",
       "36            266.9               43.8        23.325308          25.4\n",
       "126             7.8               38.9        10.610392           6.6\n",
       "187           191.1               28.7        17.027802          17.3\n",
       "85            193.2               18.4        15.180603          15.2\n",
       "49             66.9               11.7         8.169416           9.7\n",
       "155             4.1               11.6         5.292757           3.2\n",
       "121            18.8               21.7         7.866738           7.0\n",
       "50            199.8                3.1        12.595095          11.4\n",
       "195            38.2                3.7         5.354443           7.6\n",
       "24             62.3               12.6         8.129843           9.7\n",
       "43            206.9                8.4        13.917864          12.9\n",
       "9             199.8                2.6        12.500786          10.6\n",
       "153           171.3               39.7        18.201570          19.0\n",
       "44             25.1               25.7         8.907898           8.5\n",
       "46             89.7                9.9         8.867448          10.6\n",
       "103           187.9               17.2        14.713079          14.7\n",
       "53            182.6               46.2        19.941807          21.2\n",
       "159           131.7               18.4        12.381964          12.9\n",
       "65             69.0                9.3         7.812297           9.3\n",
       "179           165.6               10.0        12.340240          12.6\n",
       "40            202.5               22.3        16.339421          16.6\n",
       "92            217.7               33.5        19.143635          19.4\n",
       "89            109.8               47.8        16.930734          16.7\n",
       "144            96.2               14.8        10.087466          11.4\n",
       "98            289.7               42.3        24.079926          25.4\n",
       "14            204.1               32.9        18.411578          19.0\n",
       "86             76.3               27.5        11.577334          12.0\n",
       "145           140.3                1.9         9.661127          10.3\n",
       "171           164.5               20.9        14.346116          14.5\n",
       "63            102.7               29.6        13.174798          14.0\n",
       "194           149.7               35.6        16.445301          17.3\n",
       "174           222.4                3.4        13.680123          11.5\n",
       "72             26.8               33.0        10.362168           8.8"
      ]
     },
     "execution_count": 29,
     "metadata": {},
     "output_type": "execute_result"
    }
   ],
   "source": [
    "# comparison of predicted sales vs actual sales\n",
    "for_comparison = pd.DataFrame({\n",
    "    \"pr_test for TV\" : pr_test[\"TV\"],\n",
    "    \"pr_test for Radio\": pr_test[\"Radio\"],\n",
    "    \"predicted_sales\": predicted,\n",
    "    \"actual_sales\": x_test\n",
    "})\n",
    "\n",
    "for_comparison"
   ]
  },
  {
   "cell_type": "code",
   "execution_count": 30,
   "id": "67db9985",
   "metadata": {},
   "outputs": [
    {
     "data": {
      "text/plain": [
       "0.9202930325720751"
      ]
     },
     "execution_count": 30,
     "metadata": {},
     "output_type": "execute_result"
    }
   ],
   "source": [
    "# running performance test of the model based on test(out of the model data)\n",
    "lr.score(pr_test, x_test)"
   ]
  },
  {
   "cell_type": "code",
   "execution_count": 31,
   "id": "da6401a1",
   "metadata": {},
   "outputs": [
    {
     "data": {
      "text/plain": [
       "0.8906197253189245"
      ]
     },
     "execution_count": 31,
     "metadata": {},
     "output_type": "execute_result"
    }
   ],
   "source": [
    "# running performance test of the model\n",
    "lr.score(pr_train, x_train)"
   ]
  },
  {
   "cell_type": "markdown",
   "id": "4f1a8b32",
   "metadata": {},
   "source": [
    "> with \"Newspaper\" added to Predictor"
   ]
  },
  {
   "cell_type": "markdown",
   "id": "b93189ae",
   "metadata": {},
   "source": [
    "##### Splitting Predictor and Target Variable"
   ]
  },
  {
   "cell_type": "code",
   "execution_count": 55,
   "id": "b5b8e063",
   "metadata": {},
   "outputs": [
    {
     "data": {
      "text/html": [
       "<div>\n",
       "<style scoped>\n",
       "    .dataframe tbody tr th:only-of-type {\n",
       "        vertical-align: middle;\n",
       "    }\n",
       "\n",
       "    .dataframe tbody tr th {\n",
       "        vertical-align: top;\n",
       "    }\n",
       "\n",
       "    .dataframe thead th {\n",
       "        text-align: right;\n",
       "    }\n",
       "</style>\n",
       "<table border=\"1\" class=\"dataframe\">\n",
       "  <thead>\n",
       "    <tr style=\"text-align: right;\">\n",
       "      <th></th>\n",
       "      <th>TV</th>\n",
       "      <th>Radio</th>\n",
       "      <th>Newspaper</th>\n",
       "    </tr>\n",
       "  </thead>\n",
       "  <tbody>\n",
       "    <tr>\n",
       "      <th>16</th>\n",
       "      <td>67.8</td>\n",
       "      <td>36.6</td>\n",
       "      <td>114.0</td>\n",
       "    </tr>\n",
       "    <tr>\n",
       "      <th>51</th>\n",
       "      <td>100.4</td>\n",
       "      <td>9.6</td>\n",
       "      <td>3.6</td>\n",
       "    </tr>\n",
       "    <tr>\n",
       "      <th>97</th>\n",
       "      <td>184.9</td>\n",
       "      <td>21.0</td>\n",
       "      <td>22.0</td>\n",
       "    </tr>\n",
       "    <tr>\n",
       "      <th>164</th>\n",
       "      <td>117.2</td>\n",
       "      <td>14.7</td>\n",
       "      <td>5.4</td>\n",
       "    </tr>\n",
       "    <tr>\n",
       "      <th>71</th>\n",
       "      <td>109.8</td>\n",
       "      <td>14.3</td>\n",
       "      <td>31.7</td>\n",
       "    </tr>\n",
       "    <tr>\n",
       "      <th>...</th>\n",
       "      <td>...</td>\n",
       "      <td>...</td>\n",
       "      <td>...</td>\n",
       "    </tr>\n",
       "    <tr>\n",
       "      <th>68</th>\n",
       "      <td>237.4</td>\n",
       "      <td>27.5</td>\n",
       "      <td>11.0</td>\n",
       "    </tr>\n",
       "    <tr>\n",
       "      <th>168</th>\n",
       "      <td>215.4</td>\n",
       "      <td>23.6</td>\n",
       "      <td>57.6</td>\n",
       "    </tr>\n",
       "    <tr>\n",
       "      <th>185</th>\n",
       "      <td>205.0</td>\n",
       "      <td>45.1</td>\n",
       "      <td>19.6</td>\n",
       "    </tr>\n",
       "    <tr>\n",
       "      <th>35</th>\n",
       "      <td>290.7</td>\n",
       "      <td>4.1</td>\n",
       "      <td>8.5</td>\n",
       "    </tr>\n",
       "    <tr>\n",
       "      <th>129</th>\n",
       "      <td>59.6</td>\n",
       "      <td>12.0</td>\n",
       "      <td>43.1</td>\n",
       "    </tr>\n",
       "  </tbody>\n",
       "</table>\n",
       "<p>160 rows × 3 columns</p>\n",
       "</div>"
      ],
      "text/plain": [
       "        TV  Radio  Newspaper\n",
       "16    67.8   36.6      114.0\n",
       "51   100.4    9.6        3.6\n",
       "97   184.9   21.0       22.0\n",
       "164  117.2   14.7        5.4\n",
       "71   109.8   14.3       31.7\n",
       "..     ...    ...        ...\n",
       "68   237.4   27.5       11.0\n",
       "168  215.4   23.6       57.6\n",
       "185  205.0   45.1       19.6\n",
       "35   290.7    4.1        8.5\n",
       "129   59.6   12.0       43.1\n",
       "\n",
       "[160 rows x 3 columns]"
      ]
     },
     "execution_count": 55,
     "metadata": {},
     "output_type": "execute_result"
    }
   ],
   "source": [
    "# set shuffle=False if series is Categorical and already shuffled, otherwise shuffle=True by default\n",
    "pn_train, pn_test, x_train, x_test = train_test_split(pn, x, train_size=0.8, random_state=99)\n",
    "pn_train"
   ]
  },
  {
   "cell_type": "markdown",
   "id": "c78d2e80",
   "metadata": {},
   "source": [
    "##### Initializing and Training the Model"
   ]
  },
  {
   "cell_type": "code",
   "execution_count": 56,
   "id": "6150910b",
   "metadata": {},
   "outputs": [
    {
     "data": {
      "text/plain": [
       "LinearRegression()"
      ]
     },
     "execution_count": 56,
     "metadata": {},
     "output_type": "execute_result"
    }
   ],
   "source": [
    "# creating an object of linear regression, initializing\n",
    "lr = LR()\n",
    "\n",
    "# using fit to train model\n",
    "lr.fit(pn_train, x_train)\n",
    "\n",
    "# Only the *train goes into the model, test is for comaparison"
   ]
  },
  {
   "cell_type": "code",
   "execution_count": 57,
   "id": "91c25280",
   "metadata": {},
   "outputs": [
    {
     "data": {
      "text/plain": [
       "2.904485914076929"
      ]
     },
     "execution_count": 57,
     "metadata": {},
     "output_type": "execute_result"
    }
   ],
   "source": [
    "# intercept\n",
    "lr.intercept_"
   ]
  },
  {
   "cell_type": "code",
   "execution_count": 58,
   "id": "012e07e7",
   "metadata": {},
   "outputs": [
    {
     "data": {
      "text/plain": [
       "array([0.04550574, 0.18820547, 0.00075244])"
      ]
     },
     "execution_count": 58,
     "metadata": {},
     "output_type": "execute_result"
    }
   ],
   "source": [
    "# variable coefficient\n",
    "lr.coef_"
   ]
  },
  {
   "cell_type": "code",
   "execution_count": 61,
   "id": "6b2a7773",
   "metadata": {},
   "outputs": [
    {
     "data": {
      "text/plain": [
       "array([13.95446559,  6.56096843,  8.37730268,  8.96942642,  6.81536408,\n",
       "       21.0724867 , 14.61616898, 23.29712852, 10.61869678, 17.01582341,\n",
       "       15.20861013,  8.17851346,  5.27853174,  7.88197539, 12.60600345,\n",
       "        5.34954895,  8.12465182, 13.92041312, 12.501818  , 18.19974255,\n",
       "        8.91614106,  8.87644672, 14.70561647, 19.95309416, 12.38660642,\n",
       "        7.79536974, 12.33553347, 16.34015654, 19.16036183, 16.93591248,\n",
       "       10.0968486 , 24.0871139 , 18.4187788 , 11.56426295,  9.65330308,\n",
       "       14.35933948, 13.15512731, 16.42132385, 13.67471724, 10.34934211])"
      ]
     },
     "execution_count": 61,
     "metadata": {},
     "output_type": "execute_result"
    }
   ],
   "source": [
    "# running predictive analysis\n",
    "predicted = lr.predict(pn_test)\n",
    "predicted"
   ]
  },
  {
   "cell_type": "code",
   "execution_count": 60,
   "id": "1a53169e",
   "metadata": {},
   "outputs": [
    {
     "data": {
      "text/html": [
       "<div>\n",
       "<style scoped>\n",
       "    .dataframe tbody tr th:only-of-type {\n",
       "        vertical-align: middle;\n",
       "    }\n",
       "\n",
       "    .dataframe tbody tr th {\n",
       "        vertical-align: top;\n",
       "    }\n",
       "\n",
       "    .dataframe thead th {\n",
       "        text-align: right;\n",
       "    }\n",
       "</style>\n",
       "<table border=\"1\" class=\"dataframe\">\n",
       "  <thead>\n",
       "    <tr style=\"text-align: right;\">\n",
       "      <th></th>\n",
       "      <th>pr_test for TV</th>\n",
       "      <th>pr_test for Radio</th>\n",
       "      <th>pr_test for Newspaper</th>\n",
       "      <th>predicted_sales</th>\n",
       "      <th>actual_sales</th>\n",
       "    </tr>\n",
       "  </thead>\n",
       "  <tbody>\n",
       "    <tr>\n",
       "      <th>135</th>\n",
       "      <td>48.3</td>\n",
       "      <td>47.0</td>\n",
       "      <td>8.5</td>\n",
       "      <td>13.954466</td>\n",
       "      <td>11.6</td>\n",
       "    </tr>\n",
       "    <tr>\n",
       "      <th>127</th>\n",
       "      <td>80.2</td>\n",
       "      <td>0.0</td>\n",
       "      <td>9.2</td>\n",
       "      <td>6.560968</td>\n",
       "      <td>8.8</td>\n",
       "    </tr>\n",
       "    <tr>\n",
       "      <th>191</th>\n",
       "      <td>75.5</td>\n",
       "      <td>10.8</td>\n",
       "      <td>6.0</td>\n",
       "      <td>8.377303</td>\n",
       "      <td>9.9</td>\n",
       "    </tr>\n",
       "    <tr>\n",
       "      <th>66</th>\n",
       "      <td>31.5</td>\n",
       "      <td>24.6</td>\n",
       "      <td>2.2</td>\n",
       "      <td>8.969426</td>\n",
       "      <td>9.5</td>\n",
       "    </tr>\n",
       "    <tr>\n",
       "      <th>119</th>\n",
       "      <td>19.4</td>\n",
       "      <td>16.0</td>\n",
       "      <td>22.3</td>\n",
       "      <td>6.815364</td>\n",
       "      <td>6.6</td>\n",
       "    </tr>\n",
       "    <tr>\n",
       "      <th>111</th>\n",
       "      <td>241.7</td>\n",
       "      <td>38.0</td>\n",
       "      <td>23.2</td>\n",
       "      <td>21.072487</td>\n",
       "      <td>21.8</td>\n",
       "    </tr>\n",
       "    <tr>\n",
       "      <th>81</th>\n",
       "      <td>239.8</td>\n",
       "      <td>4.1</td>\n",
       "      <td>36.9</td>\n",
       "      <td>14.616169</td>\n",
       "      <td>12.3</td>\n",
       "    </tr>\n",
       "    <tr>\n",
       "      <th>36</th>\n",
       "      <td>266.9</td>\n",
       "      <td>43.8</td>\n",
       "      <td>5.0</td>\n",
       "      <td>23.297129</td>\n",
       "      <td>25.4</td>\n",
       "    </tr>\n",
       "    <tr>\n",
       "      <th>126</th>\n",
       "      <td>7.8</td>\n",
       "      <td>38.9</td>\n",
       "      <td>50.6</td>\n",
       "      <td>10.618697</td>\n",
       "      <td>6.6</td>\n",
       "    </tr>\n",
       "    <tr>\n",
       "      <th>187</th>\n",
       "      <td>191.1</td>\n",
       "      <td>28.7</td>\n",
       "      <td>18.2</td>\n",
       "      <td>17.015823</td>\n",
       "      <td>17.3</td>\n",
       "    </tr>\n",
       "    <tr>\n",
       "      <th>85</th>\n",
       "      <td>193.2</td>\n",
       "      <td>18.4</td>\n",
       "      <td>65.7</td>\n",
       "      <td>15.208610</td>\n",
       "      <td>15.2</td>\n",
       "    </tr>\n",
       "    <tr>\n",
       "      <th>49</th>\n",
       "      <td>66.9</td>\n",
       "      <td>11.7</td>\n",
       "      <td>36.8</td>\n",
       "      <td>8.178513</td>\n",
       "      <td>9.7</td>\n",
       "    </tr>\n",
       "    <tr>\n",
       "      <th>155</th>\n",
       "      <td>4.1</td>\n",
       "      <td>11.6</td>\n",
       "      <td>5.7</td>\n",
       "      <td>5.278532</td>\n",
       "      <td>3.2</td>\n",
       "    </tr>\n",
       "    <tr>\n",
       "      <th>121</th>\n",
       "      <td>18.8</td>\n",
       "      <td>21.7</td>\n",
       "      <td>50.4</td>\n",
       "      <td>7.881975</td>\n",
       "      <td>7.0</td>\n",
       "    </tr>\n",
       "    <tr>\n",
       "      <th>50</th>\n",
       "      <td>199.8</td>\n",
       "      <td>3.1</td>\n",
       "      <td>34.6</td>\n",
       "      <td>12.606003</td>\n",
       "      <td>11.4</td>\n",
       "    </tr>\n",
       "    <tr>\n",
       "      <th>195</th>\n",
       "      <td>38.2</td>\n",
       "      <td>3.7</td>\n",
       "      <td>13.8</td>\n",
       "      <td>5.349549</td>\n",
       "      <td>7.6</td>\n",
       "    </tr>\n",
       "    <tr>\n",
       "      <th>24</th>\n",
       "      <td>62.3</td>\n",
       "      <td>12.6</td>\n",
       "      <td>18.3</td>\n",
       "      <td>8.124652</td>\n",
       "      <td>9.7</td>\n",
       "    </tr>\n",
       "    <tr>\n",
       "      <th>43</th>\n",
       "      <td>206.9</td>\n",
       "      <td>8.4</td>\n",
       "      <td>26.4</td>\n",
       "      <td>13.920413</td>\n",
       "      <td>12.9</td>\n",
       "    </tr>\n",
       "    <tr>\n",
       "      <th>9</th>\n",
       "      <td>199.8</td>\n",
       "      <td>2.6</td>\n",
       "      <td>21.2</td>\n",
       "      <td>12.501818</td>\n",
       "      <td>10.6</td>\n",
       "    </tr>\n",
       "    <tr>\n",
       "      <th>153</th>\n",
       "      <td>171.3</td>\n",
       "      <td>39.7</td>\n",
       "      <td>37.7</td>\n",
       "      <td>18.199743</td>\n",
       "      <td>19.0</td>\n",
       "    </tr>\n",
       "    <tr>\n",
       "      <th>44</th>\n",
       "      <td>25.1</td>\n",
       "      <td>25.7</td>\n",
       "      <td>43.3</td>\n",
       "      <td>8.916141</td>\n",
       "      <td>8.5</td>\n",
       "    </tr>\n",
       "    <tr>\n",
       "      <th>46</th>\n",
       "      <td>89.7</td>\n",
       "      <td>9.9</td>\n",
       "      <td>35.7</td>\n",
       "      <td>8.876447</td>\n",
       "      <td>10.6</td>\n",
       "    </tr>\n",
       "    <tr>\n",
       "      <th>103</th>\n",
       "      <td>187.9</td>\n",
       "      <td>17.2</td>\n",
       "      <td>17.9</td>\n",
       "      <td>14.705616</td>\n",
       "      <td>14.7</td>\n",
       "    </tr>\n",
       "    <tr>\n",
       "      <th>53</th>\n",
       "      <td>182.6</td>\n",
       "      <td>46.2</td>\n",
       "      <td>58.7</td>\n",
       "      <td>19.953094</td>\n",
       "      <td>21.2</td>\n",
       "    </tr>\n",
       "    <tr>\n",
       "      <th>159</th>\n",
       "      <td>131.7</td>\n",
       "      <td>18.4</td>\n",
       "      <td>34.6</td>\n",
       "      <td>12.386606</td>\n",
       "      <td>12.9</td>\n",
       "    </tr>\n",
       "    <tr>\n",
       "      <th>65</th>\n",
       "      <td>69.0</td>\n",
       "      <td>9.3</td>\n",
       "      <td>0.9</td>\n",
       "      <td>7.795370</td>\n",
       "      <td>9.3</td>\n",
       "    </tr>\n",
       "    <tr>\n",
       "      <th>179</th>\n",
       "      <td>165.6</td>\n",
       "      <td>10.0</td>\n",
       "      <td>17.6</td>\n",
       "      <td>12.335533</td>\n",
       "      <td>12.6</td>\n",
       "    </tr>\n",
       "    <tr>\n",
       "      <th>40</th>\n",
       "      <td>202.5</td>\n",
       "      <td>22.3</td>\n",
       "      <td>31.6</td>\n",
       "      <td>16.340157</td>\n",
       "      <td>16.6</td>\n",
       "    </tr>\n",
       "    <tr>\n",
       "      <th>92</th>\n",
       "      <td>217.7</td>\n",
       "      <td>33.5</td>\n",
       "      <td>59.0</td>\n",
       "      <td>19.160362</td>\n",
       "      <td>19.4</td>\n",
       "    </tr>\n",
       "    <tr>\n",
       "      <th>89</th>\n",
       "      <td>109.8</td>\n",
       "      <td>47.8</td>\n",
       "      <td>51.4</td>\n",
       "      <td>16.935912</td>\n",
       "      <td>16.7</td>\n",
       "    </tr>\n",
       "    <tr>\n",
       "      <th>144</th>\n",
       "      <td>96.2</td>\n",
       "      <td>14.8</td>\n",
       "      <td>38.9</td>\n",
       "      <td>10.096849</td>\n",
       "      <td>11.4</td>\n",
       "    </tr>\n",
       "    <tr>\n",
       "      <th>98</th>\n",
       "      <td>289.7</td>\n",
       "      <td>42.3</td>\n",
       "      <td>51.2</td>\n",
       "      <td>24.087114</td>\n",
       "      <td>25.4</td>\n",
       "    </tr>\n",
       "    <tr>\n",
       "      <th>14</th>\n",
       "      <td>204.1</td>\n",
       "      <td>32.9</td>\n",
       "      <td>46.0</td>\n",
       "      <td>18.418779</td>\n",
       "      <td>19.0</td>\n",
       "    </tr>\n",
       "    <tr>\n",
       "      <th>86</th>\n",
       "      <td>76.3</td>\n",
       "      <td>27.5</td>\n",
       "      <td>16.0</td>\n",
       "      <td>11.564263</td>\n",
       "      <td>12.0</td>\n",
       "    </tr>\n",
       "    <tr>\n",
       "      <th>145</th>\n",
       "      <td>140.3</td>\n",
       "      <td>1.9</td>\n",
       "      <td>9.0</td>\n",
       "      <td>9.653303</td>\n",
       "      <td>10.3</td>\n",
       "    </tr>\n",
       "    <tr>\n",
       "      <th>171</th>\n",
       "      <td>164.5</td>\n",
       "      <td>20.9</td>\n",
       "      <td>47.4</td>\n",
       "      <td>14.359339</td>\n",
       "      <td>14.5</td>\n",
       "    </tr>\n",
       "    <tr>\n",
       "      <th>63</th>\n",
       "      <td>102.7</td>\n",
       "      <td>29.6</td>\n",
       "      <td>8.4</td>\n",
       "      <td>13.155127</td>\n",
       "      <td>14.0</td>\n",
       "    </tr>\n",
       "    <tr>\n",
       "      <th>194</th>\n",
       "      <td>149.7</td>\n",
       "      <td>35.6</td>\n",
       "      <td>6.0</td>\n",
       "      <td>16.421324</td>\n",
       "      <td>17.3</td>\n",
       "    </tr>\n",
       "    <tr>\n",
       "      <th>174</th>\n",
       "      <td>222.4</td>\n",
       "      <td>3.4</td>\n",
       "      <td>13.1</td>\n",
       "      <td>13.674717</td>\n",
       "      <td>11.5</td>\n",
       "    </tr>\n",
       "    <tr>\n",
       "      <th>72</th>\n",
       "      <td>26.8</td>\n",
       "      <td>33.0</td>\n",
       "      <td>19.3</td>\n",
       "      <td>10.349342</td>\n",
       "      <td>8.8</td>\n",
       "    </tr>\n",
       "  </tbody>\n",
       "</table>\n",
       "</div>"
      ],
      "text/plain": [
       "     pr_test for TV  pr_test for Radio  pr_test for Newspaper  \\\n",
       "135            48.3               47.0                    8.5   \n",
       "127            80.2                0.0                    9.2   \n",
       "191            75.5               10.8                    6.0   \n",
       "66             31.5               24.6                    2.2   \n",
       "119            19.4               16.0                   22.3   \n",
       "111           241.7               38.0                   23.2   \n",
       "81            239.8                4.1                   36.9   \n",
       "36            266.9               43.8                    5.0   \n",
       "126             7.8               38.9                   50.6   \n",
       "187           191.1               28.7                   18.2   \n",
       "85            193.2               18.4                   65.7   \n",
       "49             66.9               11.7                   36.8   \n",
       "155             4.1               11.6                    5.7   \n",
       "121            18.8               21.7                   50.4   \n",
       "50            199.8                3.1                   34.6   \n",
       "195            38.2                3.7                   13.8   \n",
       "24             62.3               12.6                   18.3   \n",
       "43            206.9                8.4                   26.4   \n",
       "9             199.8                2.6                   21.2   \n",
       "153           171.3               39.7                   37.7   \n",
       "44             25.1               25.7                   43.3   \n",
       "46             89.7                9.9                   35.7   \n",
       "103           187.9               17.2                   17.9   \n",
       "53            182.6               46.2                   58.7   \n",
       "159           131.7               18.4                   34.6   \n",
       "65             69.0                9.3                    0.9   \n",
       "179           165.6               10.0                   17.6   \n",
       "40            202.5               22.3                   31.6   \n",
       "92            217.7               33.5                   59.0   \n",
       "89            109.8               47.8                   51.4   \n",
       "144            96.2               14.8                   38.9   \n",
       "98            289.7               42.3                   51.2   \n",
       "14            204.1               32.9                   46.0   \n",
       "86             76.3               27.5                   16.0   \n",
       "145           140.3                1.9                    9.0   \n",
       "171           164.5               20.9                   47.4   \n",
       "63            102.7               29.6                    8.4   \n",
       "194           149.7               35.6                    6.0   \n",
       "174           222.4                3.4                   13.1   \n",
       "72             26.8               33.0                   19.3   \n",
       "\n",
       "     predicted_sales  actual_sales  \n",
       "135        13.954466          11.6  \n",
       "127         6.560968           8.8  \n",
       "191         8.377303           9.9  \n",
       "66          8.969426           9.5  \n",
       "119         6.815364           6.6  \n",
       "111        21.072487          21.8  \n",
       "81         14.616169          12.3  \n",
       "36         23.297129          25.4  \n",
       "126        10.618697           6.6  \n",
       "187        17.015823          17.3  \n",
       "85         15.208610          15.2  \n",
       "49          8.178513           9.7  \n",
       "155         5.278532           3.2  \n",
       "121         7.881975           7.0  \n",
       "50         12.606003          11.4  \n",
       "195         5.349549           7.6  \n",
       "24          8.124652           9.7  \n",
       "43         13.920413          12.9  \n",
       "9          12.501818          10.6  \n",
       "153        18.199743          19.0  \n",
       "44          8.916141           8.5  \n",
       "46          8.876447          10.6  \n",
       "103        14.705616          14.7  \n",
       "53         19.953094          21.2  \n",
       "159        12.386606          12.9  \n",
       "65          7.795370           9.3  \n",
       "179        12.335533          12.6  \n",
       "40         16.340157          16.6  \n",
       "92         19.160362          19.4  \n",
       "89         16.935912          16.7  \n",
       "144        10.096849          11.4  \n",
       "98         24.087114          25.4  \n",
       "14         18.418779          19.0  \n",
       "86         11.564263          12.0  \n",
       "145         9.653303          10.3  \n",
       "171        14.359339          14.5  \n",
       "63         13.155127          14.0  \n",
       "194        16.421324          17.3  \n",
       "174        13.674717          11.5  \n",
       "72         10.349342           8.8  "
      ]
     },
     "execution_count": 60,
     "metadata": {},
     "output_type": "execute_result"
    }
   ],
   "source": [
    "# comparison of predicted sales vs actual sales\n",
    "for_comparison = pd.DataFrame({\n",
    "    \"pr_test for TV\" : pn_test[\"TV\"],\n",
    "    \"pr_test for Radio\": pn_test[\"Radio\"],\n",
    "    \"pr_test for Newspaper\": pn_test[\"Newspaper\"],\n",
    "    \"predicted_sales\": predicted,\n",
    "    \"actual_sales\": x_test\n",
    "})\n",
    "\n",
    "for_comparison"
   ]
  },
  {
   "cell_type": "code",
   "execution_count": 41,
   "id": "abcb818d",
   "metadata": {},
   "outputs": [
    {
     "data": {
      "text/plain": [
       "0.9200846680148507"
      ]
     },
     "execution_count": 41,
     "metadata": {},
     "output_type": "execute_result"
    }
   ],
   "source": [
    "# running performance test of the model based on test(out of the model data)\n",
    "lr.score(pn_test, x_test)"
   ]
  },
  {
   "cell_type": "code",
   "execution_count": 42,
   "id": "e08f9e4c",
   "metadata": {},
   "outputs": [
    {
     "data": {
      "text/plain": [
       "0.8906288862925659"
      ]
     },
     "execution_count": 42,
     "metadata": {},
     "output_type": "execute_result"
    }
   ],
   "source": [
    "# running performance test of the model\n",
    "lr.score(pn_train, x_train)"
   ]
  },
  {
   "cell_type": "markdown",
   "id": "fd6a7a2c",
   "metadata": {},
   "source": [
    "### Polynomials"
   ]
  },
  {
   "cell_type": "code",
   "execution_count": 43,
   "id": "76cb47fb",
   "metadata": {},
   "outputs": [],
   "source": [
    "from sklearn.preprocessing import PolynomialFeatures as pf"
   ]
  },
  {
   "cell_type": "markdown",
   "id": "a258136a",
   "metadata": {},
   "source": [
    "##### Seperating Predictor and Target Variables"
   ]
  },
  {
   "cell_type": "code",
   "execution_count": 45,
   "id": "c5b8371b",
   "metadata": {},
   "outputs": [],
   "source": [
    "# Predictor\n",
    "pp = df1[[\"TV\"]]\n",
    "\n",
    "# Target\n",
    "xp = df1[\"Sales\"]"
   ]
  },
  {
   "cell_type": "markdown",
   "id": "afc494ba",
   "metadata": {},
   "source": [
    "##### Splitting Predictor and Target Variable"
   ]
  },
  {
   "cell_type": "code",
   "execution_count": 62,
   "id": "576c83c5",
   "metadata": {},
   "outputs": [
    {
     "data": {
      "text/html": [
       "<div>\n",
       "<style scoped>\n",
       "    .dataframe tbody tr th:only-of-type {\n",
       "        vertical-align: middle;\n",
       "    }\n",
       "\n",
       "    .dataframe tbody tr th {\n",
       "        vertical-align: top;\n",
       "    }\n",
       "\n",
       "    .dataframe thead th {\n",
       "        text-align: right;\n",
       "    }\n",
       "</style>\n",
       "<table border=\"1\" class=\"dataframe\">\n",
       "  <thead>\n",
       "    <tr style=\"text-align: right;\">\n",
       "      <th></th>\n",
       "      <th>TV</th>\n",
       "    </tr>\n",
       "  </thead>\n",
       "  <tbody>\n",
       "    <tr>\n",
       "      <th>16</th>\n",
       "      <td>67.8</td>\n",
       "    </tr>\n",
       "    <tr>\n",
       "      <th>51</th>\n",
       "      <td>100.4</td>\n",
       "    </tr>\n",
       "    <tr>\n",
       "      <th>97</th>\n",
       "      <td>184.9</td>\n",
       "    </tr>\n",
       "    <tr>\n",
       "      <th>164</th>\n",
       "      <td>117.2</td>\n",
       "    </tr>\n",
       "    <tr>\n",
       "      <th>71</th>\n",
       "      <td>109.8</td>\n",
       "    </tr>\n",
       "    <tr>\n",
       "      <th>...</th>\n",
       "      <td>...</td>\n",
       "    </tr>\n",
       "    <tr>\n",
       "      <th>68</th>\n",
       "      <td>237.4</td>\n",
       "    </tr>\n",
       "    <tr>\n",
       "      <th>168</th>\n",
       "      <td>215.4</td>\n",
       "    </tr>\n",
       "    <tr>\n",
       "      <th>185</th>\n",
       "      <td>205.0</td>\n",
       "    </tr>\n",
       "    <tr>\n",
       "      <th>35</th>\n",
       "      <td>290.7</td>\n",
       "    </tr>\n",
       "    <tr>\n",
       "      <th>129</th>\n",
       "      <td>59.6</td>\n",
       "    </tr>\n",
       "  </tbody>\n",
       "</table>\n",
       "<p>160 rows × 1 columns</p>\n",
       "</div>"
      ],
      "text/plain": [
       "        TV\n",
       "16    67.8\n",
       "51   100.4\n",
       "97   184.9\n",
       "164  117.2\n",
       "71   109.8\n",
       "..     ...\n",
       "68   237.4\n",
       "168  215.4\n",
       "185  205.0\n",
       "35   290.7\n",
       "129   59.6\n",
       "\n",
       "[160 rows x 1 columns]"
      ]
     },
     "execution_count": 62,
     "metadata": {},
     "output_type": "execute_result"
    }
   ],
   "source": [
    "# set shuffle=False if series is Categorical and already shuffled, otherwise shuffle=True by default\n",
    "pp_train, pp_test, xp_train, xp_test = train_test_split(pp, xp, train_size=0.8, random_state=99)\n",
    "pp_train"
   ]
  },
  {
   "cell_type": "code",
   "execution_count": 63,
   "id": "e3c00fdf",
   "metadata": {},
   "outputs": [],
   "source": [
    "\n",
    "poly = pf(degree=6)\n",
    "\n",
    "# fitting and transforming pp_train, using Fit\n",
    "ppn_train = poly.fit_transform(pp_train)\n",
    "\n",
    "# tranforming pp_test\n",
    "ppn_test = poly.transform(pp_test)\n"
   ]
  },
  {
   "cell_type": "markdown",
   "id": "962a909f",
   "metadata": {},
   "source": [
    "##### Initializing and Training the Model"
   ]
  },
  {
   "cell_type": "code",
   "execution_count": 64,
   "id": "03dbfa88",
   "metadata": {},
   "outputs": [
    {
     "data": {
      "text/plain": [
       "LinearRegression()"
      ]
     },
     "execution_count": 64,
     "metadata": {},
     "output_type": "execute_result"
    }
   ],
   "source": [
    "# creating an object of linear regression, initializing\n",
    "lr = LR()\n",
    "\n",
    "# using fit to train model\n",
    "lr.fit(ppn_train, xp_train)\n",
    "\n",
    "# Only the *train goes into the model, test is for comaparison"
   ]
  },
  {
   "cell_type": "code",
   "execution_count": 66,
   "id": "8e137225",
   "metadata": {},
   "outputs": [
    {
     "data": {
      "text/plain": [
       "array([10.33285837, 11.38313403, 11.26639714,  9.08032015,  7.53411296,\n",
       "       18.09739843, 18.09403464, 18.34922856,  5.31489331, 16.99778908,\n",
       "       17.09703712, 11.04095226,  4.41921401,  7.43889794, 17.37943124,\n",
       "        9.68046772, 10.90372045, 17.62961474, 17.37943124, 15.88399549,\n",
       "        8.34633722, 11.62921396, 16.83846221, 16.55485602, 13.37681106,\n",
       "       11.09880859, 15.52170312, 17.48131798, 17.89899611, 12.30228805,\n",
       "       11.81844159, 20.13065492, 17.53781252, 11.28633642, 13.88773143,\n",
       "       15.45062535, 12.03314086, 14.48379221, 17.97564188,  8.55842517])"
      ]
     },
     "execution_count": 66,
     "metadata": {},
     "output_type": "execute_result"
    }
   ],
   "source": [
    "# running predictive analysis\n",
    "ppredicted = lr.predict(ppn_test)\n",
    "ppredicted"
   ]
  },
  {
   "cell_type": "markdown",
   "id": "11e27c41",
   "metadata": {},
   "source": [
    "#####  Cross Validation"
   ]
  },
  {
   "cell_type": "code",
   "execution_count": 67,
   "id": "521344d1",
   "metadata": {},
   "outputs": [],
   "source": [
    "from sklearn.model_selection import cross_val_score"
   ]
  },
  {
   "cell_type": "code",
   "execution_count": 69,
   "id": "1d20b338",
   "metadata": {},
   "outputs": [
    {
     "data": {
      "text/plain": [
       "array([-1.50278866, -1.66938203, -1.68995496, -1.78696732, -2.26373623])"
      ]
     },
     "execution_count": 69,
     "metadata": {},
     "output_type": "execute_result"
    }
   ],
   "source": [
    "# cv = cross validation\n",
    "cross_val_score(lr, pn_train, x_train, scoring=\"neg_root_mean_squared_error\", cv=5)"
   ]
  },
  {
   "cell_type": "code",
   "execution_count": 72,
   "id": "8f4c809d",
   "metadata": {},
   "outputs": [
    {
     "data": {
      "text/plain": [
       "['accuracy',\n",
       " 'adjusted_mutual_info_score',\n",
       " 'adjusted_rand_score',\n",
       " 'average_precision',\n",
       " 'balanced_accuracy',\n",
       " 'completeness_score',\n",
       " 'explained_variance',\n",
       " 'f1',\n",
       " 'f1_macro',\n",
       " 'f1_micro',\n",
       " 'f1_samples',\n",
       " 'f1_weighted',\n",
       " 'fowlkes_mallows_score',\n",
       " 'homogeneity_score',\n",
       " 'jaccard',\n",
       " 'jaccard_macro',\n",
       " 'jaccard_micro',\n",
       " 'jaccard_samples',\n",
       " 'jaccard_weighted',\n",
       " 'max_error',\n",
       " 'mutual_info_score',\n",
       " 'neg_brier_score',\n",
       " 'neg_log_loss',\n",
       " 'neg_mean_absolute_error',\n",
       " 'neg_mean_absolute_percentage_error',\n",
       " 'neg_mean_gamma_deviance',\n",
       " 'neg_mean_poisson_deviance',\n",
       " 'neg_mean_squared_error',\n",
       " 'neg_mean_squared_log_error',\n",
       " 'neg_median_absolute_error',\n",
       " 'neg_root_mean_squared_error',\n",
       " 'normalized_mutual_info_score',\n",
       " 'precision',\n",
       " 'precision_macro',\n",
       " 'precision_micro',\n",
       " 'precision_samples',\n",
       " 'precision_weighted',\n",
       " 'r2',\n",
       " 'rand_score',\n",
       " 'recall',\n",
       " 'recall_macro',\n",
       " 'recall_micro',\n",
       " 'recall_samples',\n",
       " 'recall_weighted',\n",
       " 'roc_auc',\n",
       " 'roc_auc_ovo',\n",
       " 'roc_auc_ovo_weighted',\n",
       " 'roc_auc_ovr',\n",
       " 'roc_auc_ovr_weighted',\n",
       " 'top_k_accuracy',\n",
       " 'v_measure_score']"
      ]
     },
     "execution_count": 72,
     "metadata": {},
     "output_type": "execute_result"
    }
   ],
   "source": [
    "# cross_val_score(lr, pn_train, x_train, scoring=\"ng_root_mean_squared_error\", cv=5)\n",
    "sorted(sklearn.metrics.SCORERS.keys())"
   ]
  },
  {
   "cell_type": "code",
   "execution_count": 77,
   "id": "651b2ba5",
   "metadata": {},
   "outputs": [
    {
     "data": {
      "text/plain": [
       "-1.7825658414499645"
      ]
     },
     "execution_count": 77,
     "metadata": {},
     "output_type": "execute_result"
    }
   ],
   "source": [
    "# mean of cross validation across the fold\n",
    "cross_val_score(lr, pn_train, x_train, scoring=\"neg_root_mean_squared_error\", cv=5).mean()"
   ]
  },
  {
   "cell_type": "code",
   "execution_count": 80,
   "id": "6607d4ac",
   "metadata": {},
   "outputs": [
    {
     "data": {
      "text/plain": [
       "1.3351276498709643"
      ]
     },
     "execution_count": 80,
     "metadata": {},
     "output_type": "execute_result"
    }
   ],
   "source": [
    "# getting square root of the Neagtive root mean squared error\n",
    "np.sqrt(-cross_val_score(lr, pn_train, x_train, scoring=\"neg_root_mean_squared_error\", cv=5).mean())"
   ]
  },
  {
   "cell_type": "code",
   "execution_count": 81,
   "id": "117de238",
   "metadata": {},
   "outputs": [
    {
     "data": {
      "text/html": [
       "<div>\n",
       "<style scoped>\n",
       "    .dataframe tbody tr th:only-of-type {\n",
       "        vertical-align: middle;\n",
       "    }\n",
       "\n",
       "    .dataframe tbody tr th {\n",
       "        vertical-align: top;\n",
       "    }\n",
       "\n",
       "    .dataframe thead th {\n",
       "        text-align: right;\n",
       "    }\n",
       "</style>\n",
       "<table border=\"1\" class=\"dataframe\">\n",
       "  <thead>\n",
       "    <tr style=\"text-align: right;\">\n",
       "      <th></th>\n",
       "      <th>Transaction ID</th>\n",
       "      <th>Age</th>\n",
       "      <th>Items</th>\n",
       "      <th>Monthly Income</th>\n",
       "      <th>Transaction Time</th>\n",
       "      <th>Record</th>\n",
       "      <th>Gender</th>\n",
       "      <th>City Tier</th>\n",
       "      <th>Total Spend</th>\n",
       "    </tr>\n",
       "  </thead>\n",
       "  <tbody>\n",
       "    <tr>\n",
       "      <th>0</th>\n",
       "      <td>TXN001</td>\n",
       "      <td>42</td>\n",
       "      <td>10</td>\n",
       "      <td>7313</td>\n",
       "      <td>627.668127</td>\n",
       "      <td>5</td>\n",
       "      <td>Female</td>\n",
       "      <td>Tier 1</td>\n",
       "      <td>4198.385084</td>\n",
       "    </tr>\n",
       "    <tr>\n",
       "      <th>1</th>\n",
       "      <td>TXN002</td>\n",
       "      <td>24</td>\n",
       "      <td>8</td>\n",
       "      <td>17747</td>\n",
       "      <td>126.904567</td>\n",
       "      <td>3</td>\n",
       "      <td>Female</td>\n",
       "      <td>Tier 2</td>\n",
       "      <td>4134.976648</td>\n",
       "    </tr>\n",
       "    <tr>\n",
       "      <th>2</th>\n",
       "      <td>TXN003</td>\n",
       "      <td>47</td>\n",
       "      <td>11</td>\n",
       "      <td>22845</td>\n",
       "      <td>873.469701</td>\n",
       "      <td>2</td>\n",
       "      <td>Male</td>\n",
       "      <td>Tier 2</td>\n",
       "      <td>5166.614455</td>\n",
       "    </tr>\n",
       "    <tr>\n",
       "      <th>3</th>\n",
       "      <td>TXN004</td>\n",
       "      <td>50</td>\n",
       "      <td>11</td>\n",
       "      <td>18552</td>\n",
       "      <td>380.219428</td>\n",
       "      <td>7</td>\n",
       "      <td>Female</td>\n",
       "      <td>Tier 1</td>\n",
       "      <td>7784.447676</td>\n",
       "    </tr>\n",
       "    <tr>\n",
       "      <th>4</th>\n",
       "      <td>TXN005</td>\n",
       "      <td>60</td>\n",
       "      <td>2</td>\n",
       "      <td>14439</td>\n",
       "      <td>403.374223</td>\n",
       "      <td>2</td>\n",
       "      <td>Female</td>\n",
       "      <td>Tier 2</td>\n",
       "      <td>3254.160485</td>\n",
       "    </tr>\n",
       "  </tbody>\n",
       "</table>\n",
       "</div>"
      ],
      "text/plain": [
       "  Transaction ID  Age    Items   Monthly Income  Transaction Time  Record  \\\n",
       "0         TXN001    42       10            7313        627.668127       5   \n",
       "1         TXN002    24        8           17747        126.904567       3   \n",
       "2         TXN003    47       11           22845        873.469701       2   \n",
       "3         TXN004    50       11           18552        380.219428       7   \n",
       "4         TXN005    60        2           14439        403.374223       2   \n",
       "\n",
       "   Gender City Tier  Total Spend  \n",
       "0  Female    Tier 1  4198.385084  \n",
       "1  Female    Tier 2  4134.976648  \n",
       "2    Male    Tier 2  5166.614455  \n",
       "3  Female    Tier 1  7784.447676  \n",
       "4  Female    Tier 2  3254.160485  "
      ]
     },
     "execution_count": 81,
     "metadata": {},
     "output_type": "execute_result"
    }
   ],
   "source": [
    "df2=pd.read_csv(\"Udata/ecom expense.csv\")\n",
    "df2.head()"
   ]
  },
  {
   "cell_type": "code",
   "execution_count": null,
   "id": "d87d78b4",
   "metadata": {},
   "outputs": [],
   "source": []
  },
  {
   "cell_type": "code",
   "execution_count": null,
   "id": "be9c90ad",
   "metadata": {},
   "outputs": [],
   "source": []
  },
  {
   "cell_type": "code",
   "execution_count": null,
   "id": "3af0af1b",
   "metadata": {},
   "outputs": [],
   "source": []
  },
  {
   "cell_type": "code",
   "execution_count": null,
   "id": "638a9cb4",
   "metadata": {},
   "outputs": [],
   "source": []
  },
  {
   "cell_type": "code",
   "execution_count": null,
   "id": "9ccab340",
   "metadata": {},
   "outputs": [],
   "source": []
  },
  {
   "cell_type": "code",
   "execution_count": null,
   "id": "93e4be06",
   "metadata": {},
   "outputs": [],
   "source": []
  },
  {
   "cell_type": "code",
   "execution_count": null,
   "id": "8706dea0",
   "metadata": {},
   "outputs": [],
   "source": []
  },
  {
   "cell_type": "code",
   "execution_count": null,
   "id": "68f0e007",
   "metadata": {},
   "outputs": [],
   "source": []
  },
  {
   "cell_type": "code",
   "execution_count": null,
   "id": "73ca8324",
   "metadata": {},
   "outputs": [],
   "source": []
  }
 ],
 "metadata": {
  "kernelspec": {
   "display_name": "Python 3 (ipykernel)",
   "language": "python",
   "name": "python3"
  },
  "language_info": {
   "codemirror_mode": {
    "name": "ipython",
    "version": 3
   },
   "file_extension": ".py",
   "mimetype": "text/x-python",
   "name": "python",
   "nbconvert_exporter": "python",
   "pygments_lexer": "ipython3",
   "version": "3.8.12"
  }
 },
 "nbformat": 4,
 "nbformat_minor": 5
}
