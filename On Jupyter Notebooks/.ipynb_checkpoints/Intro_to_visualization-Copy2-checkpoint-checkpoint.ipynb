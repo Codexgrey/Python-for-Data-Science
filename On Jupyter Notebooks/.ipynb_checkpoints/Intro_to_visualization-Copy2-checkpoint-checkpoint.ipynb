{
 "cells": [
  {
   "cell_type": "code",
   "execution_count": 34,
   "id": "2c0ad47f",
   "metadata": {},
   "outputs": [],
   "source": [
    "import numpy as np\n",
    "import pandas as pd\n",
    "import matplotlib.pyplot as plt\n",
    "from datetime import datetime as dt"
   ]
  },
  {
   "cell_type": "code",
   "execution_count": 2,
   "id": "adb9fc7f",
   "metadata": {},
   "outputs": [],
   "source": [
    "df_one = pd.read_csv(\"C:/Users/Enzed/Desktop/Tony Files/Python Class/ecorp.csv\")\n",
    "df_two = pd.read_csv(\"C:/Users/Enzed/Desktop/Tony Files/Python Class/Ecom Expense.csv\")"
   ]
  },
  {
   "cell_type": "code",
   "execution_count": 9,
   "id": "33551f90",
   "metadata": {},
   "outputs": [
    {
     "data": {
      "text/html": [
       "<div>\n",
       "<style scoped>\n",
       "    .dataframe tbody tr th:only-of-type {\n",
       "        vertical-align: middle;\n",
       "    }\n",
       "\n",
       "    .dataframe tbody tr th {\n",
       "        vertical-align: top;\n",
       "    }\n",
       "\n",
       "    .dataframe thead th {\n",
       "        text-align: right;\n",
       "    }\n",
       "</style>\n",
       "<table border=\"1\" class=\"dataframe\">\n",
       "  <thead>\n",
       "    <tr style=\"text-align: right;\">\n",
       "      <th></th>\n",
       "      <th>Name</th>\n",
       "      <th>Sales (₦)</th>\n",
       "      <th>Date</th>\n",
       "    </tr>\n",
       "  </thead>\n",
       "  <tbody>\n",
       "    <tr>\n",
       "      <th>0</th>\n",
       "      <td>Sebastian Waite</td>\n",
       "      <td>607193</td>\n",
       "      <td>1/1/2020</td>\n",
       "    </tr>\n",
       "    <tr>\n",
       "      <th>1</th>\n",
       "      <td>Lizzie Haggins</td>\n",
       "      <td>1171366</td>\n",
       "      <td>1/1/2020</td>\n",
       "    </tr>\n",
       "    <tr>\n",
       "      <th>2</th>\n",
       "      <td>Ima Gaudreau</td>\n",
       "      <td>941504</td>\n",
       "      <td>1/1/2020</td>\n",
       "    </tr>\n",
       "    <tr>\n",
       "      <th>3</th>\n",
       "      <td>Leticia Michelsen</td>\n",
       "      <td>721826</td>\n",
       "      <td>1/1/2020</td>\n",
       "    </tr>\n",
       "    <tr>\n",
       "      <th>4</th>\n",
       "      <td>Stanley Margolin</td>\n",
       "      <td>904494</td>\n",
       "      <td>1/1/2020</td>\n",
       "    </tr>\n",
       "  </tbody>\n",
       "</table>\n",
       "</div>"
      ],
      "text/plain": [
       "                Name  Sales (₦)      Date\n",
       "0    Sebastian Waite     607193  1/1/2020\n",
       "1     Lizzie Haggins    1171366  1/1/2020\n",
       "2       Ima Gaudreau     941504  1/1/2020\n",
       "3  Leticia Michelsen     721826  1/1/2020\n",
       "4   Stanley Margolin     904494  1/1/2020"
      ]
     },
     "execution_count": 9,
     "metadata": {},
     "output_type": "execute_result"
    }
   ],
   "source": [
    "df_one.head(5)"
   ]
  },
  {
   "cell_type": "code",
   "execution_count": 10,
   "id": "28c626c4",
   "metadata": {},
   "outputs": [
    {
     "data": {
      "text/html": [
       "<div>\n",
       "<style scoped>\n",
       "    .dataframe tbody tr th:only-of-type {\n",
       "        vertical-align: middle;\n",
       "    }\n",
       "\n",
       "    .dataframe tbody tr th {\n",
       "        vertical-align: top;\n",
       "    }\n",
       "\n",
       "    .dataframe thead th {\n",
       "        text-align: right;\n",
       "    }\n",
       "</style>\n",
       "<table border=\"1\" class=\"dataframe\">\n",
       "  <thead>\n",
       "    <tr style=\"text-align: right;\">\n",
       "      <th></th>\n",
       "      <th>Transaction ID</th>\n",
       "      <th>Age</th>\n",
       "      <th>Items</th>\n",
       "      <th>Monthly Income</th>\n",
       "      <th>Transaction Time</th>\n",
       "      <th>Record</th>\n",
       "      <th>Gender</th>\n",
       "      <th>City Tier</th>\n",
       "      <th>Total Spend</th>\n",
       "    </tr>\n",
       "  </thead>\n",
       "  <tbody>\n",
       "    <tr>\n",
       "      <th>0</th>\n",
       "      <td>TXN001</td>\n",
       "      <td>42</td>\n",
       "      <td>10</td>\n",
       "      <td>7313</td>\n",
       "      <td>627.668127</td>\n",
       "      <td>5</td>\n",
       "      <td>Female</td>\n",
       "      <td>Tier 1</td>\n",
       "      <td>4198.385084</td>\n",
       "    </tr>\n",
       "    <tr>\n",
       "      <th>1</th>\n",
       "      <td>TXN002</td>\n",
       "      <td>24</td>\n",
       "      <td>8</td>\n",
       "      <td>17747</td>\n",
       "      <td>126.904567</td>\n",
       "      <td>3</td>\n",
       "      <td>Female</td>\n",
       "      <td>Tier 2</td>\n",
       "      <td>4134.976648</td>\n",
       "    </tr>\n",
       "    <tr>\n",
       "      <th>2</th>\n",
       "      <td>TXN003</td>\n",
       "      <td>47</td>\n",
       "      <td>11</td>\n",
       "      <td>22845</td>\n",
       "      <td>873.469701</td>\n",
       "      <td>2</td>\n",
       "      <td>Male</td>\n",
       "      <td>Tier 2</td>\n",
       "      <td>5166.614455</td>\n",
       "    </tr>\n",
       "    <tr>\n",
       "      <th>3</th>\n",
       "      <td>TXN004</td>\n",
       "      <td>50</td>\n",
       "      <td>11</td>\n",
       "      <td>18552</td>\n",
       "      <td>380.219428</td>\n",
       "      <td>7</td>\n",
       "      <td>Female</td>\n",
       "      <td>Tier 1</td>\n",
       "      <td>7784.447676</td>\n",
       "    </tr>\n",
       "    <tr>\n",
       "      <th>4</th>\n",
       "      <td>TXN005</td>\n",
       "      <td>60</td>\n",
       "      <td>2</td>\n",
       "      <td>14439</td>\n",
       "      <td>403.374223</td>\n",
       "      <td>2</td>\n",
       "      <td>Female</td>\n",
       "      <td>Tier 2</td>\n",
       "      <td>3254.160485</td>\n",
       "    </tr>\n",
       "  </tbody>\n",
       "</table>\n",
       "</div>"
      ],
      "text/plain": [
       "  Transaction ID  Age    Items   Monthly Income  Transaction Time  Record  \\\n",
       "0         TXN001    42       10            7313        627.668127       5   \n",
       "1         TXN002    24        8           17747        126.904567       3   \n",
       "2         TXN003    47       11           22845        873.469701       2   \n",
       "3         TXN004    50       11           18552        380.219428       7   \n",
       "4         TXN005    60        2           14439        403.374223       2   \n",
       "\n",
       "   Gender City Tier  Total Spend  \n",
       "0  Female    Tier 1  4198.385084  \n",
       "1  Female    Tier 2  4134.976648  \n",
       "2    Male    Tier 2  5166.614455  \n",
       "3  Female    Tier 1  7784.447676  \n",
       "4  Female    Tier 2  3254.160485  "
      ]
     },
     "execution_count": 10,
     "metadata": {},
     "output_type": "execute_result"
    }
   ],
   "source": [
    "df_two.head(5)"
   ]
  },
  {
   "cell_type": "code",
   "execution_count": 11,
   "id": "37b2b54b",
   "metadata": {},
   "outputs": [],
   "source": [
    "#### To convert the gender column(object) to string \n",
    "df_two[\"Gender\"] = df_two[\"Gender\"].astype(\"str\")"
   ]
  },
  {
   "cell_type": "code",
   "execution_count": 13,
   "id": "ecf66058",
   "metadata": {},
   "outputs": [
    {
     "name": "stdout",
     "output_type": "stream",
     "text": [
      "<class 'pandas.core.frame.DataFrame'>\n",
      "RangeIndex: 2362 entries, 0 to 2361\n",
      "Data columns (total 9 columns):\n",
      " #   Column            Non-Null Count  Dtype  \n",
      "---  ------            --------------  -----  \n",
      " 0   Transaction ID    2362 non-null   object \n",
      " 1   Age               2362 non-null   int64  \n",
      " 2    Items            2362 non-null   int64  \n",
      " 3   Monthly Income    2362 non-null   int64  \n",
      " 4   Transaction Time  2362 non-null   float64\n",
      " 5   Record            2362 non-null   int64  \n",
      " 6   Gender            2362 non-null   object \n",
      " 7   City Tier         2362 non-null   object \n",
      " 8   Total Spend       2362 non-null   float64\n",
      "dtypes: float64(2), int64(4), object(3)\n",
      "memory usage: 166.2+ KB\n"
     ]
    }
   ],
   "source": [
    "df_two.info()"
   ]
  },
  {
   "cell_type": "code",
   "execution_count": 23,
   "id": "1bf34c3b",
   "metadata": {},
   "outputs": [
    {
     "data": {
      "text/html": [
       "<div>\n",
       "<style scoped>\n",
       "    .dataframe tbody tr th:only-of-type {\n",
       "        vertical-align: middle;\n",
       "    }\n",
       "\n",
       "    .dataframe tbody tr th {\n",
       "        vertical-align: top;\n",
       "    }\n",
       "\n",
       "    .dataframe thead th {\n",
       "        text-align: right;\n",
       "    }\n",
       "</style>\n",
       "<table border=\"1\" class=\"dataframe\">\n",
       "  <thead>\n",
       "    <tr style=\"text-align: right;\">\n",
       "      <th></th>\n",
       "      <th>Name</th>\n",
       "      <th>Sales</th>\n",
       "      <th>Date</th>\n",
       "    </tr>\n",
       "  </thead>\n",
       "  <tbody>\n",
       "    <tr>\n",
       "      <th>1</th>\n",
       "      <td>Lizzie Haggins</td>\n",
       "      <td>1171366</td>\n",
       "      <td>1/1/2020</td>\n",
       "    </tr>\n",
       "    <tr>\n",
       "      <th>2</th>\n",
       "      <td>Ima Gaudreau</td>\n",
       "      <td>941504</td>\n",
       "      <td>1/1/2020</td>\n",
       "    </tr>\n",
       "    <tr>\n",
       "      <th>4</th>\n",
       "      <td>Stanley Margolin</td>\n",
       "      <td>904494</td>\n",
       "      <td>1/1/2020</td>\n",
       "    </tr>\n",
       "    <tr>\n",
       "      <th>69</th>\n",
       "      <td>Lizzie Haggins</td>\n",
       "      <td>571388</td>\n",
       "      <td>3/1/2020</td>\n",
       "    </tr>\n",
       "    <tr>\n",
       "      <th>219</th>\n",
       "      <td>Ima Gaudreau</td>\n",
       "      <td>142213</td>\n",
       "      <td>7/1/2020</td>\n",
       "    </tr>\n",
       "    <tr>\n",
       "      <th>493</th>\n",
       "      <td>Stanley Margolin</td>\n",
       "      <td>176102</td>\n",
       "      <td>17/1/2020</td>\n",
       "    </tr>\n",
       "  </tbody>\n",
       "</table>\n",
       "</div>"
      ],
      "text/plain": [
       "                 Name    Sales       Date\n",
       "1      Lizzie Haggins  1171366   1/1/2020\n",
       "2        Ima Gaudreau   941504   1/1/2020\n",
       "4    Stanley Margolin   904494   1/1/2020\n",
       "69     Lizzie Haggins   571388   3/1/2020\n",
       "219      Ima Gaudreau   142213   7/1/2020\n",
       "493  Stanley Margolin   176102  17/1/2020"
      ]
     },
     "execution_count": 23,
     "metadata": {},
     "output_type": "execute_result"
    }
   ],
   "source": [
    "####To get the rows of some agents using membership\n",
    "df_one[df_one[\"Name\"].isin([\"Ima Gaudreau\", \"Stanley Margolin\", \"Lizzie Haggins\"])]\n"
   ]
  },
  {
   "cell_type": "code",
   "execution_count": 22,
   "id": "72af96a9",
   "metadata": {},
   "outputs": [],
   "source": [
    "df_one.rename(columns = {\"Sales (₦)\" : \"Sales\"}, inplace = True)"
   ]
  },
  {
   "cell_type": "markdown",
   "id": "0f4294fe",
   "metadata": {},
   "source": [
    "## Scatter plot"
   ]
  },
  {
   "cell_type": "code",
   "execution_count": null,
   "id": "8f85e209",
   "metadata": {},
   "outputs": [],
   "source": [
    "## It is needed to find outliers. Outliers are not harmful wen performing analysis, \n",
    "## but can be harmful wen dealing with machine learning."
   ]
  },
  {
   "cell_type": "code",
   "execution_count": 31,
   "id": "bb902105",
   "metadata": {},
   "outputs": [
    {
     "data": {
      "image/png": "[encoded data removed]",
      "text/plain": [
       "<Figure size 432x288 with 1 Axes>"
      ]
     },
     "metadata": {
      "needs_background": "light"
     },
     "output_type": "display_data"
    }
   ],
   "source": [
    "plt.scatter(df_two[\"City Tier\"], df_two[\"Age \"])\n",
    "plt.show()"
   ]
  },
  {
   "cell_type": "code",
   "execution_count": 33,
   "id": "440ab01b",
   "metadata": {},
   "outputs": [
    {
     "data": {
      "image/png": "[encoded data removed]",
      "text/plain": [
       "<Figure size 720x288 with 1 Axes>"
      ]
     },
     "metadata": {
      "needs_background": "light"
     },
     "output_type": "display_data"
    }
   ],
   "source": [
    "#### E.g\n",
    "x = [1, 2, 3, 4, 5, 6, 7, 8, 9]\n",
    "y = [630, 679, 234, 9, 456, 1000, 702, 888, 333]\n",
    "\n",
    "plt.figure(figsize = (10, 4))\n",
    "plt.scatter(x, y)\n",
    "plt.title(\"My First Scatter Plot\", fontsize = 20)\n",
    "plt.xlabel(\"My Bin\", size = 15)\n",
    "plt.ylabel(\"My Values\", size = 15)\n",
    "plt.show()"
   ]
  },
  {
   "cell_type": "markdown",
   "id": "f481a390",
   "metadata": {},
   "source": [
    "## Line Chart"
   ]
  },
  {
   "cell_type": "code",
   "execution_count": null,
   "id": "b3f28632",
   "metadata": {},
   "outputs": [],
   "source": [
    "## This is used to show trends and in most cases these trends are in respect to time(hours, day, month, year)."
   ]
  },
  {
   "cell_type": "code",
   "execution_count": 35,
   "id": "57636698",
   "metadata": {},
   "outputs": [],
   "source": [
    "#### Referencing The assignment on total agent sales monthly\n",
    "df_one[\"Date\"] = df_one[\"Date\"].apply(lambda a : dt.strptime(a, \"%d/%m/%Y\"))"
   ]
  },
  {
   "cell_type": "code",
   "execution_count": 36,
   "id": "26bb10c4",
   "metadata": {},
   "outputs": [],
   "source": [
    "df_one[\"month\"] = df_one[\"Date\"]"
   ]
  },
  {
   "cell_type": "code",
   "execution_count": 39,
   "id": "d4c7766a",
   "metadata": {},
   "outputs": [],
   "source": [
    "df_one[\"month\"] = df_one['month'].apply(lambda a : a.strftime(\"%B\"))"
   ]
  },
  {
   "cell_type": "code",
   "execution_count": 41,
   "id": "c719025b",
   "metadata": {},
   "outputs": [],
   "source": [
    "grouped_month =  pd.DataFrame(df_one.groupby(df_one[\"month\"])[\"Sales\"].sum()).reset_index()"
   ]
  },
  {
   "cell_type": "code",
   "execution_count": 42,
   "id": "622c2067",
   "metadata": {},
   "outputs": [],
   "source": [
    "grouped_month[\"month\"] = grouped_month[\"month\"].apply(lambda a : dt.strptime(a, \"%B\"))"
   ]
  },
  {
   "cell_type": "code",
   "execution_count": 43,
   "id": "9f48fdc7",
   "metadata": {},
   "outputs": [],
   "source": [
    "grouped_month.sort_values(by = \"month\", inplace = True)"
   ]
  },
  {
   "cell_type": "code",
   "execution_count": 44,
   "id": "2ab67065",
   "metadata": {},
   "outputs": [],
   "source": [
    "grouped_month[\"month\"] = grouped_month[\"month\"].apply(lambda a : a.strftime(\"%B\"))"
   ]
  },
  {
   "cell_type": "code",
   "execution_count": 45,
   "id": "6a985006",
   "metadata": {},
   "outputs": [
    {
     "data": {
      "text/html": [
       "<div>\n",
       "<style scoped>\n",
       "    .dataframe tbody tr th:only-of-type {\n",
       "        vertical-align: middle;\n",
       "    }\n",
       "\n",
       "    .dataframe tbody tr th {\n",
       "        vertical-align: top;\n",
       "    }\n",
       "\n",
       "    .dataframe thead th {\n",
       "        text-align: right;\n",
       "    }\n",
       "</style>\n",
       "<table border=\"1\" class=\"dataframe\">\n",
       "  <thead>\n",
       "    <tr style=\"text-align: right;\">\n",
       "      <th></th>\n",
       "      <th>month</th>\n",
       "      <th>Sales</th>\n",
       "    </tr>\n",
       "  </thead>\n",
       "  <tbody>\n",
       "    <tr>\n",
       "      <th>3</th>\n",
       "      <td>January</td>\n",
       "      <td>655053020</td>\n",
       "    </tr>\n",
       "    <tr>\n",
       "      <th>2</th>\n",
       "      <td>February</td>\n",
       "      <td>653702163</td>\n",
       "    </tr>\n",
       "    <tr>\n",
       "      <th>6</th>\n",
       "      <td>March</td>\n",
       "      <td>682581876</td>\n",
       "    </tr>\n",
       "    <tr>\n",
       "      <th>0</th>\n",
       "      <td>April</td>\n",
       "      <td>679951155</td>\n",
       "    </tr>\n",
       "    <tr>\n",
       "      <th>7</th>\n",
       "      <td>May</td>\n",
       "      <td>693291300</td>\n",
       "    </tr>\n",
       "    <tr>\n",
       "      <th>5</th>\n",
       "      <td>June</td>\n",
       "      <td>661428040</td>\n",
       "    </tr>\n",
       "    <tr>\n",
       "      <th>4</th>\n",
       "      <td>July</td>\n",
       "      <td>679750493</td>\n",
       "    </tr>\n",
       "    <tr>\n",
       "      <th>1</th>\n",
       "      <td>August</td>\n",
       "      <td>705610454</td>\n",
       "    </tr>\n",
       "    <tr>\n",
       "      <th>10</th>\n",
       "      <td>September</td>\n",
       "      <td>707486354</td>\n",
       "    </tr>\n",
       "    <tr>\n",
       "      <th>9</th>\n",
       "      <td>October</td>\n",
       "      <td>705718831</td>\n",
       "    </tr>\n",
       "    <tr>\n",
       "      <th>8</th>\n",
       "      <td>November</td>\n",
       "      <td>650896427</td>\n",
       "    </tr>\n",
       "  </tbody>\n",
       "</table>\n",
       "</div>"
      ],
      "text/plain": [
       "        month      Sales\n",
       "3     January  655053020\n",
       "2    February  653702163\n",
       "6       March  682581876\n",
       "0       April  679951155\n",
       "7         May  693291300\n",
       "5        June  661428040\n",
       "4        July  679750493\n",
       "1      August  705610454\n",
       "10  September  707486354\n",
       "9     October  705718831\n",
       "8    November  650896427"
      ]
     },
     "execution_count": 45,
     "metadata": {},
     "output_type": "execute_result"
    }
   ],
   "source": [
    "grouped_month"
   ]
  },
  {
   "cell_type": "code",
   "execution_count": 55,
   "id": "5a5dfbe5",
   "metadata": {},
   "outputs": [
    {
     "data": {
      "image/png": "[encoded data removed]",
      "text/plain": [
       "<Figure size 1080x432 with 1 Axes>"
      ]
     },
     "metadata": {
      "needs_background": "light"
     },
     "output_type": "display_data"
    }
   ],
   "source": [
    "plt.figure(figsize = (15, 6))\n",
    "plt.plot(grouped_month[\"month\"], grouped_month[\"Sales\"], linewidth = 3, alpha = 0.9, color = \"aqua\")\n",
    "\n",
    "plt.title(\"Month Sales Trend\", fontsize = 20)\n",
    "plt.xlabel(\"Month\", size = 15)\n",
    "plt.ylabel(\"Sales\", size = 15)\n",
    "\n",
    "plt.show()"
   ]
  },
  {
   "cell_type": "code",
   "execution_count": 64,
   "id": "e9db85c0",
   "metadata": {},
   "outputs": [
    {
     "data": {
      "text/html": [
       "<div>\n",
       "<style scoped>\n",
       "    .dataframe tbody tr th:only-of-type {\n",
       "        vertical-align: middle;\n",
       "    }\n",
       "\n",
       "    .dataframe tbody tr th {\n",
       "        vertical-align: top;\n",
       "    }\n",
       "\n",
       "    .dataframe thead th {\n",
       "        text-align: right;\n",
       "    }\n",
       "</style>\n",
       "<table border=\"1\" class=\"dataframe\">\n",
       "  <thead>\n",
       "    <tr style=\"text-align: right;\">\n",
       "      <th></th>\n",
       "      <th>Name</th>\n",
       "      <th>Sales</th>\n",
       "      <th>Date</th>\n",
       "      <th>month</th>\n",
       "    </tr>\n",
       "  </thead>\n",
       "  <tbody>\n",
       "    <tr>\n",
       "      <th>462</th>\n",
       "      <td>Krystal Molinari</td>\n",
       "      <td>168050</td>\n",
       "      <td>2020-01-16</td>\n",
       "      <td>January</td>\n",
       "    </tr>\n",
       "    <tr>\n",
       "      <th>519</th>\n",
       "      <td>Linnea Molton</td>\n",
       "      <td>147975</td>\n",
       "      <td>2020-01-18</td>\n",
       "      <td>January</td>\n",
       "    </tr>\n",
       "    <tr>\n",
       "      <th>566</th>\n",
       "      <td>Linnea Molton</td>\n",
       "      <td>1098863</td>\n",
       "      <td>2020-01-20</td>\n",
       "      <td>January</td>\n",
       "    </tr>\n",
       "    <tr>\n",
       "      <th>898</th>\n",
       "      <td>Linnea Molton</td>\n",
       "      <td>161852</td>\n",
       "      <td>2020-02-01</td>\n",
       "      <td>February</td>\n",
       "    </tr>\n",
       "    <tr>\n",
       "      <th>1107</th>\n",
       "      <td>Linnea Molton</td>\n",
       "      <td>1389887</td>\n",
       "      <td>2020-02-08</td>\n",
       "      <td>February</td>\n",
       "    </tr>\n",
       "  </tbody>\n",
       "</table>\n",
       "</div>"
      ],
      "text/plain": [
       "                  Name    Sales       Date     month\n",
       "462   Krystal Molinari   168050 2020-01-16   January\n",
       "519      Linnea Molton   147975 2020-01-18   January\n",
       "566      Linnea Molton  1098863 2020-01-20   January\n",
       "898      Linnea Molton   161852 2020-02-01  February\n",
       "1107     Linnea Molton  1389887 2020-02-08  February"
      ]
     },
     "execution_count": 64,
     "metadata": {},
     "output_type": "execute_result"
    }
   ],
   "source": [
    "### to get the name of an item you dont completely know the spelling\n",
    "unknown = df_one[df_one[\"Name\"].str.contains(\"Mol\")]\n",
    "unknown.head()"
   ]
  },
  {
   "cell_type": "code",
   "execution_count": 65,
   "id": "cd7220e8",
   "metadata": {},
   "outputs": [],
   "source": [
    "#### To compare the agents with the two highest sales\n",
    "\n",
    "df_shae = df_one[df_one[\"Name\"] == \"Shae Buggs\"]\n",
    "df_linnea = df_one[df_one[\"Name\"] == \"Linnea Molton\"]"
   ]
  },
  {
   "cell_type": "code",
   "execution_count": 69,
   "id": "5e38fd84",
   "metadata": {},
   "outputs": [
    {
     "data": {
      "text/html": [
       "<div>\n",
       "<style scoped>\n",
       "    .dataframe tbody tr th:only-of-type {\n",
       "        vertical-align: middle;\n",
       "    }\n",
       "\n",
       "    .dataframe tbody tr th {\n",
       "        vertical-align: top;\n",
       "    }\n",
       "\n",
       "    .dataframe thead th {\n",
       "        text-align: right;\n",
       "    }\n",
       "</style>\n",
       "<table border=\"1\" class=\"dataframe\">\n",
       "  <thead>\n",
       "    <tr style=\"text-align: right;\">\n",
       "      <th></th>\n",
       "      <th>Name</th>\n",
       "      <th>Sales</th>\n",
       "      <th>Date</th>\n",
       "      <th>month</th>\n",
       "    </tr>\n",
       "  </thead>\n",
       "  <tbody>\n",
       "    <tr>\n",
       "      <th>498</th>\n",
       "      <td>Shae Buggs</td>\n",
       "      <td>1258970</td>\n",
       "      <td>2020-01-17</td>\n",
       "      <td>January</td>\n",
       "    </tr>\n",
       "  </tbody>\n",
       "</table>\n",
       "</div>"
      ],
      "text/plain": [
       "           Name    Sales       Date    month\n",
       "498  Shae Buggs  1258970 2020-01-17  January"
      ]
     },
     "execution_count": 69,
     "metadata": {},
     "output_type": "execute_result"
    }
   ],
   "source": [
    "df_shae.head(1)"
   ]
  },
  {
   "cell_type": "code",
   "execution_count": 75,
   "id": "78a21cbb",
   "metadata": {},
   "outputs": [],
   "source": [
    "grouped_shae =  pd.DataFrame(df_shae.groupby(df_one[\"month\"])[\"Sales\"].sum()).reset_index()\n",
    "grouped_linnea =  pd.DataFrame(df_linnea.groupby(df_one[\"month\"])[\"Sales\"].sum()).reset_index()"
   ]
  },
  {
   "cell_type": "code",
   "execution_count": 76,
   "id": "d6149b77",
   "metadata": {},
   "outputs": [],
   "source": [
    "grouped_shae[\"month\"] = grouped_shae[\"month\"].apply(lambda a : dt.strptime(a, \"%B\"))\n",
    "grouped_linnea[\"month\"] = grouped_linnea[\"month\"].apply(lambda a : dt.strptime(a, \"%B\"))"
   ]
  },
  {
   "cell_type": "code",
   "execution_count": 77,
   "id": "d44f6a01",
   "metadata": {},
   "outputs": [],
   "source": [
    "grouped_shae.sort_values(by = \"month\", inplace = True)\n",
    "grouped_linnea.sort_values(by = \"month\", inplace = True)"
   ]
  },
  {
   "cell_type": "code",
   "execution_count": 78,
   "id": "99df9c8d",
   "metadata": {},
   "outputs": [],
   "source": [
    "grouped_shae[\"month\"] = grouped_shae[\"month\"].apply(lambda a : a.strftime(\"%B\"))\n",
    "grouped_linnea[\"month\"] = grouped_linnea[\"month\"].apply(lambda a : a.strftime(\"%B\"))"
   ]
  },
  {
   "cell_type": "code",
   "execution_count": 79,
   "id": "55e74a6c",
   "metadata": {},
   "outputs": [
    {
     "data": {
      "text/html": [
       "<div>\n",
       "<style scoped>\n",
       "    .dataframe tbody tr th:only-of-type {\n",
       "        vertical-align: middle;\n",
       "    }\n",
       "\n",
       "    .dataframe tbody tr th {\n",
       "        vertical-align: top;\n",
       "    }\n",
       "\n",
       "    .dataframe thead th {\n",
       "        text-align: right;\n",
       "    }\n",
       "</style>\n",
       "<table border=\"1\" class=\"dataframe\">\n",
       "  <thead>\n",
       "    <tr style=\"text-align: right;\">\n",
       "      <th></th>\n",
       "      <th>month</th>\n",
       "      <th>Sales</th>\n",
       "    </tr>\n",
       "  </thead>\n",
       "  <tbody>\n",
       "    <tr>\n",
       "      <th>3</th>\n",
       "      <td>January</td>\n",
       "      <td>1508856</td>\n",
       "    </tr>\n",
       "  </tbody>\n",
       "</table>\n",
       "</div>"
      ],
      "text/plain": [
       "     month    Sales\n",
       "3  January  1508856"
      ]
     },
     "execution_count": 79,
     "metadata": {},
     "output_type": "execute_result"
    }
   ],
   "source": [
    "grouped_shae.head(1)"
   ]
  },
  {
   "cell_type": "code",
   "execution_count": 94,
   "id": "7b2ece40",
   "metadata": {},
   "outputs": [
    {
     "data": {
      "image/png": "[encoded data removed]",
      "text/plain": [
       "<Figure size 1080x432 with 1 Axes>"
      ]
     },
     "metadata": {
      "needs_background": "light"
     },
     "output_type": "display_data"
    }
   ],
   "source": [
    "plt.figure(figsize = (15, 6))\n",
    "plt.plot(grouped_shae[\"month\"], grouped_shae[\"Sales\"], linewidth = 2, alpha = 0.80, color = \"dodgerblue\", label = \"Shae Buggs\")\n",
    "plt.plot(grouped_linnea[\"month\"], grouped_linnea[\"Sales\"], linewidth = 2, alpha = 1, color = \"#a33f34\", label = \"Linnea Molton\")\n",
    "\n",
    "plt.title(\"Agent Sales Trend\", fontsize = 20, pad = 20)\n",
    "plt.xlabel(\"Month\", size = 15)\n",
    "plt.ylabel(\"Sales\", size = 15)\n",
    "\n",
    "plt.legend(loc = \"best\", shadow = True)\n",
    "plt.show()"
   ]
  },
  {
   "cell_type": "code",
   "execution_count": null,
   "id": "67468caf",
   "metadata": {},
   "outputs": [],
   "source": []
  },
  {
   "cell_type": "code",
   "execution_count": null,
   "id": "7ae63580",
   "metadata": {},
   "outputs": [],
   "source": []
  },
  {
   "cell_type": "code",
   "execution_count": null,
   "id": "91d97305",
   "metadata": {},
   "outputs": [],
   "source": []
  }
 ],
 "metadata": {
  "kernelspec": {
   "display_name": "Python 3 (ipykernel)",
   "language": "python",
   "name": "python3"
  },
  "language_info": {
   "codemirror_mode": {
    "name": "ipython",
    "version": 3
   },
   "file_extension": ".py",
   "mimetype": "text/x-python",
   "name": "python",
   "nbconvert_exporter": "python",
   "pygments_lexer": "ipython3",
   "version": "3.8.12"
  }
 },
 "nbformat": 4,
 "nbformat_minor": 5
}
