{
 "cells": [
  {
   "cell_type": "code",
   "execution_count": 41,
   "id": "d1c38659",
   "metadata": {},
   "outputs": [],
   "source": [
    "import pandas as pd\n",
    "import numpy as np\n",
    "import random as rd\n",
    "from datetime import datetime as dt"
   ]
  },
  {
   "cell_type": "code",
   "execution_count": 42,
   "id": "2ce69276",
   "metadata": {},
   "outputs": [],
   "source": [
    "def get_football_team(n_players, mean_shoe, mean_jersey):\n",
    "    shoe_sizes = np.random.normal(size = n_players, loc = mean_shoe, scale =.10 * mean_shoe)\n",
    "    jersey_sizes = mean_jersey / mean_shoe * shoe_sizes + np.random.normal(size = n_players, scale = .05 * mean_jersey)\n",
    "    \n",
    "    return shoe_sizes, jersey_sizes"
   ]
  },
  {
   "cell_type": "code",
   "execution_count": 43,
   "id": "ddb7d067",
   "metadata": {},
   "outputs": [
    {
     "data": {
      "text/plain": [
       "array([44.11468378, 49.80239502, 45.64912507, 44.59570295, 51.75616047,\n",
       "       52.48023055, 36.30547885, 43.38460017, 43.46610106])"
      ]
     },
     "execution_count": 43,
     "metadata": {},
     "output_type": "execute_result"
    }
   ],
   "source": [
    "players = ['Messi', 'Cristiano', 'Maradona', 'Pele', 'Ronaldo DeLima', 'Zinedine Zidane', 'Thierry Henry', 'Samuel Eto', 'Ruud Van Nistelrooy']\n",
    "\n",
    "shoes, jerseys = get_football_team(len(players), 46, 11)\n",
    "shoes\n"
   ]
  },
  {
   "cell_type": "code",
   "execution_count": 44,
   "id": "0ceeefc3",
   "metadata": {},
   "outputs": [
    {
     "data": {
      "text/plain": [
       "array([10.00561887, 11.36750197,  9.68435238, 10.89901249, 12.59618155,\n",
       "       12.45636959,  8.39013342,  9.92010285,  9.94108995])"
      ]
     },
     "execution_count": 44,
     "metadata": {},
     "output_type": "execute_result"
    }
   ],
   "source": [
    "jerseys"
   ]
  },
  {
   "cell_type": "code",
   "execution_count": 47,
   "id": "4b708c64",
   "metadata": {},
   "outputs": [
    {
     "data": {
      "text/html": [
       "<div>\n",
       "<style scoped>\n",
       "    .dataframe tbody tr th:only-of-type {\n",
       "        vertical-align: middle;\n",
       "    }\n",
       "\n",
       "    .dataframe tbody tr th {\n",
       "        vertical-align: top;\n",
       "    }\n",
       "\n",
       "    .dataframe thead th {\n",
       "        text-align: right;\n",
       "    }\n",
       "</style>\n",
       "<table border=\"1\" class=\"dataframe\">\n",
       "  <thead>\n",
       "    <tr style=\"text-align: right;\">\n",
       "      <th></th>\n",
       "      <th>shoe</th>\n",
       "      <th>jerseys</th>\n",
       "    </tr>\n",
       "  </thead>\n",
       "  <tbody>\n",
       "    <tr>\n",
       "      <th>Messi</th>\n",
       "      <td>44.114684</td>\n",
       "      <td>10.005619</td>\n",
       "    </tr>\n",
       "    <tr>\n",
       "      <th>Cristiano</th>\n",
       "      <td>49.802395</td>\n",
       "      <td>11.367502</td>\n",
       "    </tr>\n",
       "    <tr>\n",
       "      <th>Maradona</th>\n",
       "      <td>45.649125</td>\n",
       "      <td>9.684352</td>\n",
       "    </tr>\n",
       "    <tr>\n",
       "      <th>Pele</th>\n",
       "      <td>44.595703</td>\n",
       "      <td>10.899012</td>\n",
       "    </tr>\n",
       "    <tr>\n",
       "      <th>Ronaldo DeLima</th>\n",
       "      <td>51.756160</td>\n",
       "      <td>12.596182</td>\n",
       "    </tr>\n",
       "    <tr>\n",
       "      <th>Zinedine Zidane</th>\n",
       "      <td>52.480231</td>\n",
       "      <td>12.456370</td>\n",
       "    </tr>\n",
       "    <tr>\n",
       "      <th>Thierry Henry</th>\n",
       "      <td>36.305479</td>\n",
       "      <td>8.390133</td>\n",
       "    </tr>\n",
       "    <tr>\n",
       "      <th>Samuel Eto</th>\n",
       "      <td>43.384600</td>\n",
       "      <td>9.920103</td>\n",
       "    </tr>\n",
       "    <tr>\n",
       "      <th>Ruud Van Nistelrooy</th>\n",
       "      <td>43.466101</td>\n",
       "      <td>9.941090</td>\n",
       "    </tr>\n",
       "  </tbody>\n",
       "</table>\n",
       "</div>"
      ],
      "text/plain": [
       "                          shoe    jerseys\n",
       "Messi                44.114684  10.005619\n",
       "Cristiano            49.802395  11.367502\n",
       "Maradona             45.649125   9.684352\n",
       "Pele                 44.595703  10.899012\n",
       "Ronaldo DeLima       51.756160  12.596182\n",
       "Zinedine Zidane      52.480231  12.456370\n",
       "Thierry Henry        36.305479   8.390133\n",
       "Samuel Eto           43.384600   9.920103\n",
       "Ruud Van Nistelrooy  43.466101   9.941090"
      ]
     },
     "execution_count": 47,
     "metadata": {},
     "output_type": "execute_result"
    }
   ],
   "source": [
    "pd.DataFrame(index = players, data = { 'shoe': shoes, 'jerseys': jerseys})"
   ]
  },
  {
   "cell_type": "code",
   "execution_count": 48,
   "id": "b6203b9b",
   "metadata": {},
   "outputs": [
    {
     "data": {
      "text/html": [
       "<div>\n",
       "<style scoped>\n",
       "    .dataframe tbody tr th:only-of-type {\n",
       "        vertical-align: middle;\n",
       "    }\n",
       "\n",
       "    .dataframe tbody tr th {\n",
       "        vertical-align: top;\n",
       "    }\n",
       "\n",
       "    .dataframe thead th {\n",
       "        text-align: right;\n",
       "    }\n",
       "</style>\n",
       "<table border=\"1\" class=\"dataframe\">\n",
       "  <thead>\n",
       "    <tr style=\"text-align: right;\">\n",
       "      <th></th>\n",
       "      <th>shoesize</th>\n",
       "      <th>jersey</th>\n",
       "    </tr>\n",
       "  </thead>\n",
       "  <tbody>\n",
       "    <tr>\n",
       "      <th>Messi</th>\n",
       "      <td>44.114684</td>\n",
       "      <td>10.005619</td>\n",
       "    </tr>\n",
       "    <tr>\n",
       "      <th>Cristiano</th>\n",
       "      <td>49.802395</td>\n",
       "      <td>11.367502</td>\n",
       "    </tr>\n",
       "    <tr>\n",
       "      <th>Maradona</th>\n",
       "      <td>45.649125</td>\n",
       "      <td>9.684352</td>\n",
       "    </tr>\n",
       "    <tr>\n",
       "      <th>Pele</th>\n",
       "      <td>44.595703</td>\n",
       "      <td>10.899012</td>\n",
       "    </tr>\n",
       "    <tr>\n",
       "      <th>Ronaldo DeLima</th>\n",
       "      <td>51.756160</td>\n",
       "      <td>12.596182</td>\n",
       "    </tr>\n",
       "    <tr>\n",
       "      <th>Zinedine Zidane</th>\n",
       "      <td>52.480231</td>\n",
       "      <td>12.456370</td>\n",
       "    </tr>\n",
       "    <tr>\n",
       "      <th>Thierry Henry</th>\n",
       "      <td>36.305479</td>\n",
       "      <td>8.390133</td>\n",
       "    </tr>\n",
       "    <tr>\n",
       "      <th>Samuel Eto</th>\n",
       "      <td>43.384600</td>\n",
       "      <td>9.920103</td>\n",
       "    </tr>\n",
       "    <tr>\n",
       "      <th>Ruud Van Nistelrooy</th>\n",
       "      <td>43.466101</td>\n",
       "      <td>9.941090</td>\n",
       "    </tr>\n",
       "  </tbody>\n",
       "</table>\n",
       "</div>"
      ],
      "text/plain": [
       "                      shoesize     jersey\n",
       "Messi                44.114684  10.005619\n",
       "Cristiano            49.802395  11.367502\n",
       "Maradona             45.649125   9.684352\n",
       "Pele                 44.595703  10.899012\n",
       "Ronaldo DeLima       51.756160  12.596182\n",
       "Zinedine Zidane      52.480231  12.456370\n",
       "Thierry Henry        36.305479   8.390133\n",
       "Samuel Eto           43.384600   9.920103\n",
       "Ruud Van Nistelrooy  43.466101   9.941090"
      ]
     },
     "execution_count": 48,
     "metadata": {},
     "output_type": "execute_result"
    }
   ],
   "source": [
    "data = pd.DataFrame(index = players, data = zip(shoes, jerseys), columns = ['shoesize', 'jersey'])\n",
    "data"
   ]
  },
  {
   "cell_type": "code",
   "execution_count": 49,
   "id": "1a3e6fcc",
   "metadata": {},
   "outputs": [
    {
     "data": {
      "text/plain": [
       "[39, 39, 38, 32, 33, 39, 39, 30, 38]"
      ]
     },
     "execution_count": 49,
     "metadata": {},
     "output_type": "execute_result"
    }
   ],
   "source": [
    "ages = [rd.choice(range(30, 40)) for i in players]\n",
    "ages"
   ]
  },
  {
   "cell_type": "code",
   "execution_count": 50,
   "id": "0d7dff2c",
   "metadata": {},
   "outputs": [],
   "source": [
    "data['ages'] = ages"
   ]
  },
  {
   "cell_type": "code",
   "execution_count": 51,
   "id": "17d2ea0c",
   "metadata": {},
   "outputs": [
    {
     "data": {
      "text/html": [
       "<div>\n",
       "<style scoped>\n",
       "    .dataframe tbody tr th:only-of-type {\n",
       "        vertical-align: middle;\n",
       "    }\n",
       "\n",
       "    .dataframe tbody tr th {\n",
       "        vertical-align: top;\n",
       "    }\n",
       "\n",
       "    .dataframe thead th {\n",
       "        text-align: right;\n",
       "    }\n",
       "</style>\n",
       "<table border=\"1\" class=\"dataframe\">\n",
       "  <thead>\n",
       "    <tr style=\"text-align: right;\">\n",
       "      <th></th>\n",
       "      <th>shoesize</th>\n",
       "      <th>jersey</th>\n",
       "      <th>ages</th>\n",
       "    </tr>\n",
       "  </thead>\n",
       "  <tbody>\n",
       "    <tr>\n",
       "      <th>Messi</th>\n",
       "      <td>44.114684</td>\n",
       "      <td>10.005619</td>\n",
       "      <td>39</td>\n",
       "    </tr>\n",
       "    <tr>\n",
       "      <th>Cristiano</th>\n",
       "      <td>49.802395</td>\n",
       "      <td>11.367502</td>\n",
       "      <td>39</td>\n",
       "    </tr>\n",
       "    <tr>\n",
       "      <th>Maradona</th>\n",
       "      <td>45.649125</td>\n",
       "      <td>9.684352</td>\n",
       "      <td>38</td>\n",
       "    </tr>\n",
       "    <tr>\n",
       "      <th>Pele</th>\n",
       "      <td>44.595703</td>\n",
       "      <td>10.899012</td>\n",
       "      <td>32</td>\n",
       "    </tr>\n",
       "    <tr>\n",
       "      <th>Ronaldo DeLima</th>\n",
       "      <td>51.756160</td>\n",
       "      <td>12.596182</td>\n",
       "      <td>33</td>\n",
       "    </tr>\n",
       "    <tr>\n",
       "      <th>Zinedine Zidane</th>\n",
       "      <td>52.480231</td>\n",
       "      <td>12.456370</td>\n",
       "      <td>39</td>\n",
       "    </tr>\n",
       "    <tr>\n",
       "      <th>Thierry Henry</th>\n",
       "      <td>36.305479</td>\n",
       "      <td>8.390133</td>\n",
       "      <td>39</td>\n",
       "    </tr>\n",
       "    <tr>\n",
       "      <th>Samuel Eto</th>\n",
       "      <td>43.384600</td>\n",
       "      <td>9.920103</td>\n",
       "      <td>30</td>\n",
       "    </tr>\n",
       "    <tr>\n",
       "      <th>Ruud Van Nistelrooy</th>\n",
       "      <td>43.466101</td>\n",
       "      <td>9.941090</td>\n",
       "      <td>38</td>\n",
       "    </tr>\n",
       "  </tbody>\n",
       "</table>\n",
       "</div>"
      ],
      "text/plain": [
       "                      shoesize     jersey  ages\n",
       "Messi                44.114684  10.005619    39\n",
       "Cristiano            49.802395  11.367502    39\n",
       "Maradona             45.649125   9.684352    38\n",
       "Pele                 44.595703  10.899012    32\n",
       "Ronaldo DeLima       51.756160  12.596182    33\n",
       "Zinedine Zidane      52.480231  12.456370    39\n",
       "Thierry Henry        36.305479   8.390133    39\n",
       "Samuel Eto           43.384600   9.920103    30\n",
       "Ruud Van Nistelrooy  43.466101   9.941090    38"
      ]
     },
     "execution_count": 51,
     "metadata": {},
     "output_type": "execute_result"
    }
   ],
   "source": [
    "data"
   ]
  },
  {
   "cell_type": "code",
   "execution_count": 52,
   "id": "8adda087",
   "metadata": {},
   "outputs": [
    {
     "data": {
      "text/plain": [
       "shoesize    44.114684\n",
       "jersey      10.005619\n",
       "ages        39.000000\n",
       "Name: Messi, dtype: float64"
      ]
     },
     "execution_count": 52,
     "metadata": {},
     "output_type": "execute_result"
    }
   ],
   "source": [
    "data.loc['Messi']"
   ]
  },
  {
   "cell_type": "code",
   "execution_count": 53,
   "id": "672a6e27",
   "metadata": {},
   "outputs": [
    {
     "data": {
      "text/plain": [
       "shoesize    49.802395\n",
       "jersey      11.367502\n",
       "ages        39.000000\n",
       "Name: Cristiano, dtype: float64"
      ]
     },
     "execution_count": 53,
     "metadata": {},
     "output_type": "execute_result"
    }
   ],
   "source": [
    "data.iloc[1]"
   ]
  },
  {
   "cell_type": "code",
   "execution_count": 54,
   "id": "ecfc6063",
   "metadata": {},
   "outputs": [
    {
     "data": {
      "text/html": [
       "<div>\n",
       "<style scoped>\n",
       "    .dataframe tbody tr th:only-of-type {\n",
       "        vertical-align: middle;\n",
       "    }\n",
       "\n",
       "    .dataframe tbody tr th {\n",
       "        vertical-align: top;\n",
       "    }\n",
       "\n",
       "    .dataframe thead th {\n",
       "        text-align: right;\n",
       "    }\n",
       "</style>\n",
       "<table border=\"1\" class=\"dataframe\">\n",
       "  <thead>\n",
       "    <tr style=\"text-align: right;\">\n",
       "      <th></th>\n",
       "      <th>shoesize</th>\n",
       "      <th>jersey</th>\n",
       "      <th>ages</th>\n",
       "    </tr>\n",
       "  </thead>\n",
       "  <tbody>\n",
       "    <tr>\n",
       "      <th>Messi</th>\n",
       "      <td>44.114684</td>\n",
       "      <td>10.005619</td>\n",
       "      <td>39</td>\n",
       "    </tr>\n",
       "    <tr>\n",
       "      <th>Maradona</th>\n",
       "      <td>45.649125</td>\n",
       "      <td>9.684352</td>\n",
       "      <td>38</td>\n",
       "    </tr>\n",
       "  </tbody>\n",
       "</table>\n",
       "</div>"
      ],
      "text/plain": [
       "           shoesize     jersey  ages\n",
       "Messi     44.114684  10.005619    39\n",
       "Maradona  45.649125   9.684352    38"
      ]
     },
     "execution_count": 54,
     "metadata": {},
     "output_type": "execute_result"
    }
   ],
   "source": [
    "data.loc[['Messi', 'Maradona']]"
   ]
  },
  {
   "cell_type": "code",
   "execution_count": 55,
   "id": "a3e352b4",
   "metadata": {},
   "outputs": [
    {
     "data": {
      "text/plain": [
       "Messi       39\n",
       "Maradona    38\n",
       "Name: ages, dtype: int64"
      ]
     },
     "execution_count": 55,
     "metadata": {},
     "output_type": "execute_result"
    }
   ],
   "source": [
    "data.loc[['Messi', 'Maradona'], 'ages']"
   ]
  },
  {
   "cell_type": "code",
   "execution_count": 64,
   "id": "6ef0199a",
   "metadata": {},
   "outputs": [
    {
     "name": "stdout",
     "output_type": "stream",
     "text": [
      "<class 'pandas.core.frame.DataFrame'>\n",
      "Index: 10 entries, Messi to Collins\n",
      "Data columns (total 2 columns):\n",
      " #   Column    Non-Null Count  Dtype  \n",
      "---  ------    --------------  -----  \n",
      " 0   shoesize  10 non-null     float64\n",
      " 1   jersey    10 non-null     float64\n",
      "dtypes: float64(2)\n",
      "memory usage: 540.0+ bytes\n",
      "\n",
      "    \n",
      " None, \n",
      "\n",
      "    \n",
      " Messi                  27.060151\n",
      "Cristiano              30.584948\n",
      "Maradona               27.666739\n",
      "Pele                   27.747358\n",
      "Ronaldo DeLima         32.176171\n",
      "Zinedine Zidane        32.468300\n",
      "Thierry Henry          22.347806\n",
      "Samuel Eto             26.652352\n",
      "Ruud Van Nistelrooy    26.703596\n",
      "Collins                25.500000\n",
      "dtype: float64, \n",
      "\n",
      "    \n",
      " shoesize   jersey   \n",
      "36.305479  8.390133     1\n",
      "42.000000  9.000000     1\n",
      "43.384600  9.920103     1\n",
      "43.466101  9.941090     1\n",
      "44.114684  10.005619    1\n",
      "44.595703  10.899012    1\n",
      "45.649125  9.684352     1\n",
      "49.802395  11.367502    1\n",
      "51.756160  12.596182    1\n",
      "52.480231  12.456370    1\n",
      "dtype: int64, \n",
      "\n",
      "    \n",
      " shoesize    42.0\n",
      "jersey       9.0\n",
      "Name: Collins, dtype: float64 \n",
      "\n",
      "\n"
     ]
    }
   ],
   "source": [
    "data.loc['Collins'] = {'jersey': 9, 'shoesize': 42, 'ages': 93}\n",
    "print(f\"\"\"\n",
    "    \\n {data.info()}, \\n\n",
    "    \\n {data.mean(1)}, \\n\n",
    "    \\n {data.value_counts()}, \\n\n",
    "    \\n {data.loc['Collins']} \\n\n",
    "\"\"\")\n"
   ]
  },
  {
   "cell_type": "code",
   "execution_count": 65,
   "id": "2e1b95d0",
   "metadata": {},
   "outputs": [
    {
     "data": {
      "text/html": [
       "<div>\n",
       "<style scoped>\n",
       "    .dataframe tbody tr th:only-of-type {\n",
       "        vertical-align: middle;\n",
       "    }\n",
       "\n",
       "    .dataframe tbody tr th {\n",
       "        vertical-align: top;\n",
       "    }\n",
       "\n",
       "    .dataframe thead th {\n",
       "        text-align: right;\n",
       "    }\n",
       "</style>\n",
       "<table border=\"1\" class=\"dataframe\">\n",
       "  <thead>\n",
       "    <tr style=\"text-align: right;\">\n",
       "      <th></th>\n",
       "      <th>age</th>\n",
       "      <th>gender</th>\n",
       "    </tr>\n",
       "  </thead>\n",
       "  <tbody>\n",
       "    <tr>\n",
       "      <th>Maya</th>\n",
       "      <td>28</td>\n",
       "      <td>male</td>\n",
       "    </tr>\n",
       "    <tr>\n",
       "      <th>DiMarco</th>\n",
       "      <td>24</td>\n",
       "      <td>female</td>\n",
       "    </tr>\n",
       "    <tr>\n",
       "      <th>Montrezz</th>\n",
       "      <td>28</td>\n",
       "      <td>female</td>\n",
       "    </tr>\n",
       "    <tr>\n",
       "      <th>Filipa</th>\n",
       "      <td>21</td>\n",
       "      <td>male</td>\n",
       "    </tr>\n",
       "    <tr>\n",
       "      <th>Mina</th>\n",
       "      <td>27</td>\n",
       "      <td>female</td>\n",
       "    </tr>\n",
       "  </tbody>\n",
       "</table>\n",
       "</div>"
      ],
      "text/plain": [
       "          age  gender\n",
       "Maya       28    male\n",
       "DiMarco    24  female\n",
       "Montrezz   28  female\n",
       "Filipa     21    male\n",
       "Mina       27  female"
      ]
     },
     "execution_count": 65,
     "metadata": {},
     "output_type": "execute_result"
    }
   ],
   "source": [
    "names = [\"Maya\", 'DiMarco', 'Montrezz', 'Filipa', 'Mina']\n",
    "age = [rd.choice(range(21, 31)) for i in names]\n",
    "gender = [rd.choice(['male', 'female']) for i in players]\n",
    "\n",
    "data = pd.DataFrame(index = names, data = zip(age, gender), columns = {'age', 'gender'})\n",
    "data"
   ]
  },
  {
   "cell_type": "code",
   "execution_count": 66,
   "id": "313d830c",
   "metadata": {},
   "outputs": [
    {
     "data": {
      "text/plain": [
       "25.6"
      ]
     },
     "execution_count": 66,
     "metadata": {},
     "output_type": "execute_result"
    }
   ],
   "source": [
    "data.age.mean()"
   ]
  },
  {
   "cell_type": "code",
   "execution_count": 67,
   "id": "1e9d7a11",
   "metadata": {},
   "outputs": [
    {
     "data": {
      "text/plain": [
       "female    3\n",
       "male      2\n",
       "Name: gender, dtype: int64"
      ]
     },
     "execution_count": 67,
     "metadata": {},
     "output_type": "execute_result"
    }
   ],
   "source": [
    "data.gender.value_counts()"
   ]
  },
  {
   "cell_type": "markdown",
   "id": "accfeadc",
   "metadata": {},
   "source": [
    "##### Opening files with pandas"
   ]
  },
  {
   "cell_type": "code",
   "execution_count": 68,
   "id": "96fc1b41",
   "metadata": {},
   "outputs": [
    {
     "data": {
      "text/html": [
       "<div>\n",
       "<style scoped>\n",
       "    .dataframe tbody tr th:only-of-type {\n",
       "        vertical-align: middle;\n",
       "    }\n",
       "\n",
       "    .dataframe tbody tr th {\n",
       "        vertical-align: top;\n",
       "    }\n",
       "\n",
       "    .dataframe thead th {\n",
       "        text-align: right;\n",
       "    }\n",
       "</style>\n",
       "<table border=\"1\" class=\"dataframe\">\n",
       "  <thead>\n",
       "    <tr style=\"text-align: right;\">\n",
       "      <th></th>\n",
       "      <th>name</th>\n",
       "      <th>sales</th>\n",
       "      <th>date</th>\n",
       "    </tr>\n",
       "  </thead>\n",
       "  <tbody>\n",
       "    <tr>\n",
       "      <th>0</th>\n",
       "      <td>Sebastian Waite</td>\n",
       "      <td>607193</td>\n",
       "      <td>1/1/2020</td>\n",
       "    </tr>\n",
       "    <tr>\n",
       "      <th>1</th>\n",
       "      <td>Lizzie Haggins</td>\n",
       "      <td>1171366</td>\n",
       "      <td>1/1/2020</td>\n",
       "    </tr>\n",
       "    <tr>\n",
       "      <th>2</th>\n",
       "      <td>Ima Gaudreau</td>\n",
       "      <td>941504</td>\n",
       "      <td>1/1/2020</td>\n",
       "    </tr>\n",
       "    <tr>\n",
       "      <th>3</th>\n",
       "      <td>Leticia Michelsen</td>\n",
       "      <td>721826</td>\n",
       "      <td>1/1/2020</td>\n",
       "    </tr>\n",
       "    <tr>\n",
       "      <th>4</th>\n",
       "      <td>Stanley Margolin</td>\n",
       "      <td>904494</td>\n",
       "      <td>1/1/2020</td>\n",
       "    </tr>\n",
       "  </tbody>\n",
       "</table>\n",
       "</div>"
      ],
      "text/plain": [
       "                 name    sales      date\n",
       "0    Sebastian Waite    607193  1/1/2020\n",
       "1     Lizzie Haggins   1171366  1/1/2020\n",
       "2       Ima Gaudreau    941504  1/1/2020\n",
       "3  Leticia Michelsen    721826  1/1/2020\n",
       "4   Stanley Margolin    904494  1/1/2020"
      ]
     },
     "execution_count": 68,
     "metadata": {},
     "output_type": "execute_result"
    }
   ],
   "source": [
    "dataset = pd.read_csv(\"../fileInpOut/ecorp data.csv\")\n",
    "dataset.head()"
   ]
  },
  {
   "cell_type": "code",
   "execution_count": 69,
   "id": "0dad3375",
   "metadata": {},
   "outputs": [
    {
     "name": "stdout",
     "output_type": "stream",
     "text": [
      "<class 'pandas.core.frame.DataFrame'>\n",
      "RangeIndex: 10050 entries, 0 to 10049\n",
      "Data columns (total 3 columns):\n",
      " #   Column  Non-Null Count  Dtype \n",
      "---  ------  --------------  ----- \n",
      " 0   name    10050 non-null  object\n",
      " 1   sales   10050 non-null  int64 \n",
      " 2   date    10050 non-null  object\n",
      "dtypes: int64(1), object(2)\n",
      "memory usage: 235.7+ KB\n"
     ]
    }
   ],
   "source": [
    "dataset.info()"
   ]
  },
  {
   "cell_type": "code",
   "execution_count": 70,
   "id": "fb3dfd7d",
   "metadata": {},
   "outputs": [],
   "source": [
    "new_date = pd.DatetimeIndex(dataset.date)\n",
    "dataset['month'] = new_date.month"
   ]
  },
  {
   "cell_type": "code",
   "execution_count": 72,
   "id": "fc169899",
   "metadata": {},
   "outputs": [
    {
     "data": {
      "text/plain": [
       "655183239"
      ]
     },
     "execution_count": 72,
     "metadata": {},
     "output_type": "execute_result"
    }
   ],
   "source": [
    "jan_sales = dataset[dataset['month'] == 1].sales\n",
    "sum(jan_sales)"
   ]
  },
  {
   "cell_type": "code",
   "execution_count": 73,
   "id": "94be2f9e",
   "metadata": {},
   "outputs": [
    {
     "data": {
      "text/html": [
       "<div>\n",
       "<style scoped>\n",
       "    .dataframe tbody tr th:only-of-type {\n",
       "        vertical-align: middle;\n",
       "    }\n",
       "\n",
       "    .dataframe tbody tr th {\n",
       "        vertical-align: top;\n",
       "    }\n",
       "\n",
       "    .dataframe thead th {\n",
       "        text-align: right;\n",
       "    }\n",
       "</style>\n",
       "<table border=\"1\" class=\"dataframe\">\n",
       "  <thead>\n",
       "    <tr style=\"text-align: right;\">\n",
       "      <th></th>\n",
       "      <th>sales</th>\n",
       "    </tr>\n",
       "    <tr>\n",
       "      <th>month</th>\n",
       "      <th></th>\n",
       "    </tr>\n",
       "  </thead>\n",
       "  <tbody>\n",
       "    <tr>\n",
       "      <th>1</th>\n",
       "      <td>655183239</td>\n",
       "    </tr>\n",
       "    <tr>\n",
       "      <th>2</th>\n",
       "      <td>635788599</td>\n",
       "    </tr>\n",
       "    <tr>\n",
       "      <th>3</th>\n",
       "      <td>663589193</td>\n",
       "    </tr>\n",
       "    <tr>\n",
       "      <th>4</th>\n",
       "      <td>656047811</td>\n",
       "    </tr>\n",
       "    <tr>\n",
       "      <th>5</th>\n",
       "      <td>686790421</td>\n",
       "    </tr>\n",
       "    <tr>\n",
       "      <th>6</th>\n",
       "      <td>639247236</td>\n",
       "    </tr>\n",
       "    <tr>\n",
       "      <th>7</th>\n",
       "      <td>651061643</td>\n",
       "    </tr>\n",
       "    <tr>\n",
       "      <th>8</th>\n",
       "      <td>681564905</td>\n",
       "    </tr>\n",
       "    <tr>\n",
       "      <th>9</th>\n",
       "      <td>660549418</td>\n",
       "    </tr>\n",
       "    <tr>\n",
       "      <th>10</th>\n",
       "      <td>644783452</td>\n",
       "    </tr>\n",
       "    <tr>\n",
       "      <th>11</th>\n",
       "      <td>654405687</td>\n",
       "    </tr>\n",
       "    <tr>\n",
       "      <th>12</th>\n",
       "      <td>246458509</td>\n",
       "    </tr>\n",
       "  </tbody>\n",
       "</table>\n",
       "</div>"
      ],
      "text/plain": [
       "           sales\n",
       "month           \n",
       "1      655183239\n",
       "2      635788599\n",
       "3      663589193\n",
       "4      656047811\n",
       "5      686790421\n",
       "6      639247236\n",
       "7      651061643\n",
       "8      681564905\n",
       "9      660549418\n",
       "10     644783452\n",
       "11     654405687\n",
       "12     246458509"
      ]
     },
     "execution_count": 73,
     "metadata": {},
     "output_type": "execute_result"
    }
   ],
   "source": [
    "monthlySales = dataset.groupby('month').sum()\n",
    "monthlySales"
   ]
  },
  {
   "cell_type": "code",
   "execution_count": 74,
   "id": "4ff6c113",
   "metadata": {},
   "outputs": [
    {
     "data": {
      "text/html": [
       "<div>\n",
       "<style scoped>\n",
       "    .dataframe tbody tr th:only-of-type {\n",
       "        vertical-align: middle;\n",
       "    }\n",
       "\n",
       "    .dataframe tbody tr th {\n",
       "        vertical-align: top;\n",
       "    }\n",
       "\n",
       "    .dataframe thead th {\n",
       "        text-align: right;\n",
       "    }\n",
       "</style>\n",
       "<table border=\"1\" class=\"dataframe\">\n",
       "  <thead>\n",
       "    <tr style=\"text-align: right;\">\n",
       "      <th></th>\n",
       "      <th>name</th>\n",
       "      <th>sales</th>\n",
       "      <th>date</th>\n",
       "    </tr>\n",
       "    <tr>\n",
       "      <th>month</th>\n",
       "      <th></th>\n",
       "      <th></th>\n",
       "      <th></th>\n",
       "    </tr>\n",
       "  </thead>\n",
       "  <tbody>\n",
       "    <tr>\n",
       "      <th>1</th>\n",
       "      <td>879</td>\n",
       "      <td>879</td>\n",
       "      <td>879</td>\n",
       "    </tr>\n",
       "    <tr>\n",
       "      <th>2</th>\n",
       "      <td>883</td>\n",
       "      <td>883</td>\n",
       "      <td>883</td>\n",
       "    </tr>\n",
       "    <tr>\n",
       "      <th>3</th>\n",
       "      <td>898</td>\n",
       "      <td>898</td>\n",
       "      <td>898</td>\n",
       "    </tr>\n",
       "    <tr>\n",
       "      <th>4</th>\n",
       "      <td>884</td>\n",
       "      <td>884</td>\n",
       "      <td>884</td>\n",
       "    </tr>\n",
       "    <tr>\n",
       "      <th>5</th>\n",
       "      <td>927</td>\n",
       "      <td>927</td>\n",
       "      <td>927</td>\n",
       "    </tr>\n",
       "    <tr>\n",
       "      <th>6</th>\n",
       "      <td>856</td>\n",
       "      <td>856</td>\n",
       "      <td>856</td>\n",
       "    </tr>\n",
       "    <tr>\n",
       "      <th>7</th>\n",
       "      <td>862</td>\n",
       "      <td>862</td>\n",
       "      <td>862</td>\n",
       "    </tr>\n",
       "    <tr>\n",
       "      <th>8</th>\n",
       "      <td>929</td>\n",
       "      <td>929</td>\n",
       "      <td>929</td>\n",
       "    </tr>\n",
       "    <tr>\n",
       "      <th>9</th>\n",
       "      <td>875</td>\n",
       "      <td>875</td>\n",
       "      <td>875</td>\n",
       "    </tr>\n",
       "    <tr>\n",
       "      <th>10</th>\n",
       "      <td>853</td>\n",
       "      <td>853</td>\n",
       "      <td>853</td>\n",
       "    </tr>\n",
       "    <tr>\n",
       "      <th>11</th>\n",
       "      <td>861</td>\n",
       "      <td>861</td>\n",
       "      <td>861</td>\n",
       "    </tr>\n",
       "    <tr>\n",
       "      <th>12</th>\n",
       "      <td>343</td>\n",
       "      <td>343</td>\n",
       "      <td>343</td>\n",
       "    </tr>\n",
       "  </tbody>\n",
       "</table>\n",
       "</div>"
      ],
      "text/plain": [
       "       name  sales  date\n",
       "month                   \n",
       "1       879    879   879\n",
       "2       883    883   883\n",
       "3       898    898   898\n",
       "4       884    884   884\n",
       "5       927    927   927\n",
       "6       856    856   856\n",
       "7       862    862   862\n",
       "8       929    929   929\n",
       "9       875    875   875\n",
       "10      853    853   853\n",
       "11      861    861   861\n",
       "12      343    343   343"
      ]
     },
     "execution_count": 74,
     "metadata": {},
     "output_type": "execute_result"
    }
   ],
   "source": [
    "monthlySales = dataset.groupby('month').count()\n",
    "monthlySales"
   ]
  },
  {
   "cell_type": "code",
   "execution_count": 98,
   "id": "bff71d39",
   "metadata": {},
   "outputs": [
    {
     "data": {
      "text/html": [
       "<div>\n",
       "<style scoped>\n",
       "    .dataframe tbody tr th:only-of-type {\n",
       "        vertical-align: middle;\n",
       "    }\n",
       "\n",
       "    .dataframe tbody tr th {\n",
       "        vertical-align: top;\n",
       "    }\n",
       "\n",
       "    .dataframe thead th {\n",
       "        text-align: right;\n",
       "    }\n",
       "</style>\n",
       "<table border=\"1\" class=\"dataframe\">\n",
       "  <thead>\n",
       "    <tr style=\"text-align: right;\">\n",
       "      <th></th>\n",
       "      <th>sales</th>\n",
       "      <th>month</th>\n",
       "    </tr>\n",
       "    <tr>\n",
       "      <th>name</th>\n",
       "      <th></th>\n",
       "      <th></th>\n",
       "    </tr>\n",
       "  </thead>\n",
       "  <tbody>\n",
       "    <tr>\n",
       "      <th>Aaron Killingsworth</th>\n",
       "      <td>19507476</td>\n",
       "      <td>164</td>\n",
       "    </tr>\n",
       "    <tr>\n",
       "      <th>Adam Riggleman</th>\n",
       "      <td>287649</td>\n",
       "      <td>11</td>\n",
       "    </tr>\n",
       "    <tr>\n",
       "      <th>Adeline Mey</th>\n",
       "      <td>7190988</td>\n",
       "      <td>77</td>\n",
       "    </tr>\n",
       "    <tr>\n",
       "      <th>Adrianna Sweetland</th>\n",
       "      <td>19639165</td>\n",
       "      <td>138</td>\n",
       "    </tr>\n",
       "    <tr>\n",
       "      <th>Adriene Gauldin</th>\n",
       "      <td>13862581</td>\n",
       "      <td>102</td>\n",
       "    </tr>\n",
       "    <tr>\n",
       "      <th>...</th>\n",
       "      <td>...</td>\n",
       "      <td>...</td>\n",
       "    </tr>\n",
       "    <tr>\n",
       "      <th>Zella Blahnik</th>\n",
       "      <td>742769</td>\n",
       "      <td>9</td>\n",
       "    </tr>\n",
       "    <tr>\n",
       "      <th>Zenaida Israel</th>\n",
       "      <td>21394436</td>\n",
       "      <td>184</td>\n",
       "    </tr>\n",
       "    <tr>\n",
       "      <th>Zola Gaus</th>\n",
       "      <td>15839678</td>\n",
       "      <td>168</td>\n",
       "    </tr>\n",
       "    <tr>\n",
       "      <th>Zora Lodge</th>\n",
       "      <td>8904010</td>\n",
       "      <td>88</td>\n",
       "    </tr>\n",
       "    <tr>\n",
       "      <th>Zoraida Gertner</th>\n",
       "      <td>11475370</td>\n",
       "      <td>93</td>\n",
       "    </tr>\n",
       "  </tbody>\n",
       "</table>\n",
       "<p>549 rows × 2 columns</p>\n",
       "</div>"
      ],
      "text/plain": [
       "                         sales  month\n",
       "name                                 \n",
       "Aaron Killingsworth   19507476    164\n",
       "Adam Riggleman          287649     11\n",
       "Adeline Mey            7190988     77\n",
       "Adrianna Sweetland    19639165    138\n",
       "Adriene Gauldin       13862581    102\n",
       "...                        ...    ...\n",
       "Zella Blahnik           742769      9\n",
       "Zenaida Israel        21394436    184\n",
       "Zola Gaus             15839678    168\n",
       "Zora Lodge             8904010     88\n",
       "Zoraida Gertner       11475370     93\n",
       "\n",
       "[549 rows x 2 columns]"
      ]
     },
     "execution_count": 98,
     "metadata": {},
     "output_type": "execute_result"
    }
   ],
   "source": [
    "agent_totalSales = dataset.groupby('name').sum()\n",
    "agent_totalSales"
   ]
  },
  {
   "cell_type": "code",
   "execution_count": 93,
   "id": "64a2273f",
   "metadata": {},
   "outputs": [
    {
     "data": {
      "text/html": [
       "<div>\n",
       "<style scoped>\n",
       "    .dataframe tbody tr th:only-of-type {\n",
       "        vertical-align: middle;\n",
       "    }\n",
       "\n",
       "    .dataframe tbody tr th {\n",
       "        vertical-align: top;\n",
       "    }\n",
       "\n",
       "    .dataframe thead th {\n",
       "        text-align: right;\n",
       "    }\n",
       "</style>\n",
       "<table border=\"1\" class=\"dataframe\">\n",
       "  <thead>\n",
       "    <tr style=\"text-align: right;\">\n",
       "      <th></th>\n",
       "      <th>sales</th>\n",
       "      <th>month</th>\n",
       "    </tr>\n",
       "    <tr>\n",
       "      <th>name</th>\n",
       "      <th></th>\n",
       "      <th></th>\n",
       "    </tr>\n",
       "  </thead>\n",
       "  <tbody>\n",
       "    <tr>\n",
       "      <th>Shae Buggs</th>\n",
       "      <td>26302482</td>\n",
       "      <td>176</td>\n",
       "    </tr>\n",
       "    <tr>\n",
       "      <th>Linnea Molton</th>\n",
       "      <td>24737049</td>\n",
       "      <td>169</td>\n",
       "    </tr>\n",
       "    <tr>\n",
       "      <th>Jerrod Lemonds</th>\n",
       "      <td>24185171</td>\n",
       "      <td>179</td>\n",
       "    </tr>\n",
       "    <tr>\n",
       "      <th>Georgine Aigner</th>\n",
       "      <td>23973581</td>\n",
       "      <td>141</td>\n",
       "    </tr>\n",
       "    <tr>\n",
       "      <th>Bettina Panetta</th>\n",
       "      <td>23905250</td>\n",
       "      <td>175</td>\n",
       "    </tr>\n",
       "    <tr>\n",
       "      <th>...</th>\n",
       "      <td>...</td>\n",
       "      <td>...</td>\n",
       "    </tr>\n",
       "    <tr>\n",
       "      <th>Niki Millar</th>\n",
       "      <td>70328</td>\n",
       "      <td>4</td>\n",
       "    </tr>\n",
       "    <tr>\n",
       "      <th>Letitia Gan</th>\n",
       "      <td>59730</td>\n",
       "      <td>3</td>\n",
       "    </tr>\n",
       "    <tr>\n",
       "      <th>Una Loll</th>\n",
       "      <td>59284</td>\n",
       "      <td>1</td>\n",
       "    </tr>\n",
       "    <tr>\n",
       "      <th>Trudy Hennis</th>\n",
       "      <td>56588</td>\n",
       "      <td>3</td>\n",
       "    </tr>\n",
       "    <tr>\n",
       "      <th>Darby Nakken</th>\n",
       "      <td>12552</td>\n",
       "      <td>8</td>\n",
       "    </tr>\n",
       "  </tbody>\n",
       "</table>\n",
       "<p>549 rows × 2 columns</p>\n",
       "</div>"
      ],
      "text/plain": [
       "                     sales  month\n",
       "name                             \n",
       "Shae Buggs        26302482    176\n",
       "Linnea Molton     24737049    169\n",
       "Jerrod Lemonds    24185171    179\n",
       "Georgine Aigner   23973581    141\n",
       "Bettina Panetta   23905250    175\n",
       "...                    ...    ...\n",
       "Niki Millar          70328      4\n",
       "Letitia Gan          59730      3\n",
       "Una Loll             59284      1\n",
       "Trudy Hennis         56588      3\n",
       "Darby Nakken         12552      8\n",
       "\n",
       "[549 rows x 2 columns]"
      ]
     },
     "execution_count": 93,
     "metadata": {},
     "output_type": "execute_result"
    }
   ],
   "source": [
    "agent_totalSales.sort_values('sales', ascending = False )"
   ]
  },
  {
   "cell_type": "code",
   "execution_count": 95,
   "id": "f76c9e75",
   "metadata": {},
   "outputs": [
    {
     "data": {
      "text/plain": [
       "name\n",
       "Aaron Killingsworth     19507476\n",
       "Adam Riggleman            287649\n",
       "Adeline Mey              7190988\n",
       "Adrianna Sweetland      19639165\n",
       "Adriene Gauldin         13862581\n",
       "                          ...   \n",
       "Zella Blahnik             742769\n",
       "Zenaida Israel          21394436\n",
       "Zola Gaus               15839678\n",
       "Zora Lodge               8904010\n",
       "Zoraida Gertner         11475370\n",
       "Name: sales, Length: 549, dtype: int64"
      ]
     },
     "execution_count": 95,
     "metadata": {},
     "output_type": "execute_result"
    }
   ],
   "source": [
    "agent_totalSales['sales']"
   ]
  },
  {
   "cell_type": "code",
   "execution_count": 99,
   "id": "cf17cdfb",
   "metadata": {},
   "outputs": [
    {
     "data": {
      "text/plain": [
       "461"
      ]
     },
     "execution_count": 99,
     "metadata": {},
     "output_type": "execute_result"
    }
   ],
   "source": [
    "agent_saleslist = agent_totalSales['sales']\n",
    "agent_saleslist.argmax()"
   ]
  },
  {
   "cell_type": "code",
   "execution_count": 100,
   "id": "13852315",
   "metadata": {},
   "outputs": [
    {
     "data": {
      "text/plain": [
       "26302482"
      ]
     },
     "execution_count": 100,
     "metadata": {},
     "output_type": "execute_result"
    }
   ],
   "source": [
    "agent_saleslist.iloc[461]"
   ]
  },
  {
   "cell_type": "code",
   "execution_count": 101,
   "id": "ff62a684",
   "metadata": {},
   "outputs": [
    {
     "data": {
      "text/plain": [
       "'Shae Buggs '"
      ]
     },
     "execution_count": 101,
     "metadata": {},
     "output_type": "execute_result"
    }
   ],
   "source": [
    "agent_saleslist.index[461]"
   ]
  },
  {
   "cell_type": "code",
   "execution_count": 109,
   "id": "76d9eac4",
   "metadata": {},
   "outputs": [
    {
     "data": {
      "text/html": [
       "<div>\n",
       "<style scoped>\n",
       "    .dataframe tbody tr th:only-of-type {\n",
       "        vertical-align: middle;\n",
       "    }\n",
       "\n",
       "    .dataframe tbody tr th {\n",
       "        vertical-align: top;\n",
       "    }\n",
       "\n",
       "    .dataframe thead th {\n",
       "        text-align: right;\n",
       "    }\n",
       "</style>\n",
       "<table border=\"1\" class=\"dataframe\">\n",
       "  <thead>\n",
       "    <tr style=\"text-align: right;\">\n",
       "      <th></th>\n",
       "      <th></th>\n",
       "      <th>sales</th>\n",
       "    </tr>\n",
       "    <tr>\n",
       "      <th>name</th>\n",
       "      <th>month</th>\n",
       "      <th></th>\n",
       "    </tr>\n",
       "  </thead>\n",
       "  <tbody>\n",
       "    <tr>\n",
       "      <th rowspan=\"5\" valign=\"top\">Aaron Killingsworth</th>\n",
       "      <th>1</th>\n",
       "      <td>2286768</td>\n",
       "    </tr>\n",
       "    <tr>\n",
       "      <th>2</th>\n",
       "      <td>1270823</td>\n",
       "    </tr>\n",
       "    <tr>\n",
       "      <th>3</th>\n",
       "      <td>874816</td>\n",
       "    </tr>\n",
       "    <tr>\n",
       "      <th>4</th>\n",
       "      <td>3000688</td>\n",
       "    </tr>\n",
       "    <tr>\n",
       "      <th>5</th>\n",
       "      <td>1547557</td>\n",
       "    </tr>\n",
       "    <tr>\n",
       "      <th>...</th>\n",
       "      <th>...</th>\n",
       "      <td>...</td>\n",
       "    </tr>\n",
       "    <tr>\n",
       "      <th rowspan=\"5\" valign=\"top\">Zoraida Gertner</th>\n",
       "      <th>5</th>\n",
       "      <td>877376</td>\n",
       "    </tr>\n",
       "    <tr>\n",
       "      <th>6</th>\n",
       "      <td>1383690</td>\n",
       "    </tr>\n",
       "    <tr>\n",
       "      <th>7</th>\n",
       "      <td>237819</td>\n",
       "    </tr>\n",
       "    <tr>\n",
       "      <th>10</th>\n",
       "      <td>2662930</td>\n",
       "    </tr>\n",
       "    <tr>\n",
       "      <th>11</th>\n",
       "      <td>1690600</td>\n",
       "    </tr>\n",
       "  </tbody>\n",
       "</table>\n",
       "<p>4802 rows × 1 columns</p>\n",
       "</div>"
      ],
      "text/plain": [
       "                              sales\n",
       "name                 month         \n",
       "Aaron Killingsworth  1      2286768\n",
       "                     2      1270823\n",
       "                     3       874816\n",
       "                     4      3000688\n",
       "                     5      1547557\n",
       "...                             ...\n",
       "Zoraida Gertner      5       877376\n",
       "                     6      1383690\n",
       "                     7       237819\n",
       "                     10     2662930\n",
       "                     11     1690600\n",
       "\n",
       "[4802 rows x 1 columns]"
      ]
     },
     "execution_count": 109,
     "metadata": {},
     "output_type": "execute_result"
    }
   ],
   "source": [
    "name_monthdata = dataset.groupby(['name', 'month']).sum() \n",
    "name_monthdata"
   ]
  },
  {
   "cell_type": "code",
   "execution_count": null,
   "id": "9541bfec",
   "metadata": {},
   "outputs": [],
   "source": []
  },
  {
   "cell_type": "code",
   "execution_count": null,
   "id": "edb03618",
   "metadata": {},
   "outputs": [],
   "source": []
  },
  {
   "cell_type": "code",
   "execution_count": null,
   "id": "b109a1d7",
   "metadata": {},
   "outputs": [],
   "source": []
  },
  {
   "cell_type": "code",
   "execution_count": null,
   "id": "8f795c83",
   "metadata": {},
   "outputs": [],
   "source": []
  }
 ],
 "metadata": {
  "kernelspec": {
   "display_name": "Python 3 (ipykernel)",
   "language": "python",
   "name": "python3"
  },
  "language_info": {
   "codemirror_mode": {
    "name": "ipython",
    "version": 3
   },
   "file_extension": ".py",
   "mimetype": "text/x-python",
   "name": "python",
   "nbconvert_exporter": "python",
   "pygments_lexer": "ipython3",
   "version": "3.9.5"
  }
 },
 "nbformat": 4,
 "nbformat_minor": 5
}
